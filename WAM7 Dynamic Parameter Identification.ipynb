{
 "cells": [
  {
   "cell_type": "markdown",
   "metadata": {},
   "source": [
    "Experimental Identification of Physically Feasible Dynamic Parameters of the 7-link WAM™ Robot using LMI–SDP Techniques\n",
    "=======================================================================================================================\n",
    "\n",
    "[![DOI](https://zenodo.org/badge/920/cdsousa/wam7_dyn_ident.png)](http://dx.doi.org/10.5281/zenodo.10537)\n",
    "\n",
    "*Experimental code and data associated with the paper:*\n",
    "\n",
    "**Cristóvão D. Sousa and Rui Cortesão, \"Physical feasibility of robot base inertial parameter identification: A linear matrix inequality approach,\" The International Journal of Robotics Research, vol. 33, no. 6, pp. 931–944, May. 2014, doi: [10.1177/0278364913514870](http://dx.doi.org/10.1177/0278364913514870)**\n",
    "\n",
    "[Postprint availabe from ResearchGate](http://www.researchgate.net/publication/262483999_Physical_feasibility_of_robot_base_inertial_parameter_identification_A_linear_matrix_inequality_approach)\n",
    "\n",
    "------------------------\n",
    "\n",
    "\n",
    "Authors\n",
    "-------\n",
    "\n",
    "- Cristóvão D. Sousa, [crisjss@gmail.com](mailto:crisjss@gmail.com)\n",
    "- Rui Cortesão, [cortesao@isr.uc.pt](mailto:cortesao@isr.uc.pt)\n",
    "\n",
    "------------------------\n",
    "\n",
    "\n",
    "Research Notebook\n",
    "-----------------\n",
    "\n",
    "The research is done in [Python](http://www.python.org/) within an [IPython notebook](http://ipython.org/notebook.html) (the *WAM7 Dynamic Parameter Identification.ipynb* file).\n",
    "Data is in *data* folder. Additional Python support code is in *support_funcs* folder.\n",
    "\n",
    "The file *WAM7 Dynamic Parameter Identification.html* is a **preview** of the notebook. **It can be seen online at:**\n",
    "\n",
    "**[Experimental WAM Robot Dynamic Identification with LMI](http://goo.gl/dOPj8j)**\n",
    "\n",
    "\n",
    "\n",
    "How to run the code\n",
    "-------------------\n",
    "\n",
    "- clone the git repository (it contains code and data) from https://github.com/cdsousa/wam7_dyn_ident\n",
    "- open the *WAM7 Dynamic Parameter Identification.ipynb* notebook with [IPython](http://ipython.org/)\n",
    "- edit and run the code\n",
    "\n",
    "Dependencies:\n",
    "\n",
    "- [Python](http://www.python.org/)\n",
    "- [IPython](http://ipython.org/)\n",
    "- [SymPy](http://sympy.org/)\n",
    "- [Numpy](http://www.numpy.org/)\n",
    "- [SciPy](http://www.scipy.org/)\n",
    "- [SymPyBotics](https://github.com/cdsousa/SymPyBotics)\n",
    "- [PyLMI-SDP](https://github.com/cdsousa/PyLMI-SDP)\n",
    "\n",
    "------------------------\n",
    "\n",
    "\n",
    "Questions & Feedback\n",
    "--------------------\n",
    "\n",
    "Feel free to contact the authors at [crisjss@gmail.com](mailto:crisjss@gmail.com)\n",
    "\n",
    "------------------------\n",
    "\n",
    "\n",
    "License\n",
    "-------\n",
    "\n",
    "Copyright (c) 2013, Cristóvão Duarte Sousa, Rui Cortesão\n",
    "\n",
    "All rights reserved.\n",
    "\n",
    "[![Creative Commons License](http://i.creativecommons.org/l/by-nc-sa/4.0/88x31.png)](http://creativecommons.org/licenses/by-nc-sa/4.0/)\n",
    "This work is licensed under a [Creative Commons Attribution-NonCommercial-ShareAlike 4.0 International License](http://creativecommons.org/licenses/by-nc-sa/4.0/)\n"
   ]
  },
  {
   "cell_type": "markdown",
   "metadata": {},
   "source": [
    "---------------\n",
    "\n",
    "---------------\n",
    "\n",
    "---------------\n",
    "\n",
    "---------------"
   ]
  },
  {
   "cell_type": "markdown",
   "metadata": {},
   "source": [
    "# Initializations"
   ]
  },
  {
   "cell_type": "code",
   "execution_count": 1,
   "metadata": {},
   "outputs": [],
   "source": [
    "datafolder = 'data/'\n",
    "tmpfolder = 'tmp/'"
   ]
  },
  {
   "cell_type": "code",
   "execution_count": 8,
   "metadata": {},
   "outputs": [
    {
     "name": "stdout",
     "output_type": "stream",
     "text": [
      "Populating the interactive namespace from numpy and matplotlib\n"
     ]
    }
   ],
   "source": [
    "from sympy import init_printing\n",
    "init_printing()\n",
    "\n",
    "%pylab inline"
   ]
  },
  {
   "cell_type": "markdown",
   "metadata": {},
   "source": [
    "1 - Robot Model\n",
    "==============="
   ]
  },
  {
   "cell_type": "code",
   "execution_count": 2,
   "metadata": {},
   "outputs": [],
   "source": [
    "import sympybotics"
   ]
  },
  {
   "cell_type": "markdown",
   "metadata": {},
   "source": [
    "#### Robot Definition"
   ]
  },
  {
   "cell_type": "code",
   "execution_count": 4,
   "metadata": {},
   "outputs": [],
   "source": [
    "rbtdef = sympybotics.RobotDef(\"WAM Arm 7 DOF\",\n",
    "            [(\"-pi/2\", 0, 0, \"q\"),\n",
    "             (\"pi/2\", 0, 0, \"q\"),\n",
    "             (\"-pi/2\", 0.045, 0.55, \"q\"),\n",
    "             (\"pi/2\", -0.045, 0, \"q\"),\n",
    "             (\"-pi/2\", 0, 0.3, \"q\"),\n",
    "             (\"pi/2\", 0, 0, \"q\"),\n",
    "             (0, 0, 0.06, \"q\")],\n",
    "            dh_convention=\"standard\")\n",
    "\n",
    "rbtdef.frictionmodel = {'Coulomb', 'viscous', 'offset'}\n",
    "rbtdef.driveinertiamodel = 'simplified'"
   ]
  },
  {
   "cell_type": "markdown",
   "metadata": {},
   "source": [
    "#### Model Generation"
   ]
  },
  {
   "cell_type": "code",
   "execution_count": 7,
   "metadata": {},
   "outputs": [
    {
     "name": "stdout",
     "output_type": "stream",
     "text": [
      "Wall time: 12.9 s\n",
      "Wall time: 7.1 s\n"
     ]
    }
   ],
   "source": [
    "%time rbt = sympybotics.RobotDynCode(rbtdef)\n",
    "%time rbt.calc_base_parms()"
   ]
  },
  {
   "cell_type": "code",
   "execution_count": 13,
   "metadata": {},
   "outputs": [],
   "source": [
    "import pickle\n",
    "with open(tmpfolder + 'robotmodels/wam7_model.pkl', 'wb') as file:\n",
    "    pickle.dump( rbt, file )"
   ]
  },
  {
   "cell_type": "markdown",
   "metadata": {},
   "source": [
    "## Base Dynamic Parameters"
   ]
  },
  {
   "cell_type": "code",
   "execution_count": 3,
   "metadata": {},
   "outputs": [],
   "source": [
    "import pickle\n",
    "with open(tmpfolder +  'robotmodels/wam7_model.pkl', 'rb' ) as file:\n",
    "          rbt = pickle.load( file )"
   ]
  },
  {
   "cell_type": "code",
   "execution_count": 12,
   "metadata": {},
   "outputs": [
    {
     "data": {
      "text/plain": [
       "(98, 69)"
      ]
     },
     "execution_count": 12,
     "metadata": {},
     "output_type": "execute_result"
    }
   ],
   "source": [
    "rbt.dyn.n_dynparms, rbt.dyn.n_base"
   ]
  },
  {
   "cell_type": "code",
   "execution_count": 13,
   "metadata": {},
   "outputs": [
    {
     "name": "stdout",
     "output_type": "stream",
     "text": [
      "Matrix([[Ia_1 + L_1yy + L_2zz], [fv_1], [fc_1], [fo_1], [L_2xx - L_2zz + L_3zz - 1.1*l_3y + 0.300475*m_3 + 0.300475*m_4 + 0.300475*m_5 + 0.300475*m_6 + 0.300475*m_7], [L_2xy], [L_2xz], [Ia_2 + L_2yy + L_3zz - 1.1*l_3y + 0.300475*m_3 + 0.300475*m_4 + 0.300475*m_5 + 0.300475*m_6 + 0.300475*m_7], [L_2yz], [l_2x], [l_2z - l_3y + 0.55*m_3 + 0.55*m_4 + 0.55*m_5 + 0.55*m_6 + 0.55*m_7], [fv_2], [fc_2], [fo_2], [L_3xx - L_3zz + L_4zz + 0.002025*m_3], [L_3xy - 0.045*l_3y], [L_3xz], [L_3yy + L_4zz - 0.002025*m_3 - 0.00405*m_4 - 0.00405*m_5 - 0.00405*m_6 - 0.00405*m_7], [L_3yz], [l_3x + 0.045*m_3 + 0.045*m_4 + 0.045*m_5 + 0.045*m_6 + 0.045*m_7], [l_3z + l_4y], [Ia_3], [fv_3], [fc_3], [fo_3], [L_4xx - L_4zz + L_5zz - 0.6*l_5y + 0.002025*m_4 + 0.092025*m_5 + 0.092025*m_6 + 0.092025*m_7], [L_4xy + 0.045*l_4y], [L_4xz], [L_4yy + L_5zz - 0.6*l_5y - 0.002025*m_4 + 0.087975*m_5 + 0.087975*m_6 + 0.087975*m_7], [L_4yz], [l_4x - 0.045*m_4 - 0.045*m_5 - 0.045*m_6 - 0.045*m_7], [l_4z - l_5y + 0.3*m_5 + 0.3*m_6 + 0.3*m_7], [Ia_4], [fv_4], [fc_4], [fo_4], [L_5xx - L_5zz + L_6zz], [L_5xy], [L_5xz], [L_5yy + L_6zz], [L_5yz], [l_5x], [l_5z + l_6y], [Ia_5], [fv_5], [fc_5], [fo_5], [L_6xx - L_6zz + L_7yy + 0.12*l_7z + 0.0036*m_7], [L_6xy], [L_6xz], [L_6yy + L_7yy + 0.12*l_7z + 0.0036*m_7], [L_6yz], [l_6x], [l_6z + l_7z + 0.06*m_7], [Ia_6], [fv_6], [fc_6], [fo_6], [L_7xx - L_7yy], [L_7xy], [L_7xz], [L_7yz], [L_7zz], [l_7x], [l_7y], [Ia_7], [fv_7], [fc_7], [fo_7]])\n"
     ]
    }
   ],
   "source": [
    "print(rbt.dyn.baseparms.n())"
   ]
  },
  {
   "cell_type": "markdown",
   "metadata": {},
   "source": [
    "2 - Trajectories and Recorded Data\n",
    "=================================="
   ]
  },
  {
   "cell_type": "code",
   "execution_count": 52,
   "metadata": {},
   "outputs": [],
   "source": [
    "import pickle\n",
    "import sympybotics\n",
    "import numpy"
   ]
  },
  {
   "cell_type": "code",
   "execution_count": 53,
   "metadata": {},
   "outputs": [],
   "source": [
    "with open(tmpfolder +  'robotmodels/wam7_model.pkl', 'rb' ) as file:\n",
    "          rbt = pickle.load( file )"
   ]
  },
  {
   "cell_type": "markdown",
   "metadata": {},
   "source": [
    "### Plots"
   ]
  },
  {
   "cell_type": "code",
   "execution_count": 276,
   "metadata": {},
   "outputs": [],
   "source": [
    "parms_traj = 'traj1'\n",
    "\n",
    "with open(datafolder +  'trajectories/%s_shwfl_abq0.pkl'%parms_traj, 'rb' ) as file:\n",
    "          s_h_wf_l, a_b_q0 = pickle.load(file)"
   ]
  },
  {
   "cell_type": "code",
   "execution_count": 277,
   "metadata": {},
   "outputs": [],
   "source": [
    "h = 0.001\n",
    "decimate = 10\n",
    "h_plot = h*decimate\n",
    "\n",
    "with open(datafolder +  'trajectories/%s.dat'%parms_traj, 'r' ) as file:\n",
    "          q_ref_orig = numpy.loadtxt(file)\n",
    "s = q_ref_orig.shape[0] / decimate\n",
    "\n",
    "q_ref = numpy.zeros((s, rbt.dof))\n",
    "for i in range(s):\n",
    "    q_ref[i, :] = q_ref_orig[i*decimate, :]"
   ]
  },
  {
   "cell_type": "code",
   "execution_count": 278,
   "metadata": {},
   "outputs": [],
   "source": [
    "si = 1/h_plot\n",
    "sf = si + 20/h_plot\n",
    "t = numpy.arange(sf-si) * h_plot"
   ]
  },
  {
   "cell_type": "code",
   "execution_count": 279,
   "metadata": {},
   "outputs": [
    {
     "data": {
      "image/png": "[encoded data removed]",
      "text/plain": [
       "<matplotlib.figure.Figure at 0xc31f9d0>"
      ]
     },
     "metadata": {},
     "output_type": "display_data"
    }
   ],
   "source": [
    "from matplotlib import pyplot as plt\n",
    "plt.close()\n",
    "\n",
    "for i in range(rbt.dof):\n",
    "    plt.plot(t,q_ref[si:sf,i], label=\"$q_%d$\"%(i+1))\n",
    "plt.legend()\n",
    "\n",
    "plt.xlabel(\"Time (s)\")\n",
    "plt.ylabel(\"Joint positions (rad)\")\n",
    "\n",
    "plt.show()"
   ]
  },
  {
   "cell_type": "markdown",
   "metadata": {},
   "source": [
    "3 - Regression Data Processing\n",
    "=============================="
   ]
  },
  {
   "cell_type": "code",
   "execution_count": 14,
   "metadata": {},
   "outputs": [],
   "source": [
    "import os\n",
    "import pickle\n",
    "import math\n",
    "import sympy\n",
    "import numpy\n",
    "import sympybotics"
   ]
  },
  {
   "cell_type": "code",
   "execution_count": 1,
   "metadata": {},
   "outputs": [
    {
     "ename": "NameError",
     "evalue": "name 'tmpfolder' is not defined",
     "output_type": "error",
     "traceback": [
      "\u001b[1;31m---------------------------------------------------------------------------\u001b[0m",
      "\u001b[1;31mNameError\u001b[0m                                 Traceback (most recent call last)",
      "\u001b[1;32m<ipython-input-1-05868c09db16>\u001b[0m in \u001b[0;36m<module>\u001b[1;34m()\u001b[0m\n\u001b[1;32m----> 1\u001b[1;33m \u001b[1;32mwith\u001b[0m \u001b[0mopen\u001b[0m\u001b[1;33m(\u001b[0m\u001b[0mtmpfolder\u001b[0m \u001b[1;33m+\u001b[0m  \u001b[1;34m'robotmodels/wam7_model.pkl'\u001b[0m\u001b[1;33m,\u001b[0m \u001b[1;34m'rb'\u001b[0m \u001b[1;33m)\u001b[0m \u001b[1;32mas\u001b[0m \u001b[0mfile\u001b[0m\u001b[1;33m:\u001b[0m\u001b[1;33m\u001b[0m\u001b[0m\n\u001b[0m\u001b[0;32m      2\u001b[0m           \u001b[0mrbt\u001b[0m \u001b[1;33m=\u001b[0m \u001b[0mpickle\u001b[0m\u001b[1;33m.\u001b[0m\u001b[0mload\u001b[0m\u001b[1;33m(\u001b[0m \u001b[0mfile\u001b[0m \u001b[1;33m)\u001b[0m\u001b[1;33m\u001b[0m\u001b[0m\n",
      "\u001b[1;31mNameError\u001b[0m: name 'tmpfolder' is not defined"
     ]
    }
   ],
   "source": [
    "with open(tmpfolder +  'robotmodels/wam7_model.pkl', 'rb' ) as file:\n",
    "          rbt = pickle.load( file )"
   ]
  },
  {
   "cell_type": "markdown",
   "metadata": {},
   "source": [
    "### Data Load"
   ]
  },
  {
   "cell_type": "code",
   "execution_count": 15,
   "metadata": {},
   "outputs": [],
   "source": [
    "parms_traj = 'traj1'"
   ]
  },
  {
   "cell_type": "code",
   "execution_count": 282,
   "metadata": {},
   "outputs": [],
   "source": [
    "from support_funcs.regr_data_proc import read_data\n",
    "t_raw, q_raw, tau_raw, t_ref, q_ref = read_data( rbt.dof, 0.001,\n",
    "                                                datafolder + 'recdata/rbtlog_%s.dat'%parms_traj,\n",
    "                                                datafolder + 'trajectories/traj1.dat')"
   ]
  },
  {
   "cell_type": "markdown",
   "metadata": {},
   "source": [
    "### Some Plots"
   ]
  },
  {
   "cell_type": "code",
   "execution_count": 283,
   "metadata": {},
   "outputs": [
    {
     "data": {
      "image/png": "[encoded data removed]",
      "text/plain": [
       "<matplotlib.figure.Figure at 0xe558450>"
      ]
     },
     "metadata": {},
     "output_type": "display_data"
    }
   ],
   "source": [
    "from matplotlib import pyplot as plt\n",
    "plt.close()\n",
    "\n",
    "for i in range(q_raw.shape[1]):\n",
    "    plt.plot(t_raw,q_raw[:,i])\n",
    "\n",
    "plt.show()"
   ]
  },
  {
   "cell_type": "code",
   "execution_count": 284,
   "metadata": {},
   "outputs": [
    {
     "data": {
      "image/png": "[encoded data removed]",
      "text/plain": [
       "<matplotlib.figure.Figure at 0xc335ed0>"
      ]
     },
     "metadata": {},
     "output_type": "display_data"
    }
   ],
   "source": [
    "from matplotlib import pyplot as plt\n",
    "plt.close()\n",
    "\n",
    "joint = 7\n",
    "plt.plot(t_ref+0.20,q_ref[:,joint-1])\n",
    "plt.plot(t_raw,q_raw[:,joint-1])\n",
    "\n",
    "plt.show()"
   ]
  },
  {
   "cell_type": "code",
   "execution_count": 11,
   "metadata": {},
   "outputs": [],
   "source": [
    "del t_raw, q_raw, tau_raw, t_ref, q_ref"
   ]
  },
  {
   "cell_type": "markdown",
   "metadata": {},
   "source": [
    "### Parameter Load"
   ]
  },
  {
   "cell_type": "code",
   "execution_count": 16,
   "metadata": {},
   "outputs": [
    {
     "ename": "ImportError",
     "evalue": "No module named multiarray\r",
     "output_type": "error",
     "traceback": [
      "\u001b[1;31m---------------------------------------------------------------------------\u001b[0m",
      "\u001b[1;31mImportError\u001b[0m                               Traceback (most recent call last)",
      "\u001b[1;32m<ipython-input-16-17f150e33aee>\u001b[0m in \u001b[0;36m<module>\u001b[1;34m()\u001b[0m\n\u001b[0;32m      1\u001b[0m \u001b[1;32mwith\u001b[0m \u001b[0mopen\u001b[0m\u001b[1;33m(\u001b[0m\u001b[0mdatafolder\u001b[0m \u001b[1;33m+\u001b[0m  \u001b[1;34m'trajectories/%s_shwfl_abq0.pkl'\u001b[0m\u001b[1;33m%\u001b[0m\u001b[0mparms_traj\u001b[0m\u001b[1;33m,\u001b[0m \u001b[1;34m'rb'\u001b[0m \u001b[1;33m)\u001b[0m \u001b[1;32mas\u001b[0m \u001b[0mfile\u001b[0m\u001b[1;33m:\u001b[0m\u001b[1;33m\u001b[0m\u001b[0m\n\u001b[1;32m----> 2\u001b[1;33m           \u001b[0ms_h_wf_l\u001b[0m\u001b[1;33m,\u001b[0m \u001b[0ma_b_q0\u001b[0m \u001b[1;33m=\u001b[0m \u001b[0mpickle\u001b[0m\u001b[1;33m.\u001b[0m\u001b[0mload\u001b[0m\u001b[1;33m(\u001b[0m\u001b[0mfile\u001b[0m\u001b[1;33m)\u001b[0m\u001b[1;33m\u001b[0m\u001b[0m\n\u001b[0m\u001b[0;32m      3\u001b[0m \u001b[1;33m\u001b[0m\u001b[0m\n\u001b[0;32m      4\u001b[0m \u001b[1;32mprint\u001b[0m\u001b[1;33m(\u001b[0m\u001b[0mdict\u001b[0m\u001b[1;33m(\u001b[0m\u001b[0mzip\u001b[0m\u001b[1;33m(\u001b[0m\u001b[1;33m(\u001b[0m\u001b[1;34m'S'\u001b[0m\u001b[1;33m,\u001b[0m \u001b[1;34m'h'\u001b[0m\u001b[1;33m,\u001b[0m \u001b[1;34m'wf'\u001b[0m\u001b[1;33m,\u001b[0m \u001b[1;34m'L'\u001b[0m\u001b[1;33m)\u001b[0m\u001b[1;33m,\u001b[0m \u001b[0ms_h_wf_l\u001b[0m\u001b[1;33m)\u001b[0m\u001b[1;33m)\u001b[0m\u001b[1;33m)\u001b[0m\u001b[1;33m\u001b[0m\u001b[0m\n\u001b[0;32m      5\u001b[0m \u001b[1;32mprint\u001b[0m\u001b[1;33m(\u001b[0m\u001b[1;34m'\\n'\u001b[0m\u001b[1;33m)\u001b[0m\u001b[1;33m\u001b[0m\u001b[0m\n",
      "\u001b[1;32mC:\\Users\\RTX_Zhao\\anaconda3\\envs\\py27\\lib\\pickle.pyc\u001b[0m in \u001b[0;36mload\u001b[1;34m(file)\u001b[0m\n\u001b[0;32m   1382\u001b[0m \u001b[1;33m\u001b[0m\u001b[0m\n\u001b[0;32m   1383\u001b[0m \u001b[1;32mdef\u001b[0m \u001b[0mload\u001b[0m\u001b[1;33m(\u001b[0m\u001b[0mfile\u001b[0m\u001b[1;33m)\u001b[0m\u001b[1;33m:\u001b[0m\u001b[1;33m\u001b[0m\u001b[0m\n\u001b[1;32m-> 1384\u001b[1;33m     \u001b[1;32mreturn\u001b[0m \u001b[0mUnpickler\u001b[0m\u001b[1;33m(\u001b[0m\u001b[0mfile\u001b[0m\u001b[1;33m)\u001b[0m\u001b[1;33m.\u001b[0m\u001b[0mload\u001b[0m\u001b[1;33m(\u001b[0m\u001b[1;33m)\u001b[0m\u001b[1;33m\u001b[0m\u001b[0m\n\u001b[0m\u001b[0;32m   1385\u001b[0m \u001b[1;33m\u001b[0m\u001b[0m\n\u001b[0;32m   1386\u001b[0m \u001b[1;32mdef\u001b[0m \u001b[0mloads\u001b[0m\u001b[1;33m(\u001b[0m\u001b[0mstr\u001b[0m\u001b[1;33m)\u001b[0m\u001b[1;33m:\u001b[0m\u001b[1;33m\u001b[0m\u001b[0m\n",
      "\u001b[1;32mC:\\Users\\RTX_Zhao\\anaconda3\\envs\\py27\\lib\\pickle.pyc\u001b[0m in \u001b[0;36mload\u001b[1;34m(self)\u001b[0m\n\u001b[0;32m    862\u001b[0m             \u001b[1;32mwhile\u001b[0m \u001b[1;36m1\u001b[0m\u001b[1;33m:\u001b[0m\u001b[1;33m\u001b[0m\u001b[0m\n\u001b[0;32m    863\u001b[0m                 \u001b[0mkey\u001b[0m \u001b[1;33m=\u001b[0m \u001b[0mread\u001b[0m\u001b[1;33m(\u001b[0m\u001b[1;36m1\u001b[0m\u001b[1;33m)\u001b[0m\u001b[1;33m\u001b[0m\u001b[0m\n\u001b[1;32m--> 864\u001b[1;33m                 \u001b[0mdispatch\u001b[0m\u001b[1;33m[\u001b[0m\u001b[0mkey\u001b[0m\u001b[1;33m]\u001b[0m\u001b[1;33m(\u001b[0m\u001b[0mself\u001b[0m\u001b[1;33m)\u001b[0m\u001b[1;33m\u001b[0m\u001b[0m\n\u001b[0m\u001b[0;32m    865\u001b[0m         \u001b[1;32mexcept\u001b[0m \u001b[0m_Stop\u001b[0m\u001b[1;33m,\u001b[0m \u001b[0mstopinst\u001b[0m\u001b[1;33m:\u001b[0m\u001b[1;33m\u001b[0m\u001b[0m\n\u001b[0;32m    866\u001b[0m             \u001b[1;32mreturn\u001b[0m \u001b[0mstopinst\u001b[0m\u001b[1;33m.\u001b[0m\u001b[0mvalue\u001b[0m\u001b[1;33m\u001b[0m\u001b[0m\n",
      "\u001b[1;32mC:\\Users\\RTX_Zhao\\anaconda3\\envs\\py27\\lib\\pickle.pyc\u001b[0m in \u001b[0;36mload_global\u001b[1;34m(self)\u001b[0m\n\u001b[0;32m   1094\u001b[0m         \u001b[0mmodule\u001b[0m \u001b[1;33m=\u001b[0m \u001b[0mself\u001b[0m\u001b[1;33m.\u001b[0m\u001b[0mreadline\u001b[0m\u001b[1;33m(\u001b[0m\u001b[1;33m)\u001b[0m\u001b[1;33m[\u001b[0m\u001b[1;33m:\u001b[0m\u001b[1;33m-\u001b[0m\u001b[1;36m1\u001b[0m\u001b[1;33m]\u001b[0m\u001b[1;33m\u001b[0m\u001b[0m\n\u001b[0;32m   1095\u001b[0m         \u001b[0mname\u001b[0m \u001b[1;33m=\u001b[0m \u001b[0mself\u001b[0m\u001b[1;33m.\u001b[0m\u001b[0mreadline\u001b[0m\u001b[1;33m(\u001b[0m\u001b[1;33m)\u001b[0m\u001b[1;33m[\u001b[0m\u001b[1;33m:\u001b[0m\u001b[1;33m-\u001b[0m\u001b[1;36m1\u001b[0m\u001b[1;33m]\u001b[0m\u001b[1;33m\u001b[0m\u001b[0m\n\u001b[1;32m-> 1096\u001b[1;33m         \u001b[0mklass\u001b[0m \u001b[1;33m=\u001b[0m \u001b[0mself\u001b[0m\u001b[1;33m.\u001b[0m\u001b[0mfind_class\u001b[0m\u001b[1;33m(\u001b[0m\u001b[0mmodule\u001b[0m\u001b[1;33m,\u001b[0m \u001b[0mname\u001b[0m\u001b[1;33m)\u001b[0m\u001b[1;33m\u001b[0m\u001b[0m\n\u001b[0m\u001b[0;32m   1097\u001b[0m         \u001b[0mself\u001b[0m\u001b[1;33m.\u001b[0m\u001b[0mappend\u001b[0m\u001b[1;33m(\u001b[0m\u001b[0mklass\u001b[0m\u001b[1;33m)\u001b[0m\u001b[1;33m\u001b[0m\u001b[0m\n\u001b[0;32m   1098\u001b[0m     \u001b[0mdispatch\u001b[0m\u001b[1;33m[\u001b[0m\u001b[0mGLOBAL\u001b[0m\u001b[1;33m]\u001b[0m \u001b[1;33m=\u001b[0m \u001b[0mload_global\u001b[0m\u001b[1;33m\u001b[0m\u001b[0m\n",
      "\u001b[1;32mC:\\Users\\RTX_Zhao\\anaconda3\\envs\\py27\\lib\\pickle.pyc\u001b[0m in \u001b[0;36mfind_class\u001b[1;34m(self, module, name)\u001b[0m\n\u001b[0;32m   1128\u001b[0m     \u001b[1;32mdef\u001b[0m \u001b[0mfind_class\u001b[0m\u001b[1;33m(\u001b[0m\u001b[0mself\u001b[0m\u001b[1;33m,\u001b[0m \u001b[0mmodule\u001b[0m\u001b[1;33m,\u001b[0m \u001b[0mname\u001b[0m\u001b[1;33m)\u001b[0m\u001b[1;33m:\u001b[0m\u001b[1;33m\u001b[0m\u001b[0m\n\u001b[0;32m   1129\u001b[0m         \u001b[1;31m# Subclasses may override this\u001b[0m\u001b[1;33m\u001b[0m\u001b[1;33m\u001b[0m\u001b[0m\n\u001b[1;32m-> 1130\u001b[1;33m         \u001b[0m__import__\u001b[0m\u001b[1;33m(\u001b[0m\u001b[0mmodule\u001b[0m\u001b[1;33m)\u001b[0m\u001b[1;33m\u001b[0m\u001b[0m\n\u001b[0m\u001b[0;32m   1131\u001b[0m         \u001b[0mmod\u001b[0m \u001b[1;33m=\u001b[0m \u001b[0msys\u001b[0m\u001b[1;33m.\u001b[0m\u001b[0mmodules\u001b[0m\u001b[1;33m[\u001b[0m\u001b[0mmodule\u001b[0m\u001b[1;33m]\u001b[0m\u001b[1;33m\u001b[0m\u001b[0m\n\u001b[0;32m   1132\u001b[0m         \u001b[0mklass\u001b[0m \u001b[1;33m=\u001b[0m \u001b[0mgetattr\u001b[0m\u001b[1;33m(\u001b[0m\u001b[0mmod\u001b[0m\u001b[1;33m,\u001b[0m \u001b[0mname\u001b[0m\u001b[1;33m)\u001b[0m\u001b[1;33m\u001b[0m\u001b[0m\n",
      "\u001b[1;31mImportError\u001b[0m: No module named multiarray\r"
     ]
    }
   ],
   "source": [
    "with open(datafolder +  'trajectories/%s_shwfl_abq0.pkl'%parms_traj, 'rb' ) as file:\n",
    "          s_h_wf_l, a_b_q0 = pickle.load(file)\n",
    "\n",
    "print(dict(zip(('S', 'h', 'wf', 'L'), s_h_wf_l)))\n",
    "print('\\n')"
   ]
  },
  {
   "cell_type": "markdown",
   "metadata": {},
   "source": [
    "### Filter Cut-off Frequency Definition"
   ]
  },
  {
   "cell_type": "code",
   "execution_count": 14,
   "metadata": {},
   "outputs": [],
   "source": [
    "fc_mult = 10"
   ]
  },
  {
   "cell_type": "code",
   "execution_count": 15,
   "metadata": {},
   "outputs": [
    {
     "data": {
      "text/plain": [
       "2.5"
      ]
     },
     "execution_count": 15,
     "metadata": {},
     "output_type": "execute_result"
    }
   ],
   "source": [
    "wf = float(s_h_wf_l[2])\n",
    "L = float(s_h_wf_l[3])\n",
    "fc = fc_mult * ( wf / (2*math.pi) * L )\n",
    "fc"
   ]
  },
  {
   "cell_type": "code",
   "execution_count": 16,
   "metadata": {},
   "outputs": [],
   "source": [
    "fc_q = fc\n",
    "fc_dq = fc\n",
    "fc_ddq = fc\n",
    "\n",
    "fc_tau = float('Inf')  # fc\n",
    "\n",
    "si = int(3/0.001)\n",
    "sf = -int(1/0.001)"
   ]
  },
  {
   "cell_type": "markdown",
   "metadata": {},
   "source": [
    "### Data Filtering, Differentiation and Regression Data Generation"
   ]
  },
  {
   "cell_type": "code",
   "execution_count": 1,
   "metadata": {},
   "outputs": [
    {
     "name": "stdout",
     "output_type": "stream",
     "text": [
      "function [H] = regressor_func(q,dq,ddq)\n",
      "%%\n",
      "    x0 = -ddq(0);\n",
      "    x1 = -dq(0);\n",
      "    x2 = sin(q(1));\n",
      "    x3 = x1*x2;\n",
      "    x4 = dq(1)*x3;\n",
      "    x5 = -x4;\n",
      "    x6 = cos(q(1));\n",
      "    x7 = -x6;\n",
      "    x8 = x1*x7;\n",
      "    x9 = -x8;\n",
      "    x10 = dq(1)*x9;\n",
      "    x11 = x0*x2 + x10;\n",
      "    x12 = x3*x9;\n",
      "    x13 = dq(1)^2;\n",
      "    x14 = x3^2;\n",
      "    x15 = x0*x7 + x4;\n",
      "    x16 = x8^2;\n",
      "    x17 = x3*x8;\n",
      "    x18 = dq(1)*x8;\n",
      "    x19 = -9.81*x2;\n",
      "    x20 = -x19;\n",
      "    x21 = 9.81*x6;\n",
      "    x22 = cos(q(2));\n",
      "    x23 = dq(1)*x22;\n",
      "    x24 = sin(q(2));\n",
      "    x25 = x24*x3;\n",
      "    x26 = -x25;\n",
      "    x27 = x23 + x26;\n",
      "    x28 = -dq(2);\n",
      "    x29 = -x28;\n",
      "    x30 = ddq(1)*x24;\n",
      "    x31 = x11*x22;\n",
      "    x32 = x27*x29 + x30 + x31;\n",
      "    x33 = dq(1)*x24;\n",
      "    x34 = x22*x3;\n",
      "    x35 = x33 + x34;\n",
      "    x36 = -x35;\n",
      "    x37 = x28 + x9;\n",
      "    x38 = x36*x37;\n",
      "    x39 = -x24;\n",
      "    x40 = x27*x35;\n",
      "    x41 = -x40;\n",
      "    x42 = x27*x37;\n",
      "    x43 = x32 + x42;\n",
      "    x44 = -x43;\n",
      "    x45 = x35^2;\n",
      "    x46 = x37^2;\n",
      "    x47 = -x46;\n",
      "    x48 = x45 + x47;\n",
      "    x49 = -ddq(2) - x15;\n",
      "    x50 = x41 + x49;\n",
      "    x51 = -x42;\n",
      "    x52 = x32 + x51;\n",
      "    x53 = x35*x37;\n",
      "    x54 = x11*x24;\n",
      "    x55 = -x54;\n",
      "    x56 = ddq(1)*x22;\n",
      "    x57 = x28*x35 + x55 + x56;\n",
      "    x58 = x53 + x57;\n",
      "    x59 = x22*x58;\n",
      "    x60 = -x45;\n",
      "    x61 = x27^2;\n",
      "    x62 = -x60 - x61;\n",
      "    x63 = -x49;\n",
      "    x64 = -x38 - x57;\n",
      "    x65 = x40 + x49;\n",
      "    x66 = -x61;\n",
      "    x67 = x46 + x66;\n",
      "    x68 = -x41;\n",
      "    x69 = x40 + x63;\n",
      "    x70 = 0.55*x23 - 0.55*x25;\n",
      "    x71 = x27*x70;\n",
      "    x72 = 0.045*x22^2 + 0.045*x24^2;\n",
      "    x73 = -0.55*x33 - 0.55*x34 + x72*x8;\n",
      "    x74 = 0.045*dq(2);\n",
      "    x75 = x73 + x74;\n",
      "    x76 = -x21;\n",
      "    x77 = x36*x74 + x55*x72 + x56*x72 + x76;\n",
      "    x78 = x36*x75 + x71 + x77;\n",
      "    x79 = x39*x78;\n",
      "    x80 = x47 + x66;\n",
      "    x81 = -0.55*x24;\n",
      "    x82 = x39*x72;\n",
      "    x83 = 0.045*ddq(2) + x15*x72 + x20*x24 + x28*x70 - 0.55*x30 - 0.55*x31;\n",
      "    x84 = x37*x70;\n",
      "    x85 = x23*x72 + x26*x72;\n",
      "    x86 = -x36*x85 + x83 - x84;\n",
      "    x87 = x60 + x66;\n",
      "    x88 = x35*x85 + x83 - x84;\n",
      "    x89 = x22*x88;\n",
      "    x90 = x53 - x57;\n",
      "    x91 = x19*x22 + x29*x73 - 0.55*x54 + 0.55*x56 + x74*x9;\n",
      "    x92 = x27*x85;\n",
      "    x93 = x37*x75;\n",
      "    x94 = -x91 + x92 - x93;\n",
      "    x95 = x91 - x92 + x93;\n",
      "    x96 = -x95;\n",
      "    x97 = x47 + x60;\n",
      "    x98 = -x32 + x42;\n",
      "    x99 = x35*x75 - x71 - x77;\n",
      "    x100 = -dq(3);\n",
      "    x101 = sin(q(3));\n",
      "    x102 = x101*x35;\n",
      "    x103 = cos(q(3));\n",
      "    x104 = -x103;\n",
      "    x105 = x104*x37;\n",
      "    x106 = x102 + x105;\n",
      "    x107 = x100*x106 + x101*x49 + x103*x32;\n",
      "    x108 = dq(3) + x27;\n",
      "    x109 = x101*x37 + x103*x35;\n",
      "    x110 = -x109;\n",
      "    x111 = x108*x110;\n",
      "    x112 = -x101*x107 - x104*x111;\n",
      "    x113 = x106*x109;\n",
      "    x114 = x101*x111 + x103*x107;\n",
      "    x115 = -x106;\n",
      "    x116 = x109*x115;\n",
      "    x117 = ddq(3) + x57;\n",
      "    x118 = x116 + x117;\n",
      "    x119 = x108^2;\n",
      "    x120 = -x119;\n",
      "    x121 = x109^2;\n",
      "    x122 = x120 + x121;\n",
      "    x123 = x101*x122 + x103*x118;\n",
      "    x124 = x106*x108;\n",
      "    x125 = x107 + x124;\n",
      "    x126 = -x101*x118 - x104*x122;\n",
      "    x127 = x108*x115;\n",
      "    x128 = x107 + x127;\n",
      "    x129 = x108*x109;\n",
      "    x130 = x104*x49;\n",
      "    x131 = x101*x32;\n",
      "    x132 = dq(3)*x109 + x130 + x131;\n",
      "    x133 = x129 + x132;\n",
      "    x134 = x101*x133;\n",
      "    x135 = -x104*x128 - x134;\n",
      "    x136 = -x121;\n",
      "    x137 = x106^2;\n",
      "    x138 = x136 + x137;\n",
      "    x139 = x101*x128 + x103*x133;\n",
      "    x140 = -x101*x127 - x104*x129;\n",
      "    x141 = x101*x129 + x103*x127;\n",
      "    x142 = x113 + x117;\n",
      "    x143 = -x137;\n",
      "    x144 = x119 + x143;\n",
      "    x145 = -x101*x144 - x104*x142;\n",
      "    x146 = x111 + x132;\n",
      "    x147 = x101*x142;\n",
      "    x148 = x103*x144 + x147;\n",
      "    x149 = -x101*x124 - x104*x132;\n",
      "    x150 = x101*x132 + x103*x124;\n",
      "    x151 = x101*x85 + x103*x70;\n",
      "    x152 = 0.045*dq(3);\n",
      "    x153 = x101^2;\n",
      "    x154 = x103^2;\n",
      "    x155 = -0.045*x153 - 0.045*x154;\n",
      "    x156 = x110*x152 + x130*x155 + x131*x155 + x83;\n",
      "    x157 = 0.045*x153 + 0.045*x154;\n",
      "    x158 = x101*x70 + x104*x85 + x157*x27;\n",
      "    x159 = x152 + x158;\n",
      "    x160 = x106*x151 + x110*x159 + x156;\n",
      "    x161 = x104*x160;\n",
      "    x162 = x104*x155;\n",
      "    x163 = -x133*x162 - x161;\n",
      "    x164 = x102*x155 + x105*x155 + x75;\n",
      "    x165 = 0.045*ddq(3) + dq(3)*x151 + x101*x91 + x104*x77 + x157*x57;\n",
      "    x166 = -x165;\n",
      "    x167 = x108*x151;\n",
      "    x168 = x110*x164 + x166 + x167;\n",
      "    x169 = x113 - x117;\n",
      "    x170 = x157*x169 + x168;\n",
      "    x171 = x101*x160;\n",
      "    x172 = x134*x155 + x171;\n",
      "    x173 = x120 + x143;\n",
      "    x174 = x101*x173 + x104*x169;\n",
      "    x175 = x101*x169 + x103*x173;\n",
      "    x176 = -x159;\n",
      "    x177 = x100*x158 + x101*x77 + x103*x91 + x152*x27;\n",
      "    x178 = x106*x164 + x108*x176 - x177;\n",
      "    x179 = x136 + x143;\n",
      "    x180 = x109*x164 + x165 - x167;\n",
      "    x181 = x101*x180;\n",
      "    x182 = -x104*x178 - x162*x179 - x181;\n",
      "    x183 = -x132;\n",
      "    x184 = x129 + x183;\n",
      "    x185 = x101*x125 + x103*x184;\n",
      "    x186 = x101*x155;\n",
      "    x187 = x101*x178 + x103*x180 + x179*x186;\n",
      "    x188 = x125*x157;\n",
      "    x189 = x101*x184 + x104*x125;\n",
      "    x190 = -x107 + x124;\n",
      "    x191 = x109*x159 + x115*x151 - x156;\n",
      "    x192 = -x101*x191 - x162*x190;\n",
      "    x193 = x103*x191 + x186*x190;\n",
      "    x194 = x120 + x136;\n",
      "    x195 = x104*x194 + x147;\n",
      "    x196 = x101*x194 + x103*x142;\n",
      "    x197 = x108*x159 + x115*x164 + x177;\n",
      "    x198 = x157*x194 + x197;\n",
      "    x199 = -x155*x161;\n",
      "    x200 = x155*x171;\n",
      "    x201 = x101*x197 + x104*x180;\n",
      "    x202 = x103*x197 + x181;\n",
      "    x203 = x157*x180;\n",
      "    x204 = sin(q(4));\n",
      "    x205 = cos(q(4));\n",
      "    x206 = x107*x205;\n",
      "    x207 = x117*x204;\n",
      "    x208 = x108*x205;\n",
      "    x209 = x110*x204 + x208;\n",
      "    x210 = -dq(4);\n",
      "    x211 = -x210;\n",
      "    x212 = x206 + x207 + x209*x211;\n",
      "    x213 = x109*x205;\n",
      "    x214 = x108*x204;\n",
      "    x215 = x213 + x214;\n",
      "    x216 = x115 + x210;\n",
      "    x217 = x215*x216;\n",
      "    x218 = -x217;\n",
      "    x219 = x204*x212 + x205*x218;\n",
      "    x220 = x209*x215;\n",
      "    x221 = -x220;\n",
      "    x222 = -x204;\n",
      "    x223 = x205*x212 + x218*x222;\n",
      "    x224 = x101*x221 + x103*x223;\n",
      "    x225 = -x101*x223 - x104*x221;\n",
      "    x226 = -ddq(4) + x183;\n",
      "    x227 = x221 + x226;\n",
      "    x228 = x215^2;\n",
      "    x229 = x216^2;\n",
      "    x230 = -x229;\n",
      "    x231 = x228 + x230;\n",
      "    x232 = x205*x227 + x222*x231;\n",
      "    x233 = x209*x216;\n",
      "    x234 = x212 + x233;\n",
      "    x235 = -x234;\n",
      "    x236 = -x101*x232 - x104*x235;\n",
      "    x237 = x204*x227 + x205*x231;\n",
      "    x238 = x101*x235 + x103*x232;\n",
      "    x239 = x209^2;\n",
      "    x240 = -x228;\n",
      "    x241 = -x239 - x240;\n",
      "    x242 = x117*x205;\n",
      "    x243 = x107*x222 + x210*x215 + x242;\n",
      "    x244 = x217 + x243;\n",
      "    x245 = -x233;\n",
      "    x246 = x212 + x245;\n",
      "    x247 = x205*x244 + x222*x246;\n",
      "    x248 = x101*x241 + x103*x247;\n",
      "    x249 = x204*x244 + x205*x246;\n",
      "    x250 = -x101*x247 - x104*x241;\n",
      "    x251 = x204*x245 + x205*x217;\n",
      "    x252 = -x226;\n",
      "    x253 = x205*x245 + x217*x222;\n",
      "    x254 = x101*x252 + x103*x253;\n",
      "    x255 = -x101*x253 - x104*x252;\n",
      "    x256 = -x218 - x243;\n",
      "    x257 = -x239;\n",
      "    x258 = x229 + x257;\n",
      "    x259 = x220 + x226;\n",
      "    x260 = x205*x258 + x222*x259;\n",
      "    x261 = -x101*x260 - x104*x256;\n",
      "    x262 = x205*x259;\n",
      "    x263 = x204*x258 + x262;\n",
      "    x264 = x101*x256 + x103*x260;\n",
      "    x265 = -x221;\n",
      "    x266 = x205*x233 + x222*x243;\n",
      "    x267 = x101*x265 + x103*x266;\n",
      "    x268 = x204*x233 + x205*x243;\n",
      "    x269 = -x101*x266 - x104*x265;\n",
      "    x270 = x220 + x252;\n",
      "    x271 = x230 + x257;\n",
      "    x272 = x205*x271;\n",
      "    x273 = x222*x270 + x272;\n",
      "    x274 = -x244;\n",
      "    x275 = x101*x274 + x103*x273;\n",
      "    x276 = x101*x273 + x104*x274;\n",
      "    x277 = -0.3*x204;\n",
      "    x278 = x109*x277 + x151*x205 + x164*x204 + 0.3*x208;\n",
      "    x279 = x209*x278;\n",
      "    x280 = -x215;\n",
      "    x281 = x151*x222 + x164*x205 - 0.3*x213 - 0.3*x214;\n",
      "    x282 = x166 + x279 + x280*x281;\n",
      "    x283 = x205*x282 + x270*x277 + 0.3*x272;\n",
      "    x284 = x157*x274 + x283;\n",
      "    x285 = x205*x270;\n",
      "    x286 = x204*x271 + x285;\n",
      "    x287 = x156*x205 + x177*x222 - 0.3*x206 - 0.3*x207 + x210*x278;\n",
      "    x288 = -x287;\n",
      "    x289 = x216*x278;\n",
      "    x290 = -x176*x280 - x288 - x289;\n",
      "    x291 = x222*x282 + x271*x277 - 0.3*x285;\n",
      "    x292 = x101*x290 + x103*x291 + x186*x286;\n",
      "    x293 = -x101*x291 - x104*x290 - x162*x286;\n",
      "    x294 = x216*x281;\n",
      "    x295 = x176*x209;\n",
      "    x296 = x107*x277 + x156*x204 + x177*x205 + x211*x281 + 0.3*x242;\n",
      "    x297 = -x294 + x295 - x296;\n",
      "    x298 = x217 - x243;\n",
      "    x299 = x176*x215 + x287 - x289;\n",
      "    x300 = x205*x299;\n",
      "    x301 = x205*x234;\n",
      "    x302 = x222*x297 + x277*x298 + x300 - 0.3*x301;\n",
      "    x303 = x204*x298 + x301;\n",
      "    x304 = -x101*x302 - x162*x303;\n",
      "    x305 = x103*x302 + x186*x303;\n",
      "    x306 = x205*x298;\n",
      "    x307 = x222*x234 + x306;\n",
      "    x308 = -x240 - x257;\n",
      "    x309 = x101*x308 + x103*x307;\n",
      "    x310 = x101*x307 + x104*x308;\n",
      "    x311 = x204*x299 + x205*x297 + x234*x277 + 0.3*x306;\n",
      "    x312 = x157*x308 + x311;\n",
      "    x313 = x230 + x240;\n",
      "    x314 = x205*x313;\n",
      "    x315 = x204*x259 + x314;\n",
      "    x316 = x294 - x295 + x296;\n",
      "    x317 = -x316;\n",
      "    x318 = -x166 + x215*x281 - x279;\n",
      "    x319 = x205*x318 + x259*x277 - 0.3*x314;\n",
      "    x320 = -x101*x319 - x104*x317 - x162*x315;\n",
      "    x321 = x212 - x233;\n",
      "    x322 = x204*x318 + 0.3*x262 + x277*x313;\n",
      "    x323 = x157*x321 + x322;\n",
      "    x324 = x101*x317 + x103*x319 + x186*x315;\n",
      "    x325 = x222*x313 + x262;\n",
      "    x326 = x101*x325 + x104*x321;\n",
      "    x327 = x101*x321 + x103*x325;\n",
      "    x328 = -x282;\n",
      "    x329 = x205*x316;\n",
      "    x330 = x222*x299 + x329;\n",
      "    x331 = x101*x330 + x104*x328;\n",
      "    x332 = x101*x328 + x103*x330;\n",
      "    x333 = x204*x316 + x300;\n",
      "    x334 = x277*x299 + 0.3*x329;\n",
      "    x335 = x157*x328 + x334;\n",
      "    x336 = x277*x316 - 0.3*x300;\n",
      "    x337 = x103*x336 + x186*x333;\n",
      "    x338 = -x101*x336 - x162*x333;\n",
      "    x339 = sin(q(5));\n",
      "    x340 = cos(q(5));\n",
      "    x341 = x215*x340 + x216*x339;\n",
      "    x342 = -x340;\n",
      "    x343 = x215*x339 + x216*x342;\n",
      "    x344 = x341*x343;\n",
      "    x345 = dq(5) + x209;\n",
      "    x346 = x341*x345;\n",
      "    x347 = -x346;\n",
      "    x348 = -dq(5);\n",
      "    x349 = x212*x340 + x226*x339 + x343*x348;\n",
      "    x350 = x339*x347 + x340*x349;\n",
      "    x351 = x205*x350 + x222*x344;\n",
      "    x352 = -x339*x349 - x342*x347;\n",
      "    x353 = -x101*x351 - x104*x352;\n",
      "    x354 = x204*x350 + x205*x344;\n",
      "    x355 = x101*x352 + x103*x351;\n",
      "    x356 = x343*x345;\n",
      "    x357 = x349 + x356;\n",
      "    x358 = -x344;\n",
      "    x359 = ddq(5) + x243;\n",
      "    x360 = x358 + x359;\n",
      "    x361 = x341^2;\n",
      "    x362 = x345^2;\n",
      "    x363 = -x362;\n",
      "    x364 = x361 + x363;\n",
      "    x365 = x339*x364 + x340*x360;\n",
      "    x366 = x205*x365 + x222*x357;\n",
      "    x367 = -x339*x360 - x342*x364;\n",
      "    x368 = -x101*x366 - x104*x367;\n",
      "    x369 = x101*x367 + x103*x366;\n",
      "    x370 = x204*x365 + x205*x357;\n",
      "    x371 = x343^2;\n",
      "    x372 = -x361;\n",
      "    x373 = x371 + x372;\n",
      "    x374 = -x356;\n",
      "    x375 = x349 + x374;\n",
      "    x376 = dq(5)*x341 + x212*x339 + x226*x342;\n",
      "    x377 = x346 + x376;\n",
      "    x378 = x339*x375 + x340*x377;\n",
      "    x379 = x205*x378 + x222*x373;\n",
      "    x380 = -x339*x377 - x342*x375;\n",
      "    x381 = -x101*x379 - x104*x380;\n",
      "    x382 = x204*x378 + x205*x373;\n",
      "    x383 = x101*x380 + x103*x379;\n",
      "    x384 = x339*x346 + x340*x374;\n",
      "    x385 = x204*x384 + x205*x359;\n",
      "    x386 = -x339*x374 - x342*x346;\n",
      "    x387 = x205*x384 + x222*x359;\n",
      "    x388 = x101*x386 + x103*x387;\n",
      "    x389 = -x101*x387 - x104*x386;\n",
      "    x390 = x347 + x376;\n",
      "    x391 = x344 + x359;\n",
      "    x392 = x339*x391;\n",
      "    x393 = -x371;\n",
      "    x394 = x362 + x393;\n",
      "    x395 = x340*x394 + x392;\n",
      "    x396 = x205*x395 + x222*x390;\n",
      "    x397 = -x339*x394 - x342*x391;\n",
      "    x398 = -x101*x396 - x104*x397;\n",
      "    x399 = x204*x395 + x205*x390;\n",
      "    x400 = x101*x397 + x103*x396;\n",
      "    x401 = -x339*x356 - x342*x376;\n",
      "    x402 = x339*x376 + x340*x356;\n",
      "    x403 = x205*x402 + x222*x358;\n",
      "    x404 = -x101*x403 - x104*x401;\n",
      "    x405 = x101*x401 + x103*x403;\n",
      "    x406 = x204*x402 + x205*x358;\n",
      "    x407 = x363 + x393;\n",
      "    x408 = x344 - x359;\n",
      "    x409 = x339*x408 + x340*x407;\n",
      "    x410 = x205*x377;\n",
      "    x411 = x204*x409 + x410;\n",
      "    x412 = -x341;\n",
      "    x413 = x176*x342 + x278*x339;\n",
      "    x414 = x176*x339 + x278*x340;\n",
      "    x415 = x343*x414;\n",
      "    x416 = x287 + x412*x413 + x415;\n",
      "    x417 = x339*x416;\n",
      "    x418 = dq(5)*x414 + x166*x342 + x296*x339;\n",
      "    x419 = -x418;\n",
      "    x420 = x345*x414;\n",
      "    x421 = x281*x412 + x419 + x420;\n",
      "    x422 = x205*x417 + x222*x421 + x277*x409 - 0.3*x410;\n",
      "    x423 = -x342*x416;\n",
      "    x424 = -x101*x422 - x104*x423 - x162*x411;\n",
      "    x425 = x101*x423 + x103*x422 + x186*x411;\n",
      "    x426 = x205*x409;\n",
      "    x427 = x222*x377 + x426;\n",
      "    x428 = -x339*x407 - x342*x408;\n",
      "    x429 = x101*x427 + x104*x428;\n",
      "    x430 = x204*x417 + x205*x421 + x277*x377 + 0.3*x426;\n",
      "    x431 = x157*x428 + x430;\n",
      "    x432 = x101*x428 + x103*x427;\n",
      "    x433 = x346 - x376;\n",
      "    x434 = -x339*x433 - x342*x357;\n",
      "    x435 = x372 + x393;\n",
      "    x436 = x339*x357 + x340*x433;\n",
      "    x437 = x205*x436;\n",
      "    x438 = x281*x343;\n",
      "    x439 = x345*x413;\n",
      "    x440 = x166*x339 + x296*x340 + x348*x413;\n",
      "    x441 = x438 - x439 - x440;\n",
      "    x442 = x281*x341 + x418 - x420;\n",
      "    x443 = x339*x441 + x340*x442;\n",
      "    x444 = x204*x443 + x277*x435 + 0.3*x437;\n",
      "    x445 = x157*x434 + x444;\n",
      "    x446 = x222*x435 + x437;\n",
      "    x447 = x101*x446 + x104*x434;\n",
      "    x448 = x205*x435;\n",
      "    x449 = x204*x436 + x448;\n",
      "    x450 = x101*x434 + x103*x446;\n",
      "    x451 = x339*x442;\n",
      "    x452 = -x342*x441 - x451;\n",
      "    x453 = x205*x443 + x277*x436 - 0.3*x448;\n",
      "    x454 = x101*x452 + x103*x453 + x186*x449;\n",
      "    x455 = -x101*x453 - x104*x452 - x162*x449;\n",
      "    x456 = x363 + x372;\n",
      "    x457 = -x342*x456 - x392;\n",
      "    x458 = -x349 + x356;\n",
      "    x459 = x339*x456 + x340*x391;\n",
      "    x460 = x205*x459;\n",
      "    x461 = x288 + x341*x413 - x415;\n",
      "    x462 = x340*x461;\n",
      "    x463 = -x438 + x439 + x440;\n",
      "    x464 = x204*x462 + x205*x463 + x277*x458 + 0.3*x460;\n",
      "    x465 = x157*x457 + x464;\n",
      "    x466 = x222*x458 + x460;\n",
      "    x467 = x101*x466 + x104*x457;\n",
      "    x468 = x205*x458;\n",
      "    x469 = x204*x459 + x468;\n",
      "    x470 = x205*x462 + x222*x463 + x277*x459 - 0.3*x468;\n",
      "    x471 = -x339*x461;\n",
      "    x472 = x101*x471 + x103*x470 + x186*x469;\n",
      "    x473 = x101*x457 + x103*x466;\n",
      "    x474 = -x101*x470 - x104*x471 - x162*x469;\n",
      "    x475 = x205*x416;\n",
      "    x476 = x340*x463 + x451;\n",
      "    x477 = x204*x476 + x475;\n",
      "    x478 = x277*x476 - 0.3*x475;\n",
      "    x479 = -x101*x478 - x162*x477;\n",
      "    x480 = -x339*x463 - x342*x442;\n",
      "    x481 = x205*x476;\n",
      "    x482 = x222*x416 + x481;\n",
      "    x483 = x101*x480 + x103*x482;\n",
      "    x484 = x277*x416 + 0.3*x481;\n",
      "    x485 = x157*x480 + x484;\n",
      "    x486 = x103*x478 + x186*x477;\n",
      "    x487 = x101*x482 + x104*x480;\n",
      "    x488 = sin(q(6));\n",
      "    x489 = x345*x488;\n",
      "    x490 = cos(q(6));\n",
      "    x491 = x341*x490;\n",
      "    x492 = x489 + x491;\n",
      "    x493 = x341*x488;\n",
      "    x494 = x345*x490;\n",
      "    x495 = -x493 + x494;\n",
      "    x496 = x492*x495;\n",
      "    x497 = -x496;\n",
      "    x498 = x359*x488;\n",
      "    x499 = x349*x490;\n",
      "    x500 = dq(6)*x495 + x498 + x499;\n",
      "    x501 = dq(6) + x343;\n",
      "    x502 = x492*x501;\n",
      "    x503 = -x488;\n",
      "    x504 = x490*x500 + x502*x503;\n",
      "    x505 = -x339*x504 - x342*x497;\n",
      "    x506 = x488*x500 + x490*x502;\n",
      "    x507 = x339*x497 + x340*x504;\n",
      "    x508 = x205*x507 + x222*x506;\n",
      "    x509 = -x101*x508 - x104*x505;\n",
      "    x510 = x101*x505 + x103*x508;\n",
      "    x511 = x204*x507 + x205*x506;\n",
      "    x512 = x495*x501;\n",
      "    x513 = x500 + x512;\n",
      "    x514 = x359*x490;\n",
      "    x515 = -dq(6);\n",
      "    x516 = x349*x503 + x492*x515 + x514;\n",
      "    x517 = -x502;\n",
      "    x518 = x516 + x517;\n",
      "    x519 = x488*x518 + x490*x513;\n",
      "    x520 = x495^2;\n",
      "    x521 = -x520;\n",
      "    x522 = x492^2;\n",
      "    x523 = x521 + x522;\n",
      "    x524 = x490*x518 + x503*x513;\n",
      "    x525 = x339*x523 + x340*x524;\n",
      "    x526 = x205*x525 + x222*x519;\n",
      "    x527 = -x339*x524 - x342*x523;\n",
      "    x528 = x101*x527 + x103*x526;\n",
      "    x529 = x204*x525 + x205*x519;\n",
      "    x530 = -x101*x526 - x104*x527;\n",
      "    x531 = -x512;\n",
      "    x532 = x500 + x531;\n",
      "    x533 = ddq(6) + x376;\n",
      "    x534 = x496 + x533;\n",
      "    x535 = x490*x534;\n",
      "    x536 = -x522;\n",
      "    x537 = x501^2;\n",
      "    x538 = x536 + x537;\n",
      "    x539 = x503*x538 + x535;\n",
      "    x540 = x339*x532 + x340*x539;\n",
      "    x541 = x488*x534;\n",
      "    x542 = x490*x538 + x541;\n",
      "    x543 = x205*x540 + x222*x542;\n",
      "    x544 = -x339*x539 - x342*x532;\n",
      "    x545 = -x101*x543 - x104*x544;\n",
      "    x546 = x204*x540 + x205*x542;\n",
      "    x547 = x101*x544 + x103*x543;\n",
      "    x548 = x490*x531 + x503*x516;\n",
      "    x549 = x339*x496 + x340*x548;\n",
      "    x550 = x488*x531 + x490*x516;\n",
      "    x551 = x204*x549 + x205*x550;\n",
      "    x552 = -x339*x548 - x342*x496;\n",
      "    x553 = x205*x549 + x222*x550;\n",
      "    x554 = x101*x552 + x103*x553;\n",
      "    x555 = -x101*x553 - x104*x552;\n",
      "    x556 = -x537;\n",
      "    x557 = x520 + x556;\n",
      "    x558 = x497 + x533;\n",
      "    x559 = x488*x557 + x490*x558;\n",
      "    x560 = x502 + x516;\n",
      "    x561 = x490*x557 + x503*x558;\n",
      "    x562 = x339*x560 + x340*x561;\n",
      "    x563 = x205*x562 + x222*x559;\n",
      "    x564 = -x339*x561 - x342*x560;\n",
      "    x565 = x101*x564 + x103*x563;\n",
      "    x566 = x204*x562 + x205*x559;\n",
      "    x567 = -x101*x563 - x104*x564;\n",
      "    x568 = x488*x512 + x490*x517;\n",
      "    x569 = x490*x512 + x503*x517;\n",
      "    x570 = x339*x533 + x340*x569;\n",
      "    x571 = x204*x570 + x205*x568;\n",
      "    x572 = x205*x570 + x222*x568;\n",
      "    x573 = -x339*x569 - x342*x533;\n",
      "    x574 = x101*x573 + x103*x572;\n",
      "    x575 = -x101*x572 - x104*x573;\n",
      "    x576 = x521 + x556;\n",
      "    x577 = x490*x576;\n",
      "    x578 = x503*x534 + x577;\n",
      "    x579 = x502 - x516;\n",
      "    x580 = -x339*x578 - x342*x579;\n",
      "    x581 = x339*x579 + x340*x578;\n",
      "    x582 = x205*x581;\n",
      "    x583 = x488*x576 + x535;\n",
      "    x584 = x222*x583 + x582;\n",
      "    x585 = x101*x580 + x103*x584;\n",
      "    x586 = x205*x583;\n",
      "    x587 = x204*x581 + x586;\n",
      "    x588 = -x492;\n",
      "    x589 = x281*x490 + x414*x503 - 0.06*x489 - 0.06*x491;\n",
      "    x590 = x281*x488 + x414*x490 - 0.06*x493 + 0.06*x494;\n",
      "    x591 = x495*x590;\n",
      "    x592 = x419 + x588*x589 + x591;\n",
      "    x593 = -0.06*x488;\n",
      "    x594 = x503*x592 - 0.06*x535 + x576*x593;\n",
      "    x595 = x287*x490 + x440*x503 - 0.06*x498 - 0.06*x499 + x515*x590;\n",
      "    x596 = x501*x590;\n",
      "    x597 = x413*x588 + x595 + x596;\n",
      "    x598 = x339*x597 + x340*x594;\n",
      "    x599 = x490*x592 - 0.06*x541 + 0.06*x577;\n",
      "    x600 = x204*x598 + x205*x599 + x277*x583 + 0.3*x582;\n",
      "    x601 = x157*x580 + x600;\n",
      "    x602 = x101*x584 + x104*x580;\n",
      "    x603 = x205*x598 + x222*x599 + x277*x581 - 0.3*x586;\n",
      "    x604 = -x339*x594 - x342*x597;\n",
      "    x605 = x101*x604 + x103*x603 + x186*x587;\n",
      "    x606 = -x101*x603 - x104*x604 - x162*x587;\n",
      "    x607 = x496 - x533;\n",
      "    x608 = x536 + x556;\n",
      "    x609 = x490*x608;\n",
      "    x610 = x488*x607 + x609;\n",
      "    x611 = x205*x610;\n",
      "    x612 = x490*x607;\n",
      "    x613 = x503*x608 + x612;\n",
      "    x614 = x339*x513 + x340*x613;\n",
      "    x615 = x204*x614 + x611;\n",
      "    x616 = x418 + x492*x589 - x591;\n",
      "    x617 = x490*x616 + x593*x607 - 0.06*x609;\n",
      "    x618 = x413*x495;\n",
      "    x619 = dq(6)*x589 + x287*x488 + x349*x593 + x440*x490 + 0.06*x514;\n",
      "    x620 = x501*x589;\n",
      "    x621 = -x618 - x619 + x620;\n",
      "    x622 = x339*x621 + x340*x617;\n",
      "    x623 = x488*x616 + x593*x608 + 0.06*x612;\n",
      "    x624 = x205*x622 + x222*x623 + x277*x614 - 0.3*x611;\n",
      "    x625 = -x339*x617 - x342*x621;\n",
      "    x626 = -x101*x624 - x104*x625 - x162*x615;\n",
      "    x627 = -x339*x613 - x342*x513;\n",
      "    x628 = x205*x614;\n",
      "    x629 = x222*x610 + x628;\n",
      "    x630 = x101*x629 + x104*x627;\n",
      "    x631 = x101*x627 + x103*x629;\n",
      "    x632 = x204*x622 + x205*x623 + x277*x610 + 0.3*x628;\n",
      "    x633 = x157*x627 + x632;\n",
      "    x634 = x101*x625 + x103*x624 + x186*x615;\n",
      "    x635 = x521 + x536;\n",
      "    x636 = x490*x560;\n",
      "    x637 = -x500 + x512;\n",
      "    x638 = x503*x637 + x636;\n",
      "    x639 = x339*x635 + x340*x638;\n",
      "    x640 = x490*x637;\n",
      "    x641 = x488*x560 + x640;\n",
      "    x642 = x205*x641;\n",
      "    x643 = x204*x639 + x642;\n",
      "    x644 = x618 + x619 - x620;\n",
      "    x645 = x413*x492 - x595 - x596;\n",
      "    x646 = x490*x645 + x503*x644 + x560*x593 - 0.06*x640;\n",
      "    x647 = x340*x646;\n",
      "    x648 = x490*x644;\n",
      "    x649 = x488*x645 + x593*x637 + 0.06*x636 + x648;\n",
      "    x650 = x205*x647 + x222*x649 + x277*x639 - 0.3*x642;\n",
      "    x651 = -x339*x646;\n",
      "    x652 = -x101*x650 - x104*x651 - x162*x643;\n",
      "    x653 = x101*x651 + x103*x650 + x186*x643;\n",
      "    x654 = -x339*x638 - x342*x635;\n",
      "    x655 = x205*x639;\n",
      "    x656 = x222*x641 + x655;\n",
      "    x657 = x101*x656 + x104*x654;\n",
      "    x658 = x101*x654 + x103*x656;\n",
      "    x659 = x204*x647 + x205*x649 + x277*x641 + 0.3*x655;\n",
      "    x660 = x157*x654 + x659;\n",
      "    x661 = x503*x597 + x648;\n",
      "    x662 = x339*x616 + x340*x661;\n",
      "    x663 = x490*x597;\n",
      "    x664 = x488*x644 + x663;\n",
      "    x665 = x205*x664;\n",
      "    x666 = x204*x662 + x665;\n",
      "    x667 = x593*x644 - 0.06*x663;\n",
      "    x668 = -x339*x667;\n",
      "    x669 = x593*x597 + 0.06*x648;\n",
      "    x670 = x340*x667;\n",
      "    x671 = x205*x670 + x222*x669 + x277*x662 - 0.3*x665;\n",
      "    x672 = -x101*x671 - x104*x668 - x162*x666;\n",
      "    x673 = x205*x662;\n",
      "    x674 = x222*x664 + x673;\n",
      "    x675 = -x339*x661 - x342*x616;\n",
      "    x676 = x101*x674 + x104*x675;\n",
      "    x677 = x204*x670 + x205*x669 + x277*x664 + 0.3*x673;\n",
      "    x678 = x157*x675 + x677;\n",
      "    x679 = x101*x668 + x103*x671 + x186*x666;\n",
      "    x680 = x101*x675 + x103*x674;\n",
      "    x681 = x22*x65;\n",
      "    x682 = x22*x78;\n",
      "    x683 = x22*x72;\n",
      "%%\n",
      "    H[1] = 0;\n",
      "    H[2] = 0;\n",
      "    H[3] = 0;\n",
      "    H[4] = -x0;\n",
      "    H[5] = 0;\n",
      "    H[6] = 0;\n",
      "    H[7] = 0;\n",
      "    H[8] = 0;\n",
      "    H[9] = 0;\n",
      "    H[10] = 0;\n",
      "    H[11] = ddq(0);\n",
      "    H[12] = dq(0);\n",
      "    H[13] = sign(dq(0));\n",
      "    H[14] = 1;\n",
      "    H[15] = -x11*x2 - x5*x7;\n",
      "    H[16] = -x2*(ddq(1) + x12) - x7*(-x13 + x14);\n",
      "    H[17] = -x2*(x15 + x4) - x7*(x10 + x11);\n",
      "    H[18] = -x10*x2 - x4*x7;\n",
      "    H[19] = -x2*(x13 - x16) - x7*(ddq(1) + x17);\n",
      "    H[20] = -x15*x7 - x18*x2;\n",
      "    H[21] = 0;\n",
      "    H[22] = -x2*x21 - x20*x7;\n",
      "    H[23] = 0;\n",
      "    H[24] = 0;\n",
      "    H[25] = 0;\n",
      "    H[26] = 0;\n",
      "    H[27] = 0;\n",
      "    H[28] = 0;\n",
      "    H[29] = -x2*(x22*x32 + x38*x39) - x41*x7;\n",
      "    H[30] = -x2*(x22*x50 + x39*x48) - x44*x7;\n",
      "    H[31] = -x2*(x39*x52 + x59) - x62*x7;\n",
      "    H[32] = -x2*(x22*x51 + x39*x53) - x63*x7;\n",
      "    H[33] = -x2*(x22*x67 + x39*x65) - x64*x7;\n",
      "    H[34] = -x2*(x22*x42 + x39*x57) - x68*x7;\n",
      "    H[35] = -x2*(-0.55*x22*x69 + x58*x82 + x79 + x80*x81) - x7*(x69*x72 + x86);\n",
      "    H[36] = -x2*(-0.55*x22*x43 + x39*x94 + x81*x90 + x82*x87 + x89) - x43*x7*x72;\n",
      "    H[37] = -x2*(-0.55*x22*x97 + x22*x99 + x65*x81 + x82*x98) - x7*(x72*x97 + x96);\n",
      "    H[38] = -x2*(x72*x79 + x81*x95 - 0.55*x89) - x7*x72*x88;\n",
      "    H[39] = 0;\n",
      "    H[40] = 0;\n",
      "    H[41] = 0;\n",
      "    H[42] = 0;\n",
      "    H[43] = -x112*x7 - x2*(x113*x39 + x114*x22);\n",
      "    H[44] = -x126*x7 - x2*(x123*x22 + x125*x39);\n",
      "    H[45] = -x135*x7 - x2*(x138*x39 + x139*x22);\n",
      "    H[46] = -x140*x7 - x2*(x117*x39 + x141*x22);\n",
      "    H[47] = -x145*x7 - x2*(x146*x39 + x148*x22);\n",
      "    H[48] = -x149*x7 - x2*(x116*x39 + x150*x22);\n",
      "    H[49] = -x2*(-0.55*x133*x22 + x170*x39 + x172*x22 + x174*x82 + x175*x81) - x7*(x133*x72 + x163);\n",
      "    H[50] = -x2*(-0.55*x179*x22 + x185*x81 + x187*x22 + x188*x39 + x189*x82) - x7*(x179*x72 + x182);\n",
      "    H[51] = -x2*(-0.55*x190*x22 + x193*x22 + x195*x82 + x196*x81 + x198*x39) - x7*(x190*x72 + x192);\n",
      "    H[52] = -x2*(-0.55*x160*x22 + x200*x22 + x201*x82 + x202*x81 + x203*x39) - x7*(x160*x72 + x199);\n",
      "    H[53] = 0;\n",
      "    H[54] = 0;\n",
      "    H[55] = 0;\n",
      "    H[56] = 0;\n",
      "    H[57] = -x2*(x219*x39 + x22*x224) - x225*x7;\n",
      "    H[58] = -x2*(x22*x238 + x237*x39) - x236*x7;\n",
      "    H[59] = -x2*(x22*x248 + x249*x39) - x250*x7;\n",
      "    H[60] = -x2*(x22*x254 + x251*x39) - x255*x7;\n",
      "    H[61] = -x2*(x22*x264 + x263*x39) - x261*x7;\n",
      "    H[62] = -x2*(x22*x267 + x268*x39) - x269*x7;\n",
      "    H[63] = -x2*(-0.55*x22*x286 + x22*x292 + x275*x81 + x276*x82 + x284*x39) - x7*(x286*x72 + x293);\n",
      "    H[64] = -x2*(-0.55*x22*x303 + x22*x305 + x309*x81 + x310*x82 + x312*x39) - x7*(x303*x72 + x304);\n",
      "    H[65] = -x2*(-0.55*x22*x315 + x22*x324 + x323*x39 + x326*x82 + x327*x81) - x7*(x315*x72 + x320);\n",
      "    H[66] = -x2*(-0.55*x22*x333 + x22*x337 + x331*x82 + x332*x81 + x335*x39) - x7*(x333*x72 + x338);\n",
      "    H[67] = 0;\n",
      "    H[68] = 0;\n",
      "    H[69] = 0;\n",
      "    H[70] = 0;\n",
      "    H[71] = -x2*(x22*x355 + x354*x39) - x353*x7;\n",
      "    H[72] = -x2*(x22*x369 + x370*x39) - x368*x7;\n",
      "    H[73] = -x2*(x22*x383 + x382*x39) - x381*x7;\n",
      "    H[74] = -x2*(x22*x388 + x385*x39) - x389*x7;\n",
      "    H[75] = -x2*(x22*x400 + x39*x399) - x398*x7;\n",
      "    H[76] = -x2*(x22*x405 + x39*x406) - x404*x7;\n",
      "    H[77] = -x2*(-0.55*x22*x411 + x22*x425 + x39*x431 + x429*x82 + x432*x81) - x7*(x411*x72 + x424);\n",
      "    H[78] = -x2*(-0.55*x22*x449 + x22*x454 + x39*x445 + x447*x82 + x450*x81) - x7*(x449*x72 + x455);\n",
      "    H[79] = -x2*(-0.55*x22*x469 + x22*x472 + x39*x465 + x467*x82 + x473*x81) - x7*(x469*x72 + x474);\n",
      "    H[80] = -x2*(-0.55*x22*x477 + x22*x486 + x39*x485 + x483*x81 + x487*x82) - x7*(x477*x72 + x479);\n",
      "    H[81] = 0;\n",
      "    H[82] = 0;\n",
      "    H[83] = 0;\n",
      "    H[84] = 0;\n",
      "    H[85] = -x2*(x22*x510 + x39*x511) - x509*x7;\n",
      "    H[86] = -x2*(x22*x528 + x39*x529) - x530*x7;\n",
      "    H[87] = -x2*(x22*x547 + x39*x546) - x545*x7;\n",
      "    H[88] = -x2*(x22*x554 + x39*x551) - x555*x7;\n",
      "    H[89] = -x2*(x22*x565 + x39*x566) - x567*x7;\n",
      "    H[90] = -x2*(x22*x574 + x39*x571) - x575*x7;\n",
      "    H[91] = -x2*(-0.55*x22*x587 + x22*x605 + x39*x601 + x585*x81 + x602*x82) - x7*(x587*x72 + x606);\n",
      "    H[92] = -x2*(-0.55*x22*x615 + x22*x634 + x39*x633 + x630*x82 + x631*x81) - x7*(x615*x72 + x626);\n",
      "    H[93] = -x2*(-0.55*x22*x643 + x22*x653 + x39*x660 + x657*x82 + x658*x81) - x7*(x643*x72 + x652);\n",
      "    H[94] = -x2*(-0.55*x22*x666 + x22*x679 + x39*x678 + x676*x82 + x680*x81) - x7*(x666*x72 + x672);\n",
      "    H[95] = 0;\n",
      "    H[96] = 0;\n",
      "    H[97] = 0;\n",
      "    H[98] = 0;\n",
      "    H[99] = 0;\n",
      "    H[100] = 0;\n",
      "    H[101] = 0;\n",
      "    H[102] = 0;\n",
      "    H[103] = 0;\n",
      "    H[104] = 0;\n",
      "    H[105] = 0;\n",
      "    H[106] = 0;\n",
      "    H[107] = 0;\n",
      "    H[108] = 0;\n",
      "    H[109] = 0;\n",
      "    H[110] = 0;\n",
      "    H[111] = 0;\n",
      "    H[112] = 0;\n",
      "    H[113] = x17;\n",
      "    H[114] = x11 + x18;\n",
      "    H[115] = -x14 + x16;\n",
      "    H[116] = ddq(1);\n",
      "    H[117] = x15 + x5;\n",
      "    H[118] = x12;\n",
      "    H[119] = x76;\n",
      "    H[120] = 0;\n",
      "    H[121] = x19;\n",
      "    H[122] = 0;\n",
      "    H[123] = ddq(1);\n",
      "    H[124] = dq(1);\n",
      "    H[125] = sign(dq(1));\n",
      "    H[126] = 1;\n",
      "    H[127] = x22*x38 + x24*x32;\n",
      "    H[128] = x22*x48 + x24*x50;\n",
      "    H[129] = x22*x52 + x24*x58;\n",
      "    H[130] = x22*x53 + x24*x51;\n",
      "    H[131] = x24*x67 + x681;\n",
      "    H[132] = x22*x57 + x24*x42;\n",
      "    H[133] = 0.55*x22*x80 + x59*x72 + x682 + x69*x81;\n",
      "    H[134] = 0.55*x22*x90 + x22*x94 + x24*x88 + x43*x81 + x683*x87;\n",
      "    H[135] = x24*x99 + 0.55*x681 + x683*x98 + x81*x97;\n",
      "    H[136] = 0.55*x22*x95 + x682*x72 + x81*x88;\n",
      "    H[137] = 0;\n",
      "    H[138] = 0;\n",
      "    H[139] = 0;\n",
      "    H[140] = 0;\n",
      "    H[141] = x113*x22 + x114*x24;\n",
      "    H[142] = x123*x24 + x125*x22;\n",
      "    H[143] = x138*x22 + x139*x24;\n",
      "    H[144] = x117*x22 + x141*x24;\n",
      "    H[145] = x146*x22 + x148*x24;\n",
      "    H[146] = x116*x22 + x150*x24;\n",
      "    H[147] = x133*x81 + x170*x22 + x172*x24 + x174*x683 + 0.55*x175*x22;\n",
      "    H[148] = x179*x81 + 0.55*x185*x22 + x187*x24 + x188*x22 + x189*x683;\n",
      "    H[149] = x190*x81 + x193*x24 + x195*x683 + 0.55*x196*x22 + x198*x22;\n",
      "    H[150] = x160*x81 + x200*x24 + x201*x683 + 0.55*x202*x22 + x203*x22;\n",
      "    H[151] = 0;\n",
      "    H[152] = 0;\n",
      "    H[153] = 0;\n",
      "    H[154] = 0;\n",
      "    H[155] = x219*x22 + x224*x24;\n",
      "    H[156] = x22*x237 + x238*x24;\n",
      "    H[157] = x22*x249 + x24*x248;\n",
      "    H[158] = x22*x251 + x24*x254;\n",
      "    H[159] = x22*x263 + x24*x264;\n",
      "    H[160] = x22*x268 + x24*x267;\n",
      "    H[161] = 0.55*x22*x275 + x22*x284 + x24*x292 + x276*x683 + x286*x81;\n",
      "    H[162] = 0.55*x22*x309 + x22*x312 + x24*x305 + x303*x81 + x310*x683;\n",
      "    H[163] = x22*x323 + 0.55*x22*x327 + x24*x324 + x315*x81 + x326*x683;\n",
      "    H[164] = 0.55*x22*x332 + x22*x335 + x24*x337 + x331*x683 + x333*x81;\n",
      "    H[165] = 0;\n",
      "    H[166] = 0;\n",
      "    H[167] = 0;\n",
      "    H[168] = 0;\n",
      "    H[169] = x22*x354 + x24*x355;\n",
      "    H[170] = x22*x370 + x24*x369;\n",
      "    H[171] = x22*x382 + x24*x383;\n",
      "    H[172] = x22*x385 + x24*x388;\n",
      "    H[173] = x22*x399 + x24*x400;\n",
      "    H[174] = x22*x406 + x24*x405;\n",
      "    H[175] = x22*x431 + 0.55*x22*x432 + x24*x425 + x411*x81 + x429*x683;\n",
      "    H[176] = x22*x445 + 0.55*x22*x450 + x24*x454 + x447*x683 + x449*x81;\n",
      "    H[177] = x22*x465 + 0.55*x22*x473 + x24*x472 + x467*x683 + x469*x81;\n",
      "    H[178] = 0.55*x22*x483 + x22*x485 + x24*x486 + x477*x81 + x487*x683;\n",
      "    H[179] = 0;\n",
      "    H[180] = 0;\n",
      "    H[181] = 0;\n",
      "    H[182] = 0;\n",
      "    H[183] = x22*x511 + x24*x510;\n",
      "    H[184] = x22*x529 + x24*x528;\n",
      "    H[185] = x22*x546 + x24*x547;\n",
      "    H[186] = x22*x551 + x24*x554;\n",
      "    H[187] = x22*x566 + x24*x565;\n",
      "    H[188] = x22*x571 + x24*x574;\n",
      "    H[189] = 0.55*x22*x585 + x22*x601 + x24*x605 + x587*x81 + x602*x683;\n",
      "    H[190] = 0.55*x22*x631 + x22*x633 + x24*x634 + x615*x81 + x630*x683;\n",
      "    H[191] = 0.55*x22*x658 + x22*x660 + x24*x653 + x643*x81 + x657*x683;\n",
      "    H[192] = x22*x678 + 0.55*x22*x680 + x24*x679 + x666*x81 + x676*x683;\n",
      "    H[193] = 0;\n",
      "    H[194] = 0;\n",
      "    H[195] = 0;\n",
      "    H[196] = 0;\n",
      "    H[197] = 0;\n",
      "    H[198] = 0;\n",
      "    H[199] = 0;\n",
      "    H[200] = 0;\n",
      "    H[201] = 0;\n",
      "    H[202] = 0;\n",
      "    H[203] = 0;\n",
      "    H[204] = 0;\n",
      "    H[205] = 0;\n",
      "    H[206] = 0;\n",
      "    H[207] = 0;\n",
      "    H[208] = 0;\n",
      "    H[209] = 0;\n",
      "    H[210] = 0;\n",
      "    H[211] = 0;\n",
      "    H[212] = 0;\n",
      "    H[213] = 0;\n",
      "    H[214] = 0;\n",
      "    H[215] = 0;\n",
      "    H[216] = 0;\n",
      "    H[217] = 0;\n",
      "    H[218] = 0;\n",
      "    H[219] = 0;\n",
      "    H[220] = 0;\n",
      "    H[221] = 0;\n",
      "    H[222] = 0;\n",
      "    H[223] = 0;\n",
      "    H[224] = 0;\n",
      "    H[225] = x41;\n",
      "    H[226] = x44;\n",
      "    H[227] = x62;\n",
      "    H[228] = x63;\n",
      "    H[229] = x64;\n",
      "    H[230] = x68;\n",
      "    H[231] = 0.045*x69 + x86;\n",
      "    H[232] = 0.045*x43;\n",
      "    H[233] = x96 + 0.045*x97;\n",
      "    H[234] = 0.045*x88;\n",
      "    H[235] = ddq(2);\n",
      "    H[236] = dq(2);\n",
      "    H[237] = sign(dq(2));\n",
      "    H[238] = 1;\n",
      "    H[239] = x112;\n",
      "    H[240] = x126;\n",
      "    H[241] = x135;\n",
      "    H[242] = x140;\n",
      "    H[243] = x145;\n",
      "    H[244] = x149;\n",
      "    H[245] = 0.045*x133 + x163;\n",
      "    H[246] = 0.045*x179 + x182;\n",
      "    H[247] = 0.045*x190 + x192;\n",
      "    H[248] = 0.045*x160 + x199;\n",
      "    H[249] = 0;\n",
      "    H[250] = 0;\n",
      "    H[251] = 0;\n",
      "    H[252] = 0;\n",
      "    H[253] = x225;\n",
      "    H[254] = x236;\n",
      "    H[255] = x250;\n",
      "    H[256] = x255;\n",
      "    H[257] = x261;\n",
      "    H[258] = x269;\n",
      "    H[259] = 0.045*x286 + x293;\n",
      "    H[260] = 0.045*x303 + x304;\n",
      "    H[261] = 0.045*x315 + x320;\n",
      "    H[262] = 0.045*x333 + x338;\n",
      "    H[263] = 0;\n",
      "    H[264] = 0;\n",
      "    H[265] = 0;\n",
      "    H[266] = 0;\n",
      "    H[267] = x353;\n",
      "    H[268] = x368;\n",
      "    H[269] = x381;\n",
      "    H[270] = x389;\n",
      "    H[271] = x398;\n",
      "    H[272] = x404;\n",
      "    H[273] = 0.045*x411 + x424;\n",
      "    H[274] = 0.045*x449 + x455;\n",
      "    H[275] = 0.045*x469 + x474;\n",
      "    H[276] = 0.045*x477 + x479;\n",
      "    H[277] = 0;\n",
      "    H[278] = 0;\n",
      "    H[279] = 0;\n",
      "    H[280] = 0;\n",
      "    H[281] = x509;\n",
      "    H[282] = x530;\n",
      "    H[283] = x545;\n",
      "    H[284] = x555;\n",
      "    H[285] = x567;\n",
      "    H[286] = x575;\n",
      "    H[287] = 0.045*x587 + x606;\n",
      "    H[288] = 0.045*x615 + x626;\n",
      "    H[289] = 0.045*x643 + x652;\n",
      "    H[290] = 0.045*x666 + x672;\n",
      "    H[291] = 0;\n",
      "    H[292] = 0;\n",
      "    H[293] = 0;\n",
      "    H[294] = 0;\n",
      "    H[295] = 0;\n",
      "    H[296] = 0;\n",
      "    H[297] = 0;\n",
      "    H[298] = 0;\n",
      "    H[299] = 0;\n",
      "    H[300] = 0;\n",
      "    H[301] = 0;\n",
      "    H[302] = 0;\n",
      "    H[303] = 0;\n",
      "    H[304] = 0;\n",
      "    H[305] = 0;\n",
      "    H[306] = 0;\n",
      "    H[307] = 0;\n",
      "    H[308] = 0;\n",
      "    H[309] = 0;\n",
      "    H[310] = 0;\n",
      "    H[311] = 0;\n",
      "    H[312] = 0;\n",
      "    H[313] = 0;\n",
      "    H[314] = 0;\n",
      "    H[315] = 0;\n",
      "    H[316] = 0;\n",
      "    H[317] = 0;\n",
      "    H[318] = 0;\n",
      "    H[319] = 0;\n",
      "    H[320] = 0;\n",
      "    H[321] = 0;\n",
      "    H[322] = 0;\n",
      "    H[323] = 0;\n",
      "    H[324] = 0;\n",
      "    H[325] = 0;\n",
      "    H[326] = 0;\n",
      "    H[327] = 0;\n",
      "    H[328] = 0;\n",
      "    H[329] = 0;\n",
      "    H[330] = 0;\n",
      "    H[331] = 0;\n",
      "    H[332] = 0;\n",
      "    H[333] = 0;\n",
      "    H[334] = 0;\n",
      "    H[335] = 0;\n",
      "    H[336] = 0;\n",
      "    H[337] = x113;\n",
      "    H[338] = x125;\n",
      "    H[339] = x138;\n",
      "    H[340] = x117;\n",
      "    H[341] = x146;\n",
      "    H[342] = x116;\n",
      "    H[343] = x168 + 0.045*x169;\n",
      "    H[344] = 0.045*x125;\n",
      "    H[345] = 0.045*x194 + x197;\n",
      "    H[346] = 0.045*x180;\n",
      "    H[347] = ddq(3);\n",
      "    H[348] = dq(3);\n",
      "    H[349] = sign(dq(3));\n",
      "    H[350] = 1;\n",
      "    H[351] = x219;\n",
      "    H[352] = x237;\n",
      "    H[353] = x249;\n",
      "    H[354] = x251;\n",
      "    H[355] = x263;\n",
      "    H[356] = x268;\n",
      "    H[357] = 0.045*x274 + x283;\n",
      "    H[358] = 0.045*x308 + x311;\n",
      "    H[359] = 0.045*x321 + x322;\n",
      "    H[360] = 0.045*x328 + x334;\n",
      "    H[361] = 0;\n",
      "    H[362] = 0;\n",
      "    H[363] = 0;\n",
      "    H[364] = 0;\n",
      "    H[365] = x354;\n",
      "    H[366] = x370;\n",
      "    H[367] = x382;\n",
      "    H[368] = x385;\n",
      "    H[369] = x399;\n",
      "    H[370] = x406;\n",
      "    H[371] = 0.045*x428 + x430;\n",
      "    H[372] = 0.045*x434 + x444;\n",
      "    H[373] = 0.045*x457 + x464;\n",
      "    H[374] = 0.045*x480 + x484;\n",
      "    H[375] = 0;\n",
      "    H[376] = 0;\n",
      "    H[377] = 0;\n",
      "    H[378] = 0;\n",
      "    H[379] = x511;\n",
      "    H[380] = x529;\n",
      "    H[381] = x546;\n",
      "    H[382] = x551;\n",
      "    H[383] = x566;\n",
      "    H[384] = x571;\n",
      "    H[385] = 0.045*x580 + x600;\n",
      "    H[386] = 0.045*x627 + x632;\n",
      "    H[387] = 0.045*x654 + x659;\n",
      "    H[388] = 0.045*x675 + x677;\n",
      "    H[389] = 0;\n",
      "    H[390] = 0;\n",
      "    H[391] = 0;\n",
      "    H[392] = 0;\n",
      "    H[393] = 0;\n",
      "    H[394] = 0;\n",
      "    H[395] = 0;\n",
      "    H[396] = 0;\n",
      "    H[397] = 0;\n",
      "    H[398] = 0;\n",
      "    H[399] = 0;\n",
      "    H[400] = 0;\n",
      "    H[401] = 0;\n",
      "    H[402] = 0;\n",
      "    H[403] = 0;\n",
      "    H[404] = 0;\n",
      "    H[405] = 0;\n",
      "    H[406] = 0;\n",
      "    H[407] = 0;\n",
      "    H[408] = 0;\n",
      "    H[409] = 0;\n",
      "    H[410] = 0;\n",
      "    H[411] = 0;\n",
      "    H[412] = 0;\n",
      "    H[413] = 0;\n",
      "    H[414] = 0;\n",
      "    H[415] = 0;\n",
      "    H[416] = 0;\n",
      "    H[417] = 0;\n",
      "    H[418] = 0;\n",
      "    H[419] = 0;\n",
      "    H[420] = 0;\n",
      "    H[421] = 0;\n",
      "    H[422] = 0;\n",
      "    H[423] = 0;\n",
      "    H[424] = 0;\n",
      "    H[425] = 0;\n",
      "    H[426] = 0;\n",
      "    H[427] = 0;\n",
      "    H[428] = 0;\n",
      "    H[429] = 0;\n",
      "    H[430] = 0;\n",
      "    H[431] = 0;\n",
      "    H[432] = 0;\n",
      "    H[433] = 0;\n",
      "    H[434] = 0;\n",
      "    H[435] = 0;\n",
      "    H[436] = 0;\n",
      "    H[437] = 0;\n",
      "    H[438] = 0;\n",
      "    H[439] = 0;\n",
      "    H[440] = 0;\n",
      "    H[441] = 0;\n",
      "    H[442] = 0;\n",
      "    H[443] = 0;\n",
      "    H[444] = 0;\n",
      "    H[445] = 0;\n",
      "    H[446] = 0;\n",
      "    H[447] = 0;\n",
      "    H[448] = 0;\n",
      "    H[449] = x221;\n",
      "    H[450] = x235;\n",
      "    H[451] = x241;\n",
      "    H[452] = x252;\n",
      "    H[453] = x256;\n",
      "    H[454] = x265;\n",
      "    H[455] = x290;\n",
      "    H[456] = 0;\n",
      "    H[457] = x317;\n",
      "    H[458] = 0;\n",
      "    H[459] = ddq(4);\n",
      "    H[460] = dq(4);\n",
      "    H[461] = sign(dq(4));\n",
      "    H[462] = 1;\n",
      "    H[463] = x352;\n",
      "    H[464] = x367;\n",
      "    H[465] = x380;\n",
      "    H[466] = x386;\n",
      "    H[467] = x397;\n",
      "    H[468] = x401;\n",
      "    H[469] = x423;\n",
      "    H[470] = x452;\n",
      "    H[471] = x471;\n",
      "    H[472] = 0;\n",
      "    H[473] = 0;\n",
      "    H[474] = 0;\n",
      "    H[475] = 0;\n",
      "    H[476] = 0;\n",
      "    H[477] = x505;\n",
      "    H[478] = x527;\n",
      "    H[479] = x544;\n",
      "    H[480] = x552;\n",
      "    H[481] = x564;\n",
      "    H[482] = x573;\n",
      "    H[483] = x604;\n",
      "    H[484] = x625;\n",
      "    H[485] = x651;\n",
      "    H[486] = x668;\n",
      "    H[487] = 0;\n",
      "    H[488] = 0;\n",
      "    H[489] = 0;\n",
      "    H[490] = 0;\n",
      "    H[491] = 0;\n",
      "    H[492] = 0;\n",
      "    H[493] = 0;\n",
      "    H[494] = 0;\n",
      "    H[495] = 0;\n",
      "    H[496] = 0;\n",
      "    H[497] = 0;\n",
      "    H[498] = 0;\n",
      "    H[499] = 0;\n",
      "    H[500] = 0;\n",
      "    H[501] = 0;\n",
      "    H[502] = 0;\n",
      "    H[503] = 0;\n",
      "    H[504] = 0;\n",
      "    H[505] = 0;\n",
      "    H[506] = 0;\n",
      "    H[507] = 0;\n",
      "    H[508] = 0;\n",
      "    H[509] = 0;\n",
      "    H[510] = 0;\n",
      "    H[511] = 0;\n",
      "    H[512] = 0;\n",
      "    H[513] = 0;\n",
      "    H[514] = 0;\n",
      "    H[515] = 0;\n",
      "    H[516] = 0;\n",
      "    H[517] = 0;\n",
      "    H[518] = 0;\n",
      "    H[519] = 0;\n",
      "    H[520] = 0;\n",
      "    H[521] = 0;\n",
      "    H[522] = 0;\n",
      "    H[523] = 0;\n",
      "    H[524] = 0;\n",
      "    H[525] = 0;\n",
      "    H[526] = 0;\n",
      "    H[527] = 0;\n",
      "    H[528] = 0;\n",
      "    H[529] = 0;\n",
      "    H[530] = 0;\n",
      "    H[531] = 0;\n",
      "    H[532] = 0;\n",
      "    H[533] = 0;\n",
      "    H[534] = 0;\n",
      "    H[535] = 0;\n",
      "    H[536] = 0;\n",
      "    H[537] = 0;\n",
      "    H[538] = 0;\n",
      "    H[539] = 0;\n",
      "    H[540] = 0;\n",
      "    H[541] = 0;\n",
      "    H[542] = 0;\n",
      "    H[543] = 0;\n",
      "    H[544] = 0;\n",
      "    H[545] = 0;\n",
      "    H[546] = 0;\n",
      "    H[547] = 0;\n",
      "    H[548] = 0;\n",
      "    H[549] = 0;\n",
      "    H[550] = 0;\n",
      "    H[551] = 0;\n",
      "    H[552] = 0;\n",
      "    H[553] = 0;\n",
      "    H[554] = 0;\n",
      "    H[555] = 0;\n",
      "    H[556] = 0;\n",
      "    H[557] = 0;\n",
      "    H[558] = 0;\n",
      "    H[559] = 0;\n",
      "    H[560] = 0;\n",
      "    H[561] = x344;\n",
      "    H[562] = x357;\n",
      "    H[563] = x373;\n",
      "    H[564] = x359;\n",
      "    H[565] = x390;\n",
      "    H[566] = x358;\n",
      "    H[567] = x421;\n",
      "    H[568] = 0;\n",
      "    H[569] = x463;\n",
      "    H[570] = 0;\n",
      "    H[571] = ddq(5);\n",
      "    H[572] = dq(5);\n",
      "    H[573] = sign(dq(5));\n",
      "    H[574] = 1;\n",
      "    H[575] = x506;\n",
      "    H[576] = x519;\n",
      "    H[577] = x542;\n",
      "    H[578] = x550;\n",
      "    H[579] = x559;\n",
      "    H[580] = x568;\n",
      "    H[581] = x599;\n",
      "    H[582] = x623;\n",
      "    H[583] = x649;\n",
      "    H[584] = x669;\n",
      "    H[585] = 0;\n",
      "    H[586] = 0;\n",
      "    H[587] = 0;\n",
      "    H[588] = 0;\n",
      "    H[589] = 0;\n",
      "    H[590] = 0;\n",
      "    H[591] = 0;\n",
      "    H[592] = 0;\n",
      "    H[593] = 0;\n",
      "    H[594] = 0;\n",
      "    H[595] = 0;\n",
      "    H[596] = 0;\n",
      "    H[597] = 0;\n",
      "    H[598] = 0;\n",
      "    H[599] = 0;\n",
      "    H[600] = 0;\n",
      "    H[601] = 0;\n",
      "    H[602] = 0;\n",
      "    H[603] = 0;\n",
      "    H[604] = 0;\n",
      "    H[605] = 0;\n",
      "    H[606] = 0;\n",
      "    H[607] = 0;\n",
      "    H[608] = 0;\n",
      "    H[609] = 0;\n",
      "    H[610] = 0;\n",
      "    H[611] = 0;\n",
      "    H[612] = 0;\n",
      "    H[613] = 0;\n",
      "    H[614] = 0;\n",
      "    H[615] = 0;\n",
      "    H[616] = 0;\n",
      "    H[617] = 0;\n",
      "    H[618] = 0;\n",
      "    H[619] = 0;\n",
      "    H[620] = 0;\n",
      "    H[621] = 0;\n",
      "    H[622] = 0;\n",
      "    H[623] = 0;\n",
      "    H[624] = 0;\n",
      "    H[625] = 0;\n",
      "    H[626] = 0;\n",
      "    H[627] = 0;\n",
      "    H[628] = 0;\n",
      "    H[629] = 0;\n",
      "    H[630] = 0;\n",
      "    H[631] = 0;\n",
      "    H[632] = 0;\n",
      "    H[633] = 0;\n",
      "    H[634] = 0;\n",
      "    H[635] = 0;\n",
      "    H[636] = 0;\n",
      "    H[637] = 0;\n",
      "    H[638] = 0;\n",
      "    H[639] = 0;\n",
      "    H[640] = 0;\n",
      "    H[641] = 0;\n",
      "    H[642] = 0;\n",
      "    H[643] = 0;\n",
      "    H[644] = 0;\n",
      "    H[645] = 0;\n",
      "    H[646] = 0;\n",
      "    H[647] = 0;\n",
      "    H[648] = 0;\n",
      "    H[649] = 0;\n",
      "    H[650] = 0;\n",
      "    H[651] = 0;\n",
      "    H[652] = 0;\n",
      "    H[653] = 0;\n",
      "    H[654] = 0;\n",
      "    H[655] = 0;\n",
      "    H[656] = 0;\n",
      "    H[657] = 0;\n",
      "    H[658] = 0;\n",
      "    H[659] = 0;\n",
      "    H[660] = 0;\n",
      "    H[661] = 0;\n",
      "    H[662] = 0;\n",
      "    H[663] = 0;\n",
      "    H[664] = 0;\n",
      "    H[665] = 0;\n",
      "    H[666] = 0;\n",
      "    H[667] = 0;\n",
      "    H[668] = 0;\n",
      "    H[669] = 0;\n",
      "    H[670] = 0;\n",
      "    H[671] = 0;\n",
      "    H[672] = 0;\n",
      "    H[673] = x497;\n",
      "    H[674] = x523;\n",
      "    H[675] = x532;\n",
      "    H[676] = x496;\n",
      "    H[677] = x560;\n",
      "    H[678] = x533;\n",
      "    H[679] = x597;\n",
      "    H[680] = x621;\n",
      "    H[681] = 0;\n",
      "    H[682] = 0;\n",
      "    H[683] = ddq(6);\n",
      "    H[684] = dq(6);\n",
      "    H[685] = sign(dq(6));\n",
      "    H[686] = 1;\n",
      "%%\n",
      "end\n"
     ]
    }
   ],
   "source": [
    "datafolder = 'data/'\n",
    "tmpfolder = 'tmp/'\n",
    "import pickle\n",
    "import sympybotics\n",
    "with open(tmpfolder +  'robotmodels/wam7_model.pkl', 'rb' ) as file:\n",
    "          rbt = pickle.load( file )\n",
    "rec_h = 0.001\n",
    "import sympybotics as spb\n",
    "print(spb.robot_code_to_func( 'matlab', rbt.H_code, 'H', 'regressor_func', rbt.rbtdef))"
   ]
  },
  {
   "cell_type": "code",
   "execution_count": 22,
   "metadata": {},
   "outputs": [],
   "source": [
    "from support_funcs.regr_data_proc import read_data, diff_and_filt_data, gen_regr_matrices\n",
    "\n",
    "def process_regression_data(traj_name):\n",
    "    t_raw, q_raw, tau_raw, t_ref, q_ref = read_data(dof=rbt.dof, h=rec_h,\n",
    "                                                    rbtlogfile=datafolder + 'recdata/rbtlog_%s.dat'%traj_name,\n",
    "                                                    trajreffile=datafolder + 'trajectories/%s.dat'%traj_name)\n",
    "    \n",
    "    q, dq, ddq, tau = diff_and_filt_data(dof=rbt.dof, h=rec_h,  q_raw=q_raw, tau_raw=tau_raw,\n",
    "                                   fc_q=fc_q, fc_dq=fc_dq, fc_ddq=fc_ddq, fc_tau=fc_tau)\n",
    "    \n",
    "    t_raw = t_raw[si:sf]; q_raw = q_raw[si:sf]; tau_raw = tau_raw[si:sf]\n",
    "    q = q[si:sf]; dq = dq[si:sf]; ddq = ddq[si:sf]; tau = tau[si:sf]\n",
    "    \n",
    "    t_raw = t_raw - t_raw[0]\n",
    "    \n",
    "    t = numpy.array(range(q.shape[0])) * rec_h\n",
    "    \n",
    "    W, omega, Q1, R1, rho1 = gen_regr_matrices(rbt, q, dq, ddq, tau)\n",
    "    \n",
    "    return t_raw, q_raw, tau_raw, t, q, dq, ddq, tau, W, omega, Q1, R1, rho1"
   ]
  },
  {
   "cell_type": "code",
   "execution_count": 34,
   "metadata": {},
   "outputs": [
    {
     "name": "stdout",
     "output_type": "stream",
     "text": [
      ">>>>>>>> traj1 proc <<<<<<<<<\n",
      "CPU times: user 1min 26s, sys: 1.17 s, total: 1min 27s\n",
      "Wall time: 1min 41s\n",
      " (cond=99.403409)\n",
      "traj1 save\n",
      "CPU times: user 17.2 s, sys: 1.03 s, total: 18.2 s\n",
      "Wall time: 38.7 s\n",
      ">>>>>>>> traj2 proc <<<<<<<<<\n",
      "CPU times: user 1min 27s, sys: 1.05 s, total: 1min 28s\n",
      "Wall time: 1min 57s\n",
      " (cond=93.618890)\n",
      "traj2 save\n",
      "CPU times: user 16.6 s, sys: 973 ms, total: 17.6 s\n",
      "Wall time: 21.1 s\n",
      ">>>>>>>> traj3 proc <<<<<<<<<\n",
      "CPU times: user 1min 28s, sys: 840 ms, total: 1min 28s\n",
      "Wall time: 1min 30s\n",
      " (cond=105.647955)\n",
      "traj3 save\n",
      "CPU times: user 17.1 s, sys: 867 ms, total: 17.9 s\n",
      "Wall time: 19 s\n",
      ">>>>>>>> traj4 proc <<<<<<<<<\n",
      "CPU times: user 1min 27s, sys: 873 ms, total: 1min 28s\n",
      "Wall time: 1min 30s\n",
      " (cond=101.282987)\n",
      "traj4 save\n",
      "CPU times: user 16.2 s, sys: 813 ms, total: 17 s\n",
      "Wall time: 21.3 s\n"
     ]
    }
   ],
   "source": [
    "from support_funcs.utils import _fprint\n",
    "\n",
    "for traj in ['traj1', 'traj2', 'traj3', 'traj4']:\n",
    "    _fprint('>>>>>>>> %s proc <<<<<<<<<'%traj)\n",
    "    %time t_raw, q_raw, tau_raw, t, q, dq, ddq, tau, W, omega, Q1, R1, rho1 = process_regression_data(traj)\n",
    "    \n",
    "    _fprint(' (cond=%f)'%numpy.linalg.cond(W))\n",
    "    \n",
    "    _fprint('%s save'%traj)\n",
    "    \n",
    "    %time \\\n",
    "    numpy.savez_compressed(tmpfolder + 'procdata/' + traj + '_raw', t=t_raw, q=q_raw, tau=tau_raw);\\\n",
    "    numpy.savez_compressed(tmpfolder + 'procdata/' + traj + '_proc', t=t, q=q, dq=dq, ddq=ddq, tau=tau); \\\n",
    "    numpy.savez_compressed(tmpfolder + 'procdata/' + traj + '_regr', W=W, omega=omega, Q1=Q1, R1=R1, rho1=rho1)\n",
    "    \n",
    "    del t_raw, q_raw, tau_raw, t, q, dq, ddq, tau, W, omega, Q1, R1, rho1"
   ]
  },
  {
   "cell_type": "markdown",
   "metadata": {},
   "source": [
    "### Plot"
   ]
  },
  {
   "cell_type": "code",
   "execution_count": 285,
   "metadata": {},
   "outputs": [],
   "source": [
    "raw = numpy.load(tmpfolder + 'procdata/traj1_raw.npz')\n",
    "tau_raw = raw['tau']\n",
    "q_raw = raw['q']\n",
    "del raw\n",
    "proc = numpy.load(tmpfolder + 'procdata/traj1_proc.npz')\n",
    "t = proc['t']\n",
    "tau = proc['tau']\n",
    "q = proc['q']\n",
    "dq = proc['dq']\n",
    "del proc"
   ]
  },
  {
   "cell_type": "code",
   "execution_count": 286,
   "metadata": {},
   "outputs": [
    {
     "data": {
      "image/png": "[encoded data removed]",
      "text/plain": [
       "<matplotlib.figure.Figure at 0xc30f210>"
      ]
     },
     "metadata": {},
     "output_type": "display_data"
    }
   ],
   "source": [
    "from matplotlib import pyplot as plt\n",
    "plt.close()\n",
    "\n",
    "joint = 1\n",
    "firsts = 20000\n",
    "plt.plot(t[:firsts],q_raw[:,joint-1][:firsts])\n",
    "#plt.plot(t[:firsts],q[:,joint-1][:firsts])\n",
    "#plt.plot(t[:firsts],dq[:,joint-1][:firsts])\n",
    "plt.plot(t[:firsts],tau_raw[:,joint-1][:firsts])\n",
    "\n",
    "plt.show()"
   ]
  },
  {
   "cell_type": "code",
   "execution_count": 287,
   "metadata": {},
   "outputs": [],
   "source": [
    "del t, q, dq, tau, q_raw, tau_raw"
   ]
  },
  {
   "cell_type": "markdown",
   "metadata": {},
   "source": [
    "4 - Dynamic Parameter Estimation\n",
    "================================"
   ]
  },
  {
   "cell_type": "code",
   "execution_count": 55,
   "metadata": {},
   "outputs": [],
   "source": [
    "import os\n",
    "import pickle\n",
    "import sympy\n",
    "import numpy\n",
    "import time\n",
    "\n",
    "import sympybotics\n",
    "import lmi_sdp\n",
    "\n",
    "from lmi_sdp import init_lmi_latex_printing\n",
    "init_lmi_latex_printing()"
   ]
  },
  {
   "cell_type": "code",
   "execution_count": 56,
   "metadata": {},
   "outputs": [],
   "source": [
    "with open(tmpfolder +  'robotmodels/wam7_model.pkl', 'rb' ) as file:\n",
    "          rbt = pickle.load( file )"
   ]
  },
  {
   "cell_type": "code",
   "execution_count": 85,
   "metadata": {},
   "outputs": [],
   "source": [
    "epsilon_safemargin = 1e-6\n",
    "epsilon_sdptol = 1e-7"
   ]
  },
  {
   "cell_type": "markdown",
   "metadata": {},
   "source": [
    "## LMI Matrix Definitions"
   ]
  },
  {
   "cell_type": "code",
   "execution_count": 57,
   "metadata": {},
   "outputs": [],
   "source": [
    "dof = rbt.dof\n",
    "\n",
    "delta = rbt.dyn.dynparms\n",
    "n_delta = rbt.dyn.n_dynparms\n",
    "\n",
    "beta = rbt.dyn.baseparms.n()\n",
    "n_beta = rbt.dyn.n_base\n",
    "beta_symbs = sympy.Matrix([sympy.Symbol('beta'+str(i+1),real=True) for i in range(n_beta)])\n",
    "\n",
    "delta_d = (rbt.dyn.Pd.T*delta)\n",
    "n_delta_d = len(delta_d)\n",
    "\n",
    "Pb = rbt.dyn.Pb\n",
    "\n",
    "varchange_dict = dict(zip(Pb.T*delta ,  beta_symbs - ( beta - Pb.T*delta )))"
   ]
  },
  {
   "cell_type": "code",
   "execution_count": 58,
   "metadata": {},
   "outputs": [],
   "source": [
    "from support_funcs.utils import skew, mrepl\n",
    "from sympy import BlockMatrix, Matrix, eye, Identity\n",
    "I = Identity\n",
    "S = skew"
   ]
  },
  {
   "cell_type": "code",
   "execution_count": 59,
   "metadata": {},
   "outputs": [],
   "source": [
    "D_inertia_blocks = []\n",
    "for i in range(dof):\n",
    "    L = rbt.rbtdef.L[i]\n",
    "    l = rbt.rbtdef.l[i]\n",
    "    m = rbt.rbtdef.m[i]\n",
    "    Di = BlockMatrix([[L,    S(l).T],\n",
    "                      [S(l), I(3)*m]])\n",
    "    D_inertia_blocks.append(Di.as_explicit())"
   ]
  },
  {
   "cell_type": "code",
   "execution_count": 288,
   "metadata": {},
   "outputs": [
    {
     "data": {
      "image/png": "[encoded data removed]",
      "text/latex": [
       "$$\\left[\\begin{smallmatrix}{}L_{1xx} & L_{1xy} & L_{1xz} & 0 & l_{1z} & - l_{1y}\\\\L_{1xy} & L_{1yy} & L_{1yz} & - l_{1z} & 0 & l_{1x}\\\\L_{1xz} & L_{1yz} & L_{1zz} & l_{1y} & - l_{1x} & 0\\\\0 & - l_{1z} & l_{1y} & m_{1} & 0 & 0\\\\l_{1z} & 0 & - l_{1x} & 0 & m_{1} & 0\\\\- l_{1y} & l_{1x} & 0 & 0 & 0 & m_{1}\\end{smallmatrix}\\right]$$"
      ],
      "text/plain": [
       "⎡L₁ₓₓ   L_1xy  L_1xz    0    l_1z  -l_1y⎤\n",
       "⎢                                       ⎥\n",
       "⎢L_1xy  L_1yy  L_1yz  -l_1z   0     l₁ₓ ⎥\n",
       "⎢                                       ⎥\n",
       "⎢L_1xz  L_1yz  L_1zz  l_1y   -l₁ₓ    0  ⎥\n",
       "⎢                                       ⎥\n",
       "⎢  0    -l_1z  l_1y    m₁     0      0  ⎥\n",
       "⎢                                       ⎥\n",
       "⎢l_1z     0    -l₁ₓ     0     m₁     0  ⎥\n",
       "⎢                                       ⎥\n",
       "⎣-l_1y   l₁ₓ     0      0     0     m₁  ⎦"
      ]
     },
     "execution_count": 288,
     "metadata": {},
     "output_type": "execute_result"
    }
   ],
   "source": [
    "D_inertia_blocks[0]"
   ]
  },
  {
   "cell_type": "code",
   "execution_count": 61,
   "metadata": {},
   "outputs": [],
   "source": [
    "D_other_blocks = []\n",
    "for i in range(dof):\n",
    "    if rbt.rbtdef.driveinertiamodel == 'simplified':\n",
    "        D_other_blocks.append( Matrix([rbt.rbtdef.Ia[i]]) )\n",
    "    if 'viscous' in rbt.rbtdef.frictionmodel:\n",
    "        D_other_blocks.append( Matrix([rbt.rbtdef.fv[i]]) )\n",
    "    if 'Coulomb' in rbt.rbtdef.frictionmodel:\n",
    "        D_other_blocks.append( Matrix([rbt.rbtdef.fc[i]]) )"
   ]
  },
  {
   "cell_type": "code",
   "execution_count": 62,
   "metadata": {},
   "outputs": [],
   "source": [
    "D_blocks = D_inertia_blocks + D_other_blocks"
   ]
  },
  {
   "cell_type": "code",
   "execution_count": 289,
   "metadata": {},
   "outputs": [
    {
     "data": {
      "text/latex": [
       "$$\\begin{bmatrix}\\left[\\begin{smallmatrix}{}L_{1xx} & L_{1xy} & L_{1xz} & 0 & l_{1z} & - l_{1y}\\\\L_{1xy} & L_{1yy} & L_{1yz} & - l_{1z} & 0 & l_{1x}\\\\L_{1xz} & L_{1yz} & L_{1zz} & l_{1y} & - l_{1x} & 0\\\\0 & - l_{1z} & l_{1y} & m_{1} & 0 & 0\\\\l_{1z} & 0 & - l_{1x} & 0 & m_{1} & 0\\\\- l_{1y} & l_{1x} & 0 & 0 & 0 & m_{1}\\end{smallmatrix}\\right], & \\left[\\begin{smallmatrix}{}L_{2xx} & L_{2xy} & L_{2xz} & 0 & l_{2z} & - l_{2y}\\\\L_{2xy} & L_{2yy} & L_{2yz} & - l_{2z} & 0 & l_{2x}\\\\L_{2xz} & L_{2yz} & L_{2zz} & l_{2y} & - l_{2x} & 0\\\\0 & - l_{2z} & l_{2y} & m_{2} & 0 & 0\\\\l_{2z} & 0 & - l_{2x} & 0 & m_{2} & 0\\\\- l_{2y} & l_{2x} & 0 & 0 & 0 & m_{2}\\end{smallmatrix}\\right], & \\left[\\begin{smallmatrix}{}L_{3xx} & L_{3xy} & L_{3xz} & 0 & l_{3z} & - l_{3y}\\\\L_{3xy} & L_{3yy} & L_{3yz} & - l_{3z} & 0 & l_{3x}\\\\L_{3xz} & L_{3yz} & L_{3zz} & l_{3y} & - l_{3x} & 0\\\\0 & - l_{3z} & l_{3y} & m_{3} & 0 & 0\\\\l_{3z} & 0 & - l_{3x} & 0 & m_{3} & 0\\\\- l_{3y} & l_{3x} & 0 & 0 & 0 & m_{3}\\end{smallmatrix}\\right], & \\left[\\begin{smallmatrix}{}L_{4xx} & L_{4xy} & L_{4xz} & 0 & l_{4z} & - l_{4y}\\\\L_{4xy} & L_{4yy} & L_{4yz} & - l_{4z} & 0 & l_{4x}\\\\L_{4xz} & L_{4yz} & L_{4zz} & l_{4y} & - l_{4x} & 0\\\\0 & - l_{4z} & l_{4y} & m_{4} & 0 & 0\\\\l_{4z} & 0 & - l_{4x} & 0 & m_{4} & 0\\\\- l_{4y} & l_{4x} & 0 & 0 & 0 & m_{4}\\end{smallmatrix}\\right], & \\left[\\begin{smallmatrix}{}L_{5xx} & L_{5xy} & L_{5xz} & 0 & l_{5z} & - l_{5y}\\\\L_{5xy} & L_{5yy} & L_{5yz} & - l_{5z} & 0 & l_{5x}\\\\L_{5xz} & L_{5yz} & L_{5zz} & l_{5y} & - l_{5x} & 0\\\\0 & - l_{5z} & l_{5y} & m_{5} & 0 & 0\\\\l_{5z} & 0 & - l_{5x} & 0 & m_{5} & 0\\\\- l_{5y} & l_{5x} & 0 & 0 & 0 & m_{5}\\end{smallmatrix}\\right], & \\left[\\begin{smallmatrix}{}L_{6xx} & L_{6xy} & L_{6xz} & 0 & l_{6z} & - l_{6y}\\\\L_{6xy} & L_{6yy} & L_{6yz} & - l_{6z} & 0 & l_{6x}\\\\L_{6xz} & L_{6yz} & L_{6zz} & l_{6y} & - l_{6x} & 0\\\\0 & - l_{6z} & l_{6y} & m_{6} & 0 & 0\\\\l_{6z} & 0 & - l_{6x} & 0 & m_{6} & 0\\\\- l_{6y} & l_{6x} & 0 & 0 & 0 & m_{6}\\end{smallmatrix}\\right], & \\left[\\begin{smallmatrix}{}L_{7xx} & L_{7xy} & L_{7xz} & 0 & l_{7z} & - l_{7y}\\\\L_{7xy} & L_{7yy} & L_{7yz} & - l_{7z} & 0 & l_{7x}\\\\L_{7xz} & L_{7yz} & L_{7zz} & l_{7y} & - l_{7x} & 0\\\\0 & - l_{7z} & l_{7y} & m_{7} & 0 & 0\\\\l_{7z} & 0 & - l_{7x} & 0 & m_{7} & 0\\\\- l_{7y} & l_{7x} & 0 & 0 & 0 & m_{7}\\end{smallmatrix}\\right], & \\left[\\begin{smallmatrix}{}Ia_{1}\\end{smallmatrix}\\right], & \\left[\\begin{smallmatrix}{}fv_{1}\\end{smallmatrix}\\right], & \\left[\\begin{smallmatrix}{}fc_{1}\\end{smallmatrix}\\right], & \\left[\\begin{smallmatrix}{}Ia_{2}\\end{smallmatrix}\\right], & \\left[\\begin{smallmatrix}{}fv_{2}\\end{smallmatrix}\\right], & \\left[\\begin{smallmatrix}{}fc_{2}\\end{smallmatrix}\\right], & \\left[\\begin{smallmatrix}{}Ia_{3}\\end{smallmatrix}\\right], & \\left[\\begin{smallmatrix}{}fv_{3}\\end{smallmatrix}\\right], & \\left[\\begin{smallmatrix}{}fc_{3}\\end{smallmatrix}\\right], & \\left[\\begin{smallmatrix}{}Ia_{4}\\end{smallmatrix}\\right], & \\left[\\begin{smallmatrix}{}fv_{4}\\end{smallmatrix}\\right], & \\left[\\begin{smallmatrix}{}fc_{4}\\end{smallmatrix}\\right], & \\left[\\begin{smallmatrix}{}Ia_{5}\\end{smallmatrix}\\right], & \\left[\\begin{smallmatrix}{}fv_{5}\\end{smallmatrix}\\right], & \\left[\\begin{smallmatrix}{}fc_{5}\\end{smallmatrix}\\right], & \\left[\\begin{smallmatrix}{}Ia_{6}\\end{smallmatrix}\\right], & \\left[\\begin{smallmatrix}{}fv_{6}\\end{smallmatrix}\\right], & \\left[\\begin{smallmatrix}{}fc_{6}\\end{smallmatrix}\\right], & \\left[\\begin{smallmatrix}{}Ia_{7}\\end{smallmatrix}\\right], & \\left[\\begin{smallmatrix}{}fv_{7}\\end{smallmatrix}\\right], & \\left[\\begin{smallmatrix}{}fc_{7}\\end{smallmatrix}\\right]\\end{bmatrix}$$"
      ],
      "text/plain": [
       "⎡⎡L₁ₓₓ   L_1xy  L_1xz    0    l_1z  -l_1y⎤, ⎡L₂ₓₓ   L_2xy  L_2xz    0    l_2z \n",
       "⎢⎢                                       ⎥  ⎢                                 \n",
       "⎢⎢L_1xy  L_1yy  L_1yz  -l_1z   0     l₁ₓ ⎥  ⎢L_2xy  L_2yy  L_2yz  -l_2z   0   \n",
       "⎢⎢                                       ⎥  ⎢                                 \n",
       "⎢⎢L_1xz  L_1yz  L_1zz  l_1y   -l₁ₓ    0  ⎥  ⎢L_2xz  L_2yz  L_2zz  l_2y   -l₂ₓ \n",
       "⎢⎢                                       ⎥  ⎢                                 \n",
       "⎢⎢  0    -l_1z  l_1y    m₁     0      0  ⎥  ⎢  0    -l_2z  l_2y    m₂     0   \n",
       "⎢⎢                                       ⎥  ⎢                                 \n",
       "⎢⎢l_1z     0    -l₁ₓ     0     m₁     0  ⎥  ⎢l_2z     0    -l₂ₓ     0     m₂  \n",
       "⎢⎢                                       ⎥  ⎢                                 \n",
       "⎣⎣-l_1y   l₁ₓ     0      0     0     m₁  ⎦  ⎣-l_2y   l₂ₓ     0      0     0   \n",
       "\n",
       " -l_2y⎤, ⎡L₃ₓₓ   L_3xy  L_3xz    0    l_3z  -l_3y⎤, ⎡L₄ₓₓ   L_4xy  L_4xz    0 \n",
       "      ⎥  ⎢                                       ⎥  ⎢                         \n",
       "  l₂ₓ ⎥  ⎢L_3xy  L_3yy  L_3yz  -l_3z   0     l₃ₓ ⎥  ⎢L_4xy  L_4yy  L_4yz  -l_4\n",
       "      ⎥  ⎢                                       ⎥  ⎢                         \n",
       "   0  ⎥  ⎢L_3xz  L_3yz  L_3zz  l_3y   -l₃ₓ    0  ⎥  ⎢L_4xz  L_4yz  L_4zz  l_4y\n",
       "      ⎥  ⎢                                       ⎥  ⎢                         \n",
       "   0  ⎥  ⎢  0    -l_3z  l_3y    m₃     0      0  ⎥  ⎢  0    -l_4z  l_4y    m₄ \n",
       "      ⎥  ⎢                                       ⎥  ⎢                         \n",
       "   0  ⎥  ⎢l_3z     0    -l₃ₓ     0     m₃     0  ⎥  ⎢l_4z     0    -l₄ₓ     0 \n",
       "      ⎥  ⎢                                       ⎥  ⎢                         \n",
       "  m₂  ⎦  ⎣-l_3y   l₃ₓ     0      0     0     m₃  ⎦  ⎣-l_4y   l₄ₓ     0      0 \n",
       "\n",
       "   l_4z  -l_4y⎤, ⎡L₅ₓₓ   L_5xy  L_5xz    0    l_5z  -l_5y⎤, ⎡L₆ₓₓ   L_6xy  L_6\n",
       "              ⎥  ⎢                                       ⎥  ⎢                 \n",
       "z   0     l₄ₓ ⎥  ⎢L_5xy  L_5yy  L_5yz  -l_5z   0     l₅ₓ ⎥  ⎢L_6xy  L_6yy  L_6\n",
       "              ⎥  ⎢                                       ⎥  ⎢                 \n",
       "   -l₄ₓ    0  ⎥  ⎢L_5xz  L_5yz  L_5zz  l_5y   -l₅ₓ    0  ⎥  ⎢L_6xz  L_6yz  L_6\n",
       "              ⎥  ⎢                                       ⎥  ⎢                 \n",
       "    0      0  ⎥  ⎢  0    -l_5z  l_5y    m₅     0      0  ⎥  ⎢  0    -l_6z  l_6\n",
       "              ⎥  ⎢                                       ⎥  ⎢                 \n",
       "    m₄     0  ⎥  ⎢l_5z     0    -l₅ₓ     0     m₅     0  ⎥  ⎢l_6z     0    -l₆\n",
       "              ⎥  ⎢                                       ⎥  ⎢                 \n",
       "    0     m₄  ⎦  ⎣-l_5y   l₅ₓ     0      0     0     m₅  ⎦  ⎣-l_6y   l₆ₓ     0\n",
       "\n",
       "xz    0    l_6z  -l_6y⎤, ⎡L₇ₓₓ   L_7xy  L_7xz    0    l_7z  -l_7y⎤, [Ia₁], [fv\n",
       "                      ⎥  ⎢                                       ⎥            \n",
       "yz  -l_6z   0     l₆ₓ ⎥  ⎢L_7xy  L_7yy  L_7yz  -l_7z   0     l₇ₓ ⎥            \n",
       "                      ⎥  ⎢                                       ⎥            \n",
       "zz  l_6y   -l₆ₓ    0  ⎥  ⎢L_7xz  L_7yz  L_7zz  l_7y   -l₇ₓ    0  ⎥            \n",
       "                      ⎥  ⎢                                       ⎥            \n",
       "y    m₆     0      0  ⎥  ⎢  0    -l_7z  l_7y    m₇     0      0  ⎥            \n",
       "                      ⎥  ⎢                                       ⎥            \n",
       "ₓ     0     m₆     0  ⎥  ⎢l_7z     0    -l₇ₓ     0     m₇     0  ⎥            \n",
       "                      ⎥  ⎢                                       ⎥            \n",
       "      0     0     m₆  ⎦  ⎣-l_7y   l₇ₓ     0      0     0     m₇  ⎦            \n",
       "\n",
       "₁], [fc₁], [Ia₂], [fv₂], [fc₂], [Ia₃], [fv₃], [fc₃], [Ia₄], [fv₄], [fc₄], [Ia₅\n",
       "                                                                              \n",
       "                                                                              \n",
       "                                                                              \n",
       "                                                                              \n",
       "                                                                              \n",
       "                                                                              \n",
       "                                                                              \n",
       "                                                                              \n",
       "                                                                              \n",
       "                                                                              \n",
       "\n",
       "], [fv₅], [fc₅], [Ia₆], [fv₆], [fc₆], [Ia₇], [fv₇], [fc₇]⎤\n",
       "                                                         ⎥\n",
       "                                                         ⎥\n",
       "                                                         ⎥\n",
       "                                                         ⎥\n",
       "                                                         ⎥\n",
       "                                                         ⎥\n",
       "                                                         ⎥\n",
       "                                                         ⎥\n",
       "                                                         ⎥\n",
       "                                                         ⎦"
      ]
     },
     "execution_count": 289,
     "metadata": {},
     "output_type": "execute_result"
    }
   ],
   "source": [
    "D_blocks"
   ]
  },
  {
   "cell_type": "markdown",
   "metadata": {},
   "source": [
    "## Change of Variable Space"
   ]
  },
  {
   "cell_type": "code",
   "execution_count": 83,
   "metadata": {},
   "outputs": [],
   "source": [
    "varchange_dict = dict(zip(Pb.T*delta ,  beta_symbs - ( beta - Pb.T*delta )))"
   ]
  },
  {
   "cell_type": "code",
   "execution_count": 84,
   "metadata": {},
   "outputs": [],
   "source": [
    "DB_blocks = [mrepl(Di, varchange_dict) for Di in D_blocks]"
   ]
  },
  {
   "cell_type": "markdown",
   "metadata": {},
   "source": [
    "## LMI Definitions"
   ]
  },
  {
   "cell_type": "code",
   "execution_count": 86,
   "metadata": {},
   "outputs": [],
   "source": [
    "from lmi_sdp import LMI_PD, LMI"
   ]
  },
  {
   "cell_type": "code",
   "execution_count": 87,
   "metadata": {},
   "outputs": [],
   "source": [
    "DB_LMIs = list(map(LMI_PD, DB_blocks))"
   ]
  },
  {
   "cell_type": "code",
   "execution_count": 290,
   "metadata": {},
   "outputs": [
    {
     "data": {
      "image/png": "[encoded data removed]",
      "text/latex": [
       "$$\\left[\\begin{smallmatrix}{}L_{1xx} & L_{1xy} & L_{1xz} & 0 & l_{1z} & - l_{1y}\\\\L_{1xy} & - Ia_{1} - L_{2zz} + \\beta_{1} & L_{1yz} & - l_{1z} & 0 & l_{1x}\\\\L_{1xz} & L_{1yz} & L_{1zz} & l_{1y} & - l_{1x} & 0\\\\0 & - l_{1z} & l_{1y} & m_{1} & 0 & 0\\\\l_{1z} & 0 & - l_{1x} & 0 & m_{1} & 0\\\\- l_{1y} & l_{1x} & 0 & 0 & 0 & m_{1}\\end{smallmatrix}\\right] \\succ 0$$"
      ],
      "text/plain": [
       "⎡L₁ₓₓ         L_1xy        L_1xz    0    l_1z  -l_1y⎤ > 0\n",
       "⎢                                                   ⎥    \n",
       "⎢L_1xy  -Ia₁ - L_2zz + β₁  L_1yz  -l_1z   0     l₁ₓ ⎥    \n",
       "⎢                                                   ⎥    \n",
       "⎢L_1xz        L_1yz        L_1zz  l_1y   -l₁ₓ    0  ⎥    \n",
       "⎢                                                   ⎥    \n",
       "⎢  0          -l_1z        l_1y    m₁     0      0  ⎥    \n",
       "⎢                                                   ⎥    \n",
       "⎢l_1z           0          -l₁ₓ     0     m₁     0  ⎥    \n",
       "⎢                                                   ⎥    \n",
       "⎣-l_1y         l₁ₓ           0      0     0     m₁  ⎦    "
      ]
     },
     "execution_count": 290,
     "metadata": {},
     "output_type": "execute_result"
    }
   ],
   "source": [
    "DB_LMIs[0]"
   ]
  },
  {
   "cell_type": "code",
   "execution_count": 89,
   "metadata": {},
   "outputs": [],
   "source": [
    "DB_LMIs_marg = list(map(lambda lm: LMI(lm, epsilon_safemargin*eye(lm.shape[0])) , DB_blocks))"
   ]
  },
  {
   "cell_type": "code",
   "execution_count": 291,
   "metadata": {},
   "outputs": [
    {
     "data": {
      "image/png": "[encoded data removed]",
      "text/latex": [
       "$$\\left[\\begin{smallmatrix}{}L_{1xx} & L_{1xy} & L_{1xz} & 0 & l_{1z} & - l_{1y}\\\\L_{1xy} & - Ia_{1} - L_{2zz} + \\beta_{1} & L_{1yz} & - l_{1z} & 0 & l_{1x}\\\\L_{1xz} & L_{1yz} & L_{1zz} & l_{1y} & - l_{1x} & 0\\\\0 & - l_{1z} & l_{1y} & m_{1} & 0 & 0\\\\l_{1z} & 0 & - l_{1x} & 0 & m_{1} & 0\\\\- l_{1y} & l_{1x} & 0 & 0 & 0 & m_{1}\\end{smallmatrix}\\right] \\succeq \\left[\\begin{smallmatrix}{}1.0 \\cdot 10^{-6} & 0 & 0 & 0 & 0 & 0\\\\0 & 1.0 \\cdot 10^{-6} & 0 & 0 & 0 & 0\\\\0 & 0 & 1.0 \\cdot 10^{-6} & 0 & 0 & 0\\\\0 & 0 & 0 & 1.0 \\cdot 10^{-6} & 0 & 0\\\\0 & 0 & 0 & 0 & 1.0 \\cdot 10^{-6} & 0\\\\0 & 0 & 0 & 0 & 0 & 1.0 \\cdot 10^{-6}\\end{smallmatrix}\\right]$$"
      ],
      "text/plain": [
       "⎡L₁ₓₓ         L_1xy        L_1xz    0    l_1z  -l_1y⎤ ≥ ⎡1.0e-6    0       0  \n",
       "⎢                                                   ⎥   ⎢                     \n",
       "⎢L_1xy  -Ia₁ - L_2zz + β₁  L_1yz  -l_1z   0     l₁ₓ ⎥   ⎢  0     1.0e-6    0  \n",
       "⎢                                                   ⎥   ⎢                     \n",
       "⎢L_1xz        L_1yz        L_1zz  l_1y   -l₁ₓ    0  ⎥   ⎢  0       0     1.0e-\n",
       "⎢                                                   ⎥   ⎢                     \n",
       "⎢  0          -l_1z        l_1y    m₁     0      0  ⎥   ⎢  0       0       0  \n",
       "⎢                                                   ⎥   ⎢                     \n",
       "⎢l_1z           0          -l₁ₓ     0     m₁     0  ⎥   ⎢  0       0       0  \n",
       "⎢                                                   ⎥   ⎢                     \n",
       "⎣-l_1y         l₁ₓ           0      0     0     m₁  ⎦   ⎣  0       0       0  \n",
       "\n",
       "     0       0       0   ⎤\n",
       "                         ⎥\n",
       "     0       0       0   ⎥\n",
       "                         ⎥\n",
       "6    0       0       0   ⎥\n",
       "                         ⎥\n",
       "   1.0e-6    0       0   ⎥\n",
       "                         ⎥\n",
       "     0     1.0e-6    0   ⎥\n",
       "                         ⎥\n",
       "     0       0     1.0e-6⎦"
      ]
     },
     "execution_count": 291,
     "metadata": {},
     "output_type": "execute_result"
    }
   ],
   "source": [
    "DB_LMIs_marg[0]"
   ]
  },
  {
   "cell_type": "code",
   "execution_count": 292,
   "metadata": {},
   "outputs": [
    {
     "data": {
      "image/png": "[encoded data removed]",
      "text/latex": [
       "$$\\left[\\begin{smallmatrix}{}L_{1xx} - 1.0 \\cdot 10^{-6} & L_{1xy} & L_{1xz} & 0 & l_{1z} & - l_{1y}\\\\L_{1xy} & - Ia_{1} - L_{2zz} + \\beta_{1} - 1.0 \\cdot 10^{-6} & L_{1yz} & - l_{1z} & 0 & l_{1x}\\\\L_{1xz} & L_{1yz} & L_{1zz} - 1.0 \\cdot 10^{-6} & l_{1y} & - l_{1x} & 0\\\\0 & - l_{1z} & l_{1y} & m_{1} - 1.0 \\cdot 10^{-6} & 0 & 0\\\\l_{1z} & 0 & - l_{1x} & 0 & m_{1} - 1.0 \\cdot 10^{-6} & 0\\\\- l_{1y} & l_{1x} & 0 & 0 & 0 & m_{1} - 1.0 \\cdot 10^{-6}\\end{smallmatrix}\\right] \\succeq 0$$"
      ],
      "text/plain": [
       "⎡L₁ₓₓ - 1.0e-6            L_1xy                 L_1xz            0          l_\n",
       "⎢                                                                             \n",
       "⎢    L_1xy      -Ia₁ - L_2zz + β₁ - 1.0e-6      L_1yz          -l_1z          \n",
       "⎢                                                                             \n",
       "⎢    L_1xz                L_1yz             L_1zz - 1.0e-6     l_1y         -l\n",
       "⎢                                                                             \n",
       "⎢      0                  -l_1z                  l_1y       m₁ - 1.0e-6       \n",
       "⎢                                                                             \n",
       "⎢    l_1z                   0                    -l₁ₓ            0       m₁ - \n",
       "⎢                                                                             \n",
       "⎣    -l_1y                 l₁ₓ                    0              0            \n",
       "\n",
       "1z         -l_1y   ⎤ ≥ 0\n",
       "                   ⎥    \n",
       "0           l₁ₓ    ⎥    \n",
       "                   ⎥    \n",
       "₁ₓ           0     ⎥    \n",
       "                   ⎥    \n",
       "0            0     ⎥    \n",
       "                   ⎥    \n",
       "1.0e-6       0     ⎥    \n",
       "                   ⎥    \n",
       "0       m₁ - 1.0e-6⎦    "
      ]
     },
     "execution_count": 292,
     "metadata": {},
     "output_type": "execute_result"
    }
   ],
   "source": [
    "DB_LMIs_marg[0].canonical()"
   ]
  },
  {
   "cell_type": "markdown",
   "metadata": {},
   "source": [
    "## SDP Solver Interfaces"
   ]
  },
  {
   "cell_type": "markdown",
   "metadata": {},
   "source": [
    "### [SDPA](http://sdpa.sourceforge.net/)"
   ]
  },
  {
   "cell_type": "code",
   "execution_count": 93,
   "metadata": {},
   "outputs": [],
   "source": [
    "def sdpa(objf, lmis, variables):\n",
    "    sdpadat = lmi_sdp.to_sdpa_sparse(objf, lmis, variables)\n",
    "    with open(tmpfolder + 'sdpa_dat/sdp.dat-s', 'w') as f:\n",
    "        f.write(sdpadat)\n",
    "    \n",
    "    stdout = !sdpa -ds \"$tmpfolder\"sdpa_dat/sdp.dat-s -o \"$tmpfolder\"sdpa_dat/sdpa.out -p \"$tmpfolder\"sdpa_dat/param.sdpa -pt 2\n",
    "    print('\\n'.join(stdout))\n",
    "\n",
    "    outfile = !cat \"$tmpfolder\"sdpa_dat/sdpa.out\n",
    "    sol = [float(v) for v in outfile[outfile.index('xVec = ') + 1].replace('{', '').replace('}', '').split(',')]\n",
    "    return numpy.matrix(sol).T"
   ]
  },
  {
   "cell_type": "markdown",
   "metadata": {},
   "source": [
    "### [CSDP](https://projects.coin-or.org/Csdp/)"
   ]
  },
  {
   "cell_type": "code",
   "execution_count": 77,
   "metadata": {},
   "outputs": [],
   "source": [
    "def csdp(objf, lmis, variables):\n",
    "    sdpadat = lmi_sdp.to_sdpa_sparse(objf, lmis, variables)\n",
    "    with open(tmpfolder + 'sdpa_dat/sdp.dat-s', 'w') as f:\n",
    "        f.write(sdpadat)\n",
    "    \n",
    "    stdout = !cd \"$tmpfolder\"sdpa_dat; csdp sdp.dat-s csdp.out\n",
    "    print('\\n'.join(stdout))\n",
    "\n",
    "    outfile = !cat \"$tmpfolder\"sdpa_dat/csdp.out\n",
    "    sol = [float(v) for v in outfile[0].split()]\n",
    "    return numpy.matrix(sol).T"
   ]
  },
  {
   "cell_type": "markdown",
   "metadata": {},
   "source": [
    "### [DSDP5](doi.org/10.1145/1356052.1356057)"
   ]
  },
  {
   "cell_type": "code",
   "execution_count": 78,
   "metadata": {},
   "outputs": [],
   "source": [
    "def dsdp5(objf, lmis, variables):\n",
    "    sdpadat = lmi_sdp.to_sdpa_sparse(objf, lmis, variables)\n",
    "    with open(tmpfolder + 'sdpa_dat/sdp.dat-s', 'w') as f:\n",
    "        f.write(sdpadat)\n",
    "    \n",
    "    stdout = !cd \"$tmpfolder\"sdpa_dat; dsdp5 sdp.dat-s -save dsdp5.out -gaptol $epsilon_sdptol\n",
    "    print('\\n'.join(stdout))\n",
    "\n",
    "    outfile = !cat \"$tmpfolder\"sdpa_dat/dsdp5.out\n",
    "    sol = [float(v) for v in outfile[0].split()]\n",
    "    return numpy.matrix(sol).T"
   ]
  },
  {
   "cell_type": "markdown",
   "metadata": {},
   "source": [
    "### [DSDP5 through CVXOPT](http://abel.ee.ucla.edu/cvxopt/userguide/coneprog.html#cvxopt.solvers.sdp)"
   ]
  },
  {
   "cell_type": "code",
   "execution_count": 142,
   "metadata": {},
   "outputs": [],
   "source": [
    "def cvxopt_dsdp5(objf, lmis, variables):\n",
    "    import cvxopt.solvers\n",
    "    c, Gs, hs = lmi_sdp.to_cvxopt(objf, lmis, variables)\n",
    "    cvxopt.solvers.options['DSDP_GapTolerance'] = epsilon_sdptol\n",
    "    tic = time.time()\n",
    "    sdpout = cvxopt.solvers.sdp(c, Gs=Gs, hs=hs, solver='dsdp')\n",
    "    toc = time.time()\n",
    "    print(sdpout['status'], ('ATT!: \\'optimal\\' does not necessarlly means feasible'))\n",
    "    print('Elapsed time: %.2f s'%(toc-tic))\n",
    "    return numpy.matrix(sdpout['x'])"
   ]
  },
  {
   "cell_type": "markdown",
   "metadata": {},
   "source": [
    "### [CVXOPT CONELP](http://abel.ee.ucla.edu/cvxopt/userguide/coneprog.html#cvxopt.solvers.sdp)"
   ]
  },
  {
   "cell_type": "code",
   "execution_count": 143,
   "metadata": {},
   "outputs": [],
   "source": [
    "def cvxopt_conelp(objf, lmis, variables):\n",
    "    import cvxopt.solvers\n",
    "    c, Gs, hs = lmi_sdp.to_cvxopt(objf, lmis, variables)\n",
    "    cvxopt.solvers.options['feastol'] = epsilon_sdptol\n",
    "    tic = time.time()\n",
    "    sdpout = cvxopt.solvers.sdp(c, Gs=Gs, hs=hs)\n",
    "    toc = time.time()\n",
    "    print(sdpout['status'])\n",
    "    print('Elapsed time: %.2f s'%(toc-tic))\n",
    "    return numpy.matrix(sdpout['x'])"
   ]
  },
  {
   "cell_type": "markdown",
   "metadata": {},
   "source": [
    "### [Raw SDPA file](http://plato.asu.edu/ftp/sdpa_format.txt)\n",
    "\n",
    "Can be solved online with a *Semidefinite Programming* solver at [NEOS Solvers](http://www.neos-server.org/neos/solvers/index.html)"
   ]
  },
  {
   "cell_type": "code",
   "execution_count": 156,
   "metadata": {},
   "outputs": [],
   "source": [
    "def sdpa_file(objf, lmis, variables):\n",
    "    sdpadat = lmi_sdp.to_sdpa_sparse(objf, lmis, variables)\n",
    "    with open(tmpfolder + 'sdpa_dat/sdpa_input.dat-s', 'w') as f:\n",
    "        f.write(sdpadat)\n",
    "        \n",
    "    print(\"SDPA file saved at: %ssdpa_dat/sdpa_input.dat-s\"%tmpfolder)"
   ]
  },
  {
   "cell_type": "markdown",
   "metadata": {},
   "source": [
    "--------------"
   ]
  },
  {
   "cell_type": "markdown",
   "metadata": {},
   "source": [
    "Setting the default SDP solver:"
   ]
  },
  {
   "cell_type": "code",
   "execution_count": 153,
   "metadata": {},
   "outputs": [],
   "source": [
    "solve_sdp = dsdp5"
   ]
  },
  {
   "cell_type": "markdown",
   "metadata": {},
   "source": [
    "## OLS Regression ($\\hat{\\beta}$)"
   ]
  },
  {
   "cell_type": "code",
   "execution_count": 122,
   "metadata": {},
   "outputs": [],
   "source": [
    "indentification_traj = 'traj1'"
   ]
  },
  {
   "cell_type": "code",
   "execution_count": 97,
   "metadata": {},
   "outputs": [],
   "source": [
    "regr_mats = numpy.load(tmpfolder + 'procdata/' + indentification_traj + '_regr.npz')\n",
    "W = numpy.matrix(regr_mats['W'])\n",
    "omega = numpy.matrix(regr_mats['omega'])\n",
    "R1 = numpy.matrix(regr_mats['R1'])\n",
    "rho1 = numpy.matrix(regr_mats['rho1'])"
   ]
  },
  {
   "cell_type": "code",
   "execution_count": 125,
   "metadata": {},
   "outputs": [
    {
     "data": {
      "text/plain": [
       "57656"
      ]
     },
     "execution_count": 125,
     "metadata": {},
     "output_type": "execute_result"
    }
   ],
   "source": [
    "omega.shape[0] / rbt.dof"
   ]
  },
  {
   "cell_type": "code",
   "execution_count": 126,
   "metadata": {},
   "outputs": [
    {
     "data": {
      "text/plain": [
       "(403592, 69)"
      ]
     },
     "execution_count": 126,
     "metadata": {},
     "output_type": "execute_result"
    }
   ],
   "source": [
    "W.shape"
   ]
  },
  {
   "cell_type": "code",
   "execution_count": 127,
   "metadata": {},
   "outputs": [
    {
     "data": {
      "text/plain": [
       "99.403409432329326"
      ]
     },
     "execution_count": 127,
     "metadata": {},
     "output_type": "execute_result"
    }
   ],
   "source": [
    "numpy.linalg.cond(W)"
   ]
  },
  {
   "cell_type": "code",
   "execution_count": 130,
   "metadata": {},
   "outputs": [
    {
     "name": "stdout",
     "output_type": "stream",
     "text": [
      "CPU times: user 3.33 ms, sys: 0 ns, total: 3.33 ms\n",
      "Wall time: 2.98 ms\n"
     ]
    }
   ],
   "source": [
    "%time beta_ols = (R1.T * R1).I * R1.T * rho1"
   ]
  },
  {
   "cell_type": "code",
   "execution_count": 131,
   "metadata": {},
   "outputs": [],
   "source": [
    "numpy.savetxt(tmpfolder + 'solutions/' + indentification_traj + '_beta_ols.dat', beta_ols)"
   ]
  },
  {
   "cell_type": "code",
   "execution_count": 132,
   "metadata": {},
   "outputs": [],
   "source": [
    "rho2_norm_sqr = numpy.linalg.norm(omega - W * beta_ols)**2"
   ]
  },
  {
   "cell_type": "markdown",
   "metadata": {},
   "source": [
    "### Base Parameter Feasibility Test (BPFT) of OLS Solution"
   ]
  },
  {
   "cell_type": "code",
   "execution_count": 106,
   "metadata": {},
   "outputs": [],
   "source": [
    "dict_subs = dict(zip(beta_symbs, beta_ols))\n",
    "lmis_ols_bpft = [ lmi_sdp.LMI_PD(mrepl(lmi.canonical().gts, dict_subs)) for lmi in DB_LMIs ]"
   ]
  },
  {
   "cell_type": "code",
   "execution_count": 293,
   "metadata": {},
   "outputs": [
    {
     "data": {
      "image/png": "[encoded data removed]",
      "text/latex": [
       "$$\\left[\\begin{smallmatrix}{}L_{1xx} & L_{1xy} & L_{1xz} & 0 & l_{1z} & - l_{1y}\\\\L_{1xy} & - Ia_{1} - L_{2zz} + 0.338064863107223 & L_{1yz} & - l_{1z} & 0 & l_{1x}\\\\L_{1xz} & L_{1yz} & L_{1zz} & l_{1y} & - l_{1x} & 0\\\\0 & - l_{1z} & l_{1y} & m_{1} & 0 & 0\\\\l_{1z} & 0 & - l_{1x} & 0 & m_{1} & 0\\\\- l_{1y} & l_{1x} & 0 & 0 & 0 & m_{1}\\end{smallmatrix}\\right] \\succ 0$$"
      ],
      "text/plain": [
       "⎡L₁ₓₓ                L_1xy                L_1xz    0    l_1z  -l_1y⎤ > 0\n",
       "⎢                                                                  ⎥    \n",
       "⎢L_1xy  -Ia₁ - L_2zz + 0.338064863107223  L_1yz  -l_1z   0     l₁ₓ ⎥    \n",
       "⎢                                                                  ⎥    \n",
       "⎢L_1xz               L_1yz                L_1zz  l_1y   -l₁ₓ    0  ⎥    \n",
       "⎢                                                                  ⎥    \n",
       "⎢  0                 -l_1z                l_1y    m₁     0      0  ⎥    \n",
       "⎢                                                                  ⎥    \n",
       "⎢l_1z                  0                  -l₁ₓ     0     m₁     0  ⎥    \n",
       "⎢                                                                  ⎥    \n",
       "⎣-l_1y                l₁ₓ                   0      0     0     m₁  ⎦    "
      ]
     },
     "execution_count": 293,
     "metadata": {},
     "output_type": "execute_result"
    }
   ],
   "source": [
    "lmis_ols_bpft[0]"
   ]
  },
  {
   "cell_type": "code",
   "execution_count": 146,
   "metadata": {},
   "outputs": [],
   "source": [
    "variables_ols_bpft = list(delta_d)\n",
    "objf_ols_bpft = 0  # no objective function - \"find\" problem"
   ]
  },
  {
   "cell_type": "markdown",
   "metadata": {},
   "source": [
    "Testing with all solvers\n",
    "\n",
    "**Just one of the following calls is sufficient to show feasibility/infeasibility**"
   ]
  },
  {
   "cell_type": "code",
   "execution_count": 314,
   "metadata": {},
   "outputs": [
    {
     "name": "stdout",
     "output_type": "stream",
     "text": [
      "SDPA file saved at: tmp/sdpa_dat/sdpa_input.dat-s\n"
     ]
    }
   ],
   "source": [
    "sol = sdpa_file(objf_ols_bpft, lmis_ols_bpft, variables_ols_bpft) # One can solve the output file at http://www.neos-server.org/neos/solvers/sdp:DSDP/SDPA.html for example."
   ]
  },
  {
   "cell_type": "code",
   "execution_count": 133,
   "metadata": {},
   "outputs": [
    {
     "name": "stdout",
     "output_type": "stream",
     "text": [
      "sdp.dat-s -save dsdp5.out -gaptol 1e-07 \n",
      "\n",
      "Variables 29 \n",
      "Matrix Blocks: 28, Total Number of Constraints: 63 \n",
      "Nonzeros in Constraints: 225\n",
      "\n",
      "Read Data File into Buffer:      1.577e-03 seconds\n",
      "DSDP Set Data:                   1.400e-04 seconds\n",
      "DSDP Process Data:               9.730e-04 seconds\n",
      "\n",
      "Data Norms: C: 6.29e+00, A: 1.11e+01, b: 0.00e+00\n",
      "Scale C: 1.00e+00\n",
      "\n",
      "Potential Parameter: 5.00\n",
      "Reapply Schur matrix: 10\n",
      "\n",
      "Iter   PP Objective      DD Objective    PInfeas   DInfeas     Nu     StepLength   Pnrm\n",
      "---------------------------------------------------------------------------------------\n",
      "0     1.00000000e+10   -2.92832115e+12   1.0e+00   2.9e+04   2.9e+12  0.00  0.00   0.00 \n",
      "10    1.71998746e+10   -2.50353072e+08   9.6e+01   2.5e+00   5.2e+06  1.00  1.00  29.59 \n",
      "20   -3.13175640e+06   -3.13559113e+06   1.7e+03   3.1e-02   2.6e-01  1.00  1.00  777.35 \n",
      "30   -3.13553533e+06   -3.13553537e+06   3.9e+02   3.1e-02   6.9e-05  1.00  0.05  11.20 \n",
      "31   -3.13553536e+06   -3.13553537e+06   3.9e+02   3.1e-02   1.7e-05  1.00  0.01  43.87 \n",
      "DSDP Converged. \n",
      "DSDP Primal Unbounded, Dual Infeasible\n",
      "\n",
      "P Objective  :  -3.13553540e+06 \n",
      "DSDP Solution:   0.00000000e+00 \n",
      "\n",
      "DSDP Solve Time:                     4.853e-02 seconds\n",
      "DSDP Preparation and Solve Time:     4.950e-02 seconds\n",
      "\n",
      "\n",
      "P Infeasible: 3.30e-04 \n",
      "D Infeasible: 4.30e-03 \n",
      "Minimal P Eigenvalue: 0.00e+00 \n",
      "Minimal D Eigenvalue: 0.00 \n",
      "Relative P - D Objective values: -1.00e+00 \n",
      "Relative X Dot S: 6.29e-07 \n",
      "\n",
      "Max Y: 7.76186874e+06,  Bounded by 1.0e+07\n",
      "Trace X: 1.00000000e+08,   Bounded by Penalty Parameter: 1.0e+08 \n",
      "\n",
      "PERFORMANCE SUMMARY\n",
      "                     Event                      Calls    Time(s)   Time(%)\n",
      "--------------------------------------------------------------------------\n",
      "                                   R Cone        1522   2.7299e-04   0.55\n",
      "                             Bound Y Cone        1522   9.3937e-04   1.89\n",
      "                                 SDP Cone        1554   4.4057e-02  88.64\n",
      "                           Cone Setup 1&2           2   8.8906e-04   1.79\n",
      "                            Cone Invert S         260   7.9303e-03  15.96\n",
      "                                 Cone RHS         229   2.2626e-03   4.55\n",
      "                  Cone Compute Newton Eq.          33   6.9811e-03  14.05\n",
      "                   Cone Max P Step Length          31   1.9808e-03   3.99\n",
      "               Cone Compute and Factor SP          56   6.9070e-04   1.39\n",
      "                   Cone Max D Step Length         269   1.7859e-02  35.93\n",
      "                Cone Compute and Factor S         312   4.8833e-03   9.82\n",
      "                           Cone Potential         304   2.0545e-03   4.13\n",
      "                                Cone View          32   1.4782e-05   0.03\n",
      "                           Cone Compute X           1   2.6393e-04   0.53\n",
      "                            SDP VecMatVec        1749   2.0385e-04   0.41\n",
      "                                  SDP Dot        8712   1.4002e-03   2.82\n",
      "                               SDP SSolve        7938   3.4273e-03   6.90\n",
      "                                SDP X+vv'        6189   1.2157e-03   2.45\n",
      "                        Factor Newton Eq.          33   5.8389e-04   1.17\n",
      "                         Solve Newton Eq.         554   9.4843e-04   1.91\n",
      "                              Primal Step          31   3.5055e-03   7.05\n",
      "                                Dual Step          31   2.7962e-03   5.63\n",
      "                           Corrector Step         229   3.2270e-02  64.93\n",
      "                                 CG Solve         292   2.0711e-03   4.17\n",
      "                               DSDP Solve           1   4.8246e-02  97.07\n",
      "--------------------------------------------------------------------------\n",
      "--- DSDP Finished ---\n",
      "\n"
     ]
    }
   ],
   "source": [
    "sol = dsdp5(objf_ols_bpft, lmis_ols_bpft, variables_ols_bpft)"
   ]
  },
  {
   "cell_type": "code",
   "execution_count": 134,
   "metadata": {},
   "outputs": [
    {
     "name": "stdout",
     "output_type": "stream",
     "text": [
      "SDPA start at [Mon Oct 21 00:31:02 2013]\n",
      "set   is STABLE_BUT_SLOW\n",
      "data  is tmp/sdpa_dat/sdp.dat-s : sparse\n",
      "out   is tmp/sdpa_dat/sdpa.out\n",
      "NumThreads  is set as 1\n",
      "Schur computation : DENSE \n",
      "   mu      thetaP  thetaD  objP      objD      alphaP  alphaD  beta \n",
      " 0 1.0e+08 1.0e+00 1.0e+00 -0.00e+00 -1.22e+05 5.7e-01 6.6e-01 3.00e-01\n",
      " 1 5.7e+07 4.3e-01 3.4e-01 -0.00e+00 -2.06e+05 6.4e-01 7.1e-01 3.00e-01\n",
      " 2 2.8e+07 1.6e-01 9.7e-02 -0.00e+00 -2.90e+05 7.0e-01 7.4e-01 3.00e-01\n",
      " 3 1.2e+07 4.7e-02 2.5e-02 -0.00e+00 -4.02e+05 7.5e-01 7.9e-01 3.00e-01\n",
      " 4 4.3e+06 1.2e-02 5.4e-03 -0.00e+00 -5.74e+05 7.8e-01 7.9e-01 3.00e-01\n",
      " 5 1.4e+06 2.6e-03 1.1e-03 -0.00e+00 -8.19e+05 8.0e-01 8.0e-01 3.00e-01\n",
      " 6 4.3e+05 5.3e-04 2.3e-04 -0.00e+00 -1.13e+06 7.8e-01 8.0e-01 3.00e-01\n",
      " 7 1.5e+05 1.1e-04 4.5e-05 -0.00e+00 -1.37e+06 7.4e-01 8.0e-01 3.00e-01\n",
      " 8 6.1e+04 3.0e-05 9.1e-06 -0.00e+00 -1.23e+06 6.7e-01 8.0e-01 3.00e-01\n",
      " 9 2.8e+04 9.9e-06 1.8e-06 -0.00e+00 -7.79e+05 4.6e-01 8.0e-01 3.00e-01\n",
      "10 1.5e+04 5.4e-06 3.6e-07 -0.00e+00 -3.19e+05 2.5e-01 4.5e-01 3.00e-01\n",
      "pdINF criteria :: line 1192 in sdpa_parts.cpp\n",
      "11 1.2e+04 4.0e-06 2.0e-07 -0.00e+00 +1.66e+05 2.5e-01 4.5e-01 3.00e-01\n",
      "\n",
      "phase.value  = pdINF     \n",
      "   Iteration = 11\n",
      "          mu = +1.2128636218831845e+04\n",
      "relative gap = +2.0000000000000000e+00\n",
      "        gap  = -1.6574670752527865e+05\n",
      "     digits  = -3.0102999566398120e-01\n",
      "objValPrimal = -0.0000000000000000e+00\n",
      "objValDual   = +1.6574670752527865e+05\n",
      "p.feas.error = +4.0191563899952598e-02\n",
      "d.feas.error = +5.9960590591629868e-03\n",
      "total time   = 0.166728\n",
      "  main loop time = 0.165674\n",
      "      total time = 0.166728\n",
      "file  check time = 0.000000\n",
      "file change time = 0.000008\n",
      "file   read time = 0.001046\n",
      "SDPA end at [Mon Oct 21 00:31:02 2013]\n",
      "ALL TIME = 0.167907\n"
     ]
    }
   ],
   "source": [
    "sol = sdpa(objf_ols_bpft, lmis_ols_bpft, variables_ols_bpft)"
   ]
  },
  {
   "cell_type": "code",
   "execution_count": 135,
   "metadata": {},
   "outputs": [
    {
     "name": "stdout",
     "output_type": "stream",
     "text": [
      "This is a pure dual feasibility problem.\n",
      "Iter:  0 Ap: 0.00e+00 Pobj: -3.8296290e+03 Ad: 0.00e+00 Dobj:  0.0000000e+00 \n",
      "Iter:  1 Ap: 8.96e-01 Pobj: -5.2770492e+03 Ad: 8.16e-01 Dobj:  0.0000000e+00 \n",
      "Iter:  2 Ap: 6.30e-01 Pobj: -4.7758728e+03 Ad: 6.04e-01 Dobj:  0.0000000e+00 \n",
      "Iter:  3 Ap: 5.03e-01 Pobj: -4.1867025e+03 Ad: 8.53e-01 Dobj:  0.0000000e+00 \n",
      "Iter:  4 Ap: 8.74e-01 Pobj: -1.5539887e+03 Ad: 4.75e-01 Dobj:  0.0000000e+00 \n",
      "Iter:  5 Ap: 3.90e-01 Pobj:  2.5868012e+00 Ad: 2.09e-01 Dobj:  0.0000000e+00 \n",
      "Iter:  6 Ap: 8.83e-02 Pobj:  2.6946911e+03 Ad: 1.83e-01 Dobj:  0.0000000e+00 \n",
      "Iter:  7 Ap: 3.62e-03 Pobj:  8.0058280e+03 Ad: 1.06e-02 Dobj:  0.0000000e+00 \n",
      "Iter:  8 Ap: 1.61e-02 Pobj:  6.0199514e+04 Ad: 1.30e-02 Dobj:  0.0000000e+00 \n",
      "Iter:  9 Ap: 6.67e-03 Pobj:  2.9195543e+05 Ad: 8.91e-03 Dobj:  0.0000000e+00 \n",
      "Iter: 10 Ap: 4.86e-03 Pobj:  1.5474164e+06 Ad: 7.36e-03 Dobj:  0.0000000e+00 \n",
      "Iter: 11 Ap: 7.92e-04 Pobj:  3.2963353e+06 Ad: 1.12e-02 Dobj:  0.0000000e+00 \n",
      "Iter: 12 Ap: 1.26e-03 Pobj:  2.0726205e+07 Ad: 7.06e-04 Dobj:  0.0000000e+00 \n",
      "Iter: 13 Ap: 1.46e-03 Pobj:  1.5980240e+08 Ad: 2.73e-03 Dobj:  0.0000000e+00 \n",
      "Iter: 14 Ap: 8.50e-05 Pobj:  2.5340103e+08 Ad: 1.18e-03 Dobj:  0.0000000e+00 \n",
      "Iter: 15 Ap: 1.78e-05 Pobj:  2.9154914e+08 Ad: 2.85e-04 Dobj:  0.0000000e+00 \n",
      "Iter: 16 Ap: 2.57e-04 Pobj:  9.5874891e+08 Ad: 6.27e-03 Dobj:  0.0000000e+00 \n",
      "Declaring dual infeasibility.\n",
      "Success: SDP is dual infeasible\n",
      "Certificate of dual infeasibility: tr(CX)=1.00000e+00, ||A(X)||=3.11064e-09\n",
      "Elements time: 0.000348 \n",
      "Factor time: 0.000292 \n",
      "Other time: 0.021691 \n",
      "Total time: 0.022331 \n"
     ]
    }
   ],
   "source": [
    "sol = csdp(objf_ols_bpft, lmis_ols_bpft, variables_ols_bpft)"
   ]
  },
  {
   "cell_type": "code",
   "execution_count": 144,
   "metadata": {},
   "outputs": [
    {
     "name": "stdout",
     "output_type": "stream",
     "text": [
      "     pcost       dcost       gap    pres   dres   k/t\n",
      " 0:  0.0000e+00 -1.2158e+01  1e+02  2e+00  7e+00  1e+00\n",
      " 1:  0.0000e+00 -2.3016e-01  3e+00  2e-01  6e-01  8e-01\n",
      " 2:  0.0000e+00 -9.6107e-02  1e+00  6e-02  2e-01  3e-01\n",
      " 3:  0.0000e+00  2.0962e-01  4e+01  3e-01  1e+00  2e+00\n",
      " 4:  0.0000e+00  7.3312e-01  3e+01  1e-01  5e-01  2e+00\n",
      " 5:  0.0000e+00  4.7892e-01  2e+01  7e-02  3e-01  1e+00\n",
      " 6:  0.0000e+00  3.4714e+00  1e+02  6e-02  2e-01  4e+00\n",
      " 7:  0.0000e+00  1.1664e+01  3e+02  6e-02  2e-01  1e+01\n",
      " 8:  0.0000e+00  1.0313e+02  2e+03  5e-02  2e-01  1e+02\n",
      " 9:  0.0000e+00  1.7208e+03  4e+04  5e-02  2e-01  2e+03\n",
      "10:  0.0000e+00  1.3030e+04  3e+05  5e-02  2e-01  1e+04\n",
      "11:  0.0000e+00  9.8979e+04  2e+06  5e-02  2e-01  1e+05\n",
      "12:  0.0000e+00  3.6891e+05  8e+06  5e-02  2e-01  4e+05\n",
      "13:  0.0000e+00  9.4734e+05  2e+07  5e-02  2e-01  9e+05\n",
      "14:  0.0000e+00  1.0511e+06  3e+07  5e-02  2e-01  1e+06\n",
      "15:  0.0000e+00  1.0467e+07  3e+08  5e-02  2e-01  1e+07\n",
      "Certificate of primal infeasibility found.\n",
      "primal infeasible\n",
      "Elapsed time: 3.98 s\n"
     ]
    }
   ],
   "source": [
    "sol = cvxopt_conelp(objf_ols_bpft, lmis_ols_bpft, variables_ols_bpft)"
   ]
  },
  {
   "cell_type": "markdown",
   "metadata": {},
   "source": [
    "## Base Parameter Feasibility Correction (BPFC)     ($\\beta^\\prime$)"
   ]
  },
  {
   "cell_type": "code",
   "execution_count": 155,
   "metadata": {},
   "outputs": [],
   "source": [
    "u = sympy.Symbol('u')\n",
    "U_beta = BlockMatrix([[Matrix([u]),            (beta_ols - beta_symbs).T],\n",
    "                 [beta_ols - beta_symbs,                 I(n_beta)]])\n",
    "U_beta = U_beta.as_explicit()"
   ]
  },
  {
   "cell_type": "code",
   "execution_count": 148,
   "metadata": {},
   "outputs": [],
   "source": [
    "lmis_ols_bpfc = [LMI(U_beta)] + DB_LMIs_marg"
   ]
  },
  {
   "cell_type": "code",
   "execution_count": 151,
   "metadata": {},
   "outputs": [
    {
     "data": {
      "text/plain": [
       "Matrix([\n",
       "[L_1xx,                 L_1xy, L_1xz,     0,  l_1z, -l_1y],\n",
       "[L_1xy, -Ia_1 - L_2zz + beta1, L_1yz, -l_1z,     0,  l_1x],\n",
       "[L_1xz,                 L_1yz, L_1zz,  l_1y, -l_1x,     0],\n",
       "[    0,                 -l_1z,  l_1y,   m_1,     0,     0],\n",
       "[ l_1z,                     0, -l_1x,     0,   m_1,     0],\n",
       "[-l_1y,                  l_1x,     0,     0,     0,   m_1]]) >= Matrix([\n",
       "[1.0e-6,      0,      0,      0,      0,      0],\n",
       "[     0, 1.0e-6,      0,      0,      0,      0],\n",
       "[     0,      0, 1.0e-6,      0,      0,      0],\n",
       "[     0,      0,      0, 1.0e-6,      0,      0],\n",
       "[     0,      0,      0,      0, 1.0e-6,      0],\n",
       "[     0,      0,      0,      0,      0, 1.0e-6]])"
      ]
     },
     "execution_count": 151,
     "metadata": {},
     "output_type": "execute_result"
    }
   ],
   "source": [
    "lmis_ols_bpfc[1]"
   ]
  },
  {
   "cell_type": "code",
   "execution_count": 158,
   "metadata": {},
   "outputs": [],
   "source": [
    "variables_ols_bpfc = [u] + list(beta_symbs) + list(delta_d)"
   ]
  },
  {
   "cell_type": "code",
   "execution_count": 159,
   "metadata": {},
   "outputs": [],
   "source": [
    "objf_ols_bpfc = u"
   ]
  },
  {
   "cell_type": "code",
   "execution_count": 160,
   "metadata": {},
   "outputs": [
    {
     "name": "stdout",
     "output_type": "stream",
     "text": [
      "sdp.dat-s -save dsdp5.out -gaptol 1e-07 \n",
      "\n",
      "Variables 99 \n",
      "Matrix Blocks: 29, Total Number of Constraints: 133 \n",
      "Nonzeros in Constraints: 496\n",
      "\n",
      "Read Data File into Buffer:      2.906e-03 seconds\n",
      "DSDP Set Data:                   3.750e-04 seconds\n",
      "DSDP Process Data:               1.300e-02 seconds\n",
      "\n",
      "Data Norms: C: 1.07e+01, A: 1.95e+01, b: 1.00e+00\n",
      "Scale C: 1.00e+00\n",
      "\n",
      "Potential Parameter: 5.00\n",
      "Reapply Schur matrix: 4\n",
      "\n",
      "Iter   PP Objective      DD Objective    PInfeas   DInfeas     Nu     StepLength   Pnrm\n",
      "---------------------------------------------------------------------------------------\n",
      "0     1.00000000e+10   -5.14384241e+12   2.0e+00   5.1e+04   5.1e+12  0.00  0.00   0.00 \n",
      "10    8.94838822e+13   -2.05367041e+13   4.0e+05   2.1e+05   1.7e+11  1.00  1.00   4.27 \n",
      "20    3.96240164e+11   -1.17762893e+11   4.0e+03   1.2e+03   1.2e+09  1.00  1.00   0.87 \n",
      "30    1.06170401e+10   -3.07067071e+09   1.1e+02   3.1e+01   3.2e+07  1.00  1.00   0.85 \n",
      "40    3.77063860e+08   -1.30536934e+07   2.3e+00   3.8e-02   8.0e+05  1.00  1.00   1.29 \n",
      "50    2.85418165e+06   -1.79351721e+05   3.7e-03   0.0e+00   5.7e+03  1.00  1.00   0.75 \n",
      "60    4.66229609e+04   -2.81961727e+03   6.0e-05   0.0e+00   9.2e+01  1.00  1.00   0.76 \n",
      "70    7.59797227e+02   -3.56581951e+01   9.6e-07   0.0e+00   1.4e+00  1.00  1.00   0.79 \n",
      "80    8.46771878e+00   -1.92951934e-01   1.0e-08   0.0e+00   1.3e-02  1.00  1.00   0.67 \n",
      "90    2.93352905e-02   -5.22112404e-03   4.1e-11   0.0e+00   8.1e-05  1.00  1.00   0.36 \n",
      "100  -4.05308004e-03   -4.05373027e-03   7.7e-07   0.0e+00   4.1e-10  1.00  0.22  15.85 \n",
      "102  -4.05370129e-03   -4.05372704e-03   7.7e-07   0.0e+00   1.6e-11  1.00  0.19  10.72 \n",
      "DSDP Converged. \n",
      "\n",
      "P Objective  :  -4.05371809e-03 \n",
      "DSDP Solution:  -4.05372704e-03 \n",
      "\n",
      "DSDP Solve Time:                     3.348e-01 seconds\n",
      "DSDP Preparation and Solve Time:     3.478e-01 seconds\n",
      "\n",
      "\n",
      "P Infeasible: 5.07e-11 \n",
      "D Infeasible: 0.00e+00 \n",
      "Minimal P Eigenvalue: 0.00e+00 \n",
      "Minimal D Eigenvalue: 0.00 \n",
      "Relative P - D Objective values: 8.88e-09 \n",
      "Relative X Dot S: 8.42e-05 \n",
      "\n",
      "Max Y: 7.74596688e+06,  Bounded by 1.0e+07\n",
      "Trace X: 1.31199245e+00,   Bounded by Penalty Parameter: 1.0e+08 \n",
      "\n",
      "PERFORMANCE SUMMARY\n",
      "                     Event                      Calls    Time(s)   Time(%)\n",
      "--------------------------------------------------------------------------\n",
      "                                   R Cone        2983   4.4370e-04   0.13\n",
      "                             Bound Y Cone        2983   5.1186e-03   1.47\n",
      "                                 SDP Cone        2990   2.6234e-01  75.32\n",
      "                           Cone Setup 1&2           2   6.4659e-03   1.86\n",
      "                            Cone Invert S         494   9.4769e-02  27.21\n",
      "                                 Cone RHS         392   8.4302e-03   2.42\n",
      "                  Cone Compute Newton Eq.         103   7.0249e-02  20.17\n",
      "                   Cone Max P Step Length         102   9.1012e-03   2.61\n",
      "               Cone Compute and Factor SP         108   3.3925e-03   0.97\n",
      "                   Cone Max D Step Length         500   4.4077e-02  12.65\n",
      "                Cone Compute and Factor S         544   1.7388e-02   4.99\n",
      "                           Cone Potential         542   7.2529e-03   2.08\n",
      "                                Cone View         103   5.5313e-05   0.02\n",
      "                           Cone Compute X           1   2.8479e-03   0.82\n",
      "                            SDP VecMatVec       20763   2.4064e-02   6.91\n",
      "                                  SDP Dot       22484   5.6109e-03   1.61\n",
      "                               SDP SSolve       49739   1.8926e-02   5.43\n",
      "                                SDP X+vv'       28976   7.2739e-03   2.09\n",
      "                        Factor Newton Eq.         103   4.9710e-02  14.27\n",
      "                         Solve Newton Eq.         638   7.9246e-03   2.28\n",
      "                              Primal Step         102   1.4073e-02   4.04\n",
      "                                Dual Step         102   1.3460e-02   3.86\n",
      "                           Corrector Step         392   1.4484e-01  41.58\n",
      "                                 CG Solve         598   2.3246e-02   6.67\n",
      "                               DSDP Solve           1   3.3189e-01  95.29\n",
      "--------------------------------------------------------------------------\n",
      "--- DSDP Finished ---\n",
      "\n"
     ]
    }
   ],
   "source": [
    "sol_ols_bpfc = solve_sdp(objf_ols_bpfc, lmis_ols_bpfc, variables_ols_bpfc)"
   ]
  },
  {
   "cell_type": "code",
   "execution_count": 161,
   "metadata": {},
   "outputs": [],
   "source": [
    "u_prime = sol_ols_bpfc[0,0]\n",
    "beta_prime = sol_ols_bpfc[1:1+n_beta]\n",
    "delta_d_prime = sol_ols_bpfc[1+n_beta:]"
   ]
  },
  {
   "cell_type": "code",
   "execution_count": 162,
   "metadata": {},
   "outputs": [
    {
     "data": {
      "text/plain": [
       "0.0040537274987536539"
      ]
     },
     "execution_count": 162,
     "metadata": {},
     "output_type": "execute_result"
    }
   ],
   "source": [
    "u_prime"
   ]
  },
  {
   "cell_type": "markdown",
   "metadata": {},
   "source": [
    "### Solution Double Check"
   ]
  },
  {
   "cell_type": "code",
   "execution_count": 165,
   "metadata": {},
   "outputs": [
    {
     "name": "stdout",
     "output_type": "stream",
     "text": [
      "ok\n"
     ]
    }
   ],
   "source": [
    "dict_subs = dict(zip(beta_symbs, beta_prime.flatten().tolist()[0]))\n",
    "dict_subs.update(dict(zip(delta_d, delta_d_prime.flatten().tolist()[0])))\n",
    "\n",
    "test = 'ok'\n",
    "for i, DBi in enumerate(DB_blocks):\n",
    "        m = numpy.matrix(mrepl(DBi, dict_subs)).astype(float)\n",
    "        for v in numpy.linalg.eigvals( m ):\n",
    "            if v <= 0.0:\n",
    "                print i, v\n",
    "                test = 'fail'\n",
    "print(test)"
   ]
  },
  {
   "cell_type": "code",
   "execution_count": 166,
   "metadata": {},
   "outputs": [],
   "source": [
    "numpy.savetxt(tmpfolder + 'solutions/' + indentification_traj + '_beta_prime.dat', beta_prime)"
   ]
  },
  {
   "cell_type": "markdown",
   "metadata": {},
   "source": [
    "## Feasible Base Parameter Estimation with Ordinary Least Squares (FBPE-OLS)     ($\\beta^\\star$)"
   ]
  },
  {
   "cell_type": "code",
   "execution_count": 167,
   "metadata": {},
   "outputs": [],
   "source": [
    "u = sympy.Symbol('u')\n",
    "U_rho = BlockMatrix([[Matrix([u - rho2_norm_sqr]), (rho1 - R1*beta_symbs).T],\n",
    "                     [rho1 - R1*beta_symbs,                       I(n_beta)]])\n",
    "U_rho = U_rho.as_explicit()"
   ]
  },
  {
   "cell_type": "code",
   "execution_count": 168,
   "metadata": {},
   "outputs": [],
   "source": [
    "lmis_fbpe_ols = [LMI(U_rho)] + DB_LMIs_marg"
   ]
  },
  {
   "cell_type": "code",
   "execution_count": 169,
   "metadata": {},
   "outputs": [],
   "source": [
    "variables_fbpe_ols = [u] + list(beta_symbs) + list(delta_d)"
   ]
  },
  {
   "cell_type": "code",
   "execution_count": 170,
   "metadata": {},
   "outputs": [],
   "source": [
    "objf_fbpe_ols = u"
   ]
  },
  {
   "cell_type": "code",
   "execution_count": 172,
   "metadata": {},
   "outputs": [
    {
     "name": "stdout",
     "output_type": "stream",
     "text": [
      "sdp.dat-s -save dsdp5.out -gaptol 1e-07 \n",
      "\n",
      "Variables 99 \n",
      "Matrix Blocks: 29, Total Number of Constraints: 133 \n",
      "Nonzeros in Constraints: 2731\n",
      "\n",
      "Read Data File into Buffer:      5.281e-03 seconds\n",
      "DSDP Set Data:                   2.069e-04 seconds\n",
      "DSDP Process Data:               2.709e-02 seconds\n",
      "\n",
      "Data Norms: C: 7.85e+04, A: 1.70e+04, b: 1.00e+00\n",
      "Scale C: 2.16e-01\n",
      "\n",
      "Potential Parameter: 5.00\n",
      "Reapply Schur matrix: 4\n",
      "\n",
      "Iter   PP Objective      DD Objective    PInfeas   DInfeas     Nu     StepLength   Pnrm\n",
      "---------------------------------------------------------------------------------------\n",
      "0     1.00000000e+10   -1.95170612e+17   2.0e+00   2.0e+09   2.0e+17  0.00  0.00   0.00 \n",
      "10    4.79481958e+10   -5.52331104e+09   8.8e+01   5.5e+01   4.5e+07  1.00  1.00   4.50 \n",
      "20    3.80079020e+07   -1.91235465e+06   4.8e-02   0.0e+00   7.6e+04  0.92  1.00   0.46 \n",
      "30    2.26577621e+05   -8.69552142e+04   3.7e-04   0.0e+00   5.3e+02  1.00  1.00   1.13 \n",
      "40   -7.67526149e+04   -7.91085802e+04   6.7e-06   0.0e+00   1.4e+00  0.93  1.00   0.79 \n",
      "49   -7.90832993e+04   -7.90833045e+04   3.9e-06   0.0e+00   3.3e-06  1.00  0.14  22.65 \n",
      "DSDP Converged. \n",
      "\n",
      "P Objective  :  -7.90833028e+04 \n",
      "DSDP Solution:  -7.90833045e+04 \n",
      "\n",
      "DSDP Solve Time:                     1.863e-01 seconds\n",
      "DSDP Preparation and Solve Time:     2.133e-01 seconds\n",
      "\n",
      "\n",
      "P Infeasible: 1.05e-07 \n",
      "D Infeasible: 0.00e+00 \n",
      "Minimal P Eigenvalue: 0.00e+00 \n",
      "Minimal D Eigenvalue: 0.00 \n",
      "Relative P - D Objective values: 1.11e-08 \n",
      "Relative X Dot S: 2.21e-08 \n",
      "\n",
      "Max Y: 7.74598319e+06,  Bounded by 1.0e+07\n",
      "Trace X: 1.35073124e+05,   Bounded by Penalty Parameter: 1.0e+08 \n",
      "\n",
      "PERFORMANCE SUMMARY\n",
      "                     Event                      Calls    Time(s)   Time(%)\n",
      "--------------------------------------------------------------------------\n",
      "                                   R Cone        1446   2.2626e-04   0.11\n",
      "                             Bound Y Cone        1446   2.4633e-03   1.15\n",
      "                                 SDP Cone        1455   1.8423e-01  86.24\n",
      "                           Cone Setup 1&2           2   2.6737e-02  12.52\n",
      "                            Cone Invert S         229   4.2826e-02  20.05\n",
      "                                 Cone RHS         180   4.3845e-03   2.05\n",
      "                  Cone Compute Newton Eq.          51   7.0492e-02  33.00\n",
      "                   Cone Max P Step Length          49   4.6999e-03   2.20\n",
      "               Cone Compute and Factor SP          53   1.9619e-03   0.92\n",
      "                   Cone Max D Step Length         233   2.1428e-02  10.03\n",
      "                Cone Compute and Factor S         283   1.0113e-02   4.73\n",
      "                           Cone Potential         277   3.7549e-03   1.76\n",
      "                                Cone View          50   2.2650e-05   0.01\n",
      "                           Cone Compute X           1   1.3101e-03   0.61\n",
      "                            SDP VecMatVec        8473   2.5526e-02  11.95\n",
      "                                  SDP Dot       11326   5.3620e-03   2.51\n",
      "                               SDP SSolve       24938   2.0281e-02   9.49\n",
      "                                SDP X+vv'       16465   1.1526e-02   5.39\n",
      "                        Factor Newton Eq.          51   1.1742e-02   5.50\n",
      "                         Solve Newton Eq.         515   6.2709e-03   2.94\n",
      "                              Primal Step          49   7.4983e-03   3.51\n",
      "                                Dual Step          49   6.9761e-03   3.27\n",
      "                           Corrector Step         180   7.3392e-02  34.35\n",
      "                                 CG Solve         280   1.1479e-02   5.37\n",
      "                               DSDP Solve           1   1.8492e-01  86.56\n",
      "--------------------------------------------------------------------------\n",
      "--- DSDP Finished ---\n",
      "\n"
     ]
    }
   ],
   "source": [
    "sol_fbpe_ols = solve_sdp(objf_fbpe_ols, lmis_fbpe_ols, variables_fbpe_ols)"
   ]
  },
  {
   "cell_type": "code",
   "execution_count": 173,
   "metadata": {},
   "outputs": [],
   "source": [
    "u_star = sol_fbpe_ols[0,0]\n",
    "beta_star = numpy.matrix(sol_fbpe_ols[1:1+n_beta])\n",
    "delta_d_star = numpy.matrix(sol_fbpe_ols[1+n_beta:])"
   ]
  },
  {
   "cell_type": "code",
   "execution_count": 198,
   "metadata": {},
   "outputs": [
    {
     "data": {
      "image/png": "[encoded data removed]",
      "text/latex": [
       "$$79083.3047994$$"
      ],
      "text/plain": [
       "79083.3047994"
      ]
     },
     "execution_count": 198,
     "metadata": {},
     "output_type": "execute_result"
    }
   ],
   "source": [
    "u_star"
   ]
  },
  {
   "cell_type": "markdown",
   "metadata": {},
   "source": [
    "### Solution Double Check"
   ]
  },
  {
   "cell_type": "code",
   "execution_count": 174,
   "metadata": {},
   "outputs": [
    {
     "name": "stdout",
     "output_type": "stream",
     "text": [
      "ok\n"
     ]
    }
   ],
   "source": [
    "dict_subs = dict(zip(beta_symbs, beta_star.flatten().tolist()[0]))\n",
    "dict_subs.update(dict(zip(delta_d, delta_d_star.flatten().tolist()[0])))\n",
    "\n",
    "test = 'ok'\n",
    "for DBi in DB_blocks:\n",
    "        m = numpy.matrix(mrepl(DBi, dict_subs)).astype(float)\n",
    "        for v in numpy.linalg.eigvals( m ):\n",
    "            if v <= 0.0:\n",
    "                print(v)\n",
    "                test = 'fail'\n",
    "print(test)"
   ]
  },
  {
   "cell_type": "code",
   "execution_count": 175,
   "metadata": {},
   "outputs": [],
   "source": [
    "numpy.savetxt(tmpfolder + 'solutions/' + indentification_traj + '_beta_star.dat', beta_star)"
   ]
  },
  {
   "cell_type": "markdown",
   "metadata": {},
   "source": [
    "## Additional Constraints on Centers-of-Mass    ($\\beta^{\\star e}$)"
   ]
  },
  {
   "cell_type": "code",
   "execution_count": 179,
   "metadata": {},
   "outputs": [],
   "source": [
    "link_cuboid_hulls = [\n",
    "[[ -0.140 , +0.140 ],[ -0.174 , +0.174 ],[ -0.084 , +0.346 ]],\n",
    "[[ -0.084 , +0.084 ],[ -0.174 , +0.174 ],[ -0.084 , +0.170 ]],\n",
    "[[ -0.090 , +0.040 ],[ -0.550 , +0.040 ],[ -0.045 , +0.045 ]],\n",
    "[[ -0.045 , +0.095 ],[ -0.045 , +0.045 ],[ -0.050 , +0.830 ]],\n",
    "[[ -0.045 , +0.045 ],[ -0.020 , +0.100 ],[ -0.045 , +0.045 ]],\n",
    "[[ -0.045 , +0.045 ],[ -0.060 , +0.045 ],[ -0.020 , +0.060 ]],\n",
    "[[ -0.045 , +0.045 ],[ -0.045 , +0.045 ],[ -0.018 , +0.001 ]],\n",
    "]\n",
    "\n",
    "robotmaxmass = 27.0"
   ]
  },
  {
   "cell_type": "markdown",
   "metadata": {},
   "source": [
    "#### LMI Matrix Definition"
   ]
  },
  {
   "cell_type": "code",
   "execution_count": 180,
   "metadata": {},
   "outputs": [],
   "source": [
    "D_add_blocks = []\n",
    "for i in range(rbt.dof):\n",
    "    l = rbt.rbtdef.l[i]\n",
    "    m = rbt.rbtdef.m[i]\n",
    "    link_cuboid_hull = link_cuboid_hulls[i]\n",
    "    for j in range(3):\n",
    "        D_add_blocks.append( Matrix( [[  l[j] - m*link_cuboid_hull[j][0] ]] ) )\n",
    "        D_add_blocks.append( Matrix( [[ -l[j] + m*link_cuboid_hull[j][1] ]] ) )\n",
    "\n",
    "D_add_blocks.append(Matrix([robotmaxmass - sum(rbt.rbtdef.m)]))"
   ]
  },
  {
   "cell_type": "markdown",
   "metadata": {},
   "source": [
    "#### Variable Change and LMI Definition"
   ]
  },
  {
   "cell_type": "code",
   "execution_count": 189,
   "metadata": {},
   "outputs": [],
   "source": [
    "DB_add_blocks = [ mrepl(Di, varchange_dict) for Di in D_add_blocks ]"
   ]
  },
  {
   "cell_type": "code",
   "execution_count": 190,
   "metadata": {},
   "outputs": [],
   "source": [
    "DB_add_LMIs = list(map(LMI_PD, DB_add_blocks))"
   ]
  },
  {
   "cell_type": "code",
   "execution_count": 191,
   "metadata": {},
   "outputs": [],
   "source": [
    "DB_add_LMIs_marg = list(map(lambda lm: LMI(lm, epsilon_safemargin*eye(lm.shape[0])) , DB_add_blocks))"
   ]
  },
  {
   "cell_type": "code",
   "execution_count": 299,
   "metadata": {},
   "outputs": [
    {
     "data": {
      "image/png": "[encoded data removed]",
      "text/latex": [
       "$$\\left[\\begin{smallmatrix}{}l_{1x} + 0.14 m_{1}\\end{smallmatrix}\\right] \\succeq \\left[\\begin{smallmatrix}{}1.0 \\cdot 10^{-6}\\end{smallmatrix}\\right]$$"
      ],
      "text/plain": [
       "[l₁ₓ + 0.14⋅m₁] ≥ [1.0e-6]"
      ]
     },
     "execution_count": 299,
     "metadata": {},
     "output_type": "execute_result"
    }
   ],
   "source": [
    "DB_add_LMIs_marg[0]"
   ]
  },
  {
   "cell_type": "code",
   "execution_count": 300,
   "metadata": {},
   "outputs": [
    {
     "data": {
      "image/png": "[encoded data removed]",
      "text/latex": [
       "$$\\left[\\begin{smallmatrix}{}- m_{1} - m_{2} - m_{3} - m_{4} - m_{5} - m_{6} - m_{7} + 27.0\\end{smallmatrix}\\right] \\succeq \\left[\\begin{smallmatrix}{}1.0 \\cdot 10^{-6}\\end{smallmatrix}\\right]$$"
      ],
      "text/plain": [
       "[-m₁ - m₂ - m₃ - m₄ - m₅ - m₆ - m₇ + 27.0] ≥ [1.0e-6]"
      ]
     },
     "execution_count": 300,
     "metadata": {},
     "output_type": "execute_result"
    }
   ],
   "source": [
    "DB_add_LMIs_marg[-1]"
   ]
  },
  {
   "cell_type": "markdown",
   "metadata": {},
   "source": [
    "### Testing $\\beta^\\star$ solution on new constraints"
   ]
  },
  {
   "cell_type": "code",
   "execution_count": 196,
   "metadata": {},
   "outputs": [],
   "source": [
    "dict_subs = dict(zip(beta_symbs, beta_star))\n",
    "lmis_star_bpft_add = [ lmi_sdp.LMI_PD(mrepl(lmi.canonical().gts, dict_subs)) for lmi in DB_add_LMIs_marg ]\n",
    "variables_star_bpft_add = list(delta_d)\n",
    "objf_star_bpft_add = delta_d[0]"
   ]
  },
  {
   "cell_type": "code",
   "execution_count": 197,
   "metadata": {},
   "outputs": [
    {
     "name": "stdout",
     "output_type": "stream",
     "text": [
      "sdp.dat-s -save dsdp5.out -gaptol 1e-07 \n",
      "\n",
      "Variables 29 \n",
      "Matrix Blocks: 43, Total Number of Constraints: 43 \n",
      "Nonzeros in Constraints: 152\n",
      "\n",
      "Read Data File into Buffer:      3.550e-04 seconds\n",
      "DSDP Set Data:                   1.562e-04 seconds\n",
      "DSDP Process Data:               1.860e-04 seconds\n",
      "\n",
      "Data Norms: C: 2.72e+01, A: 6.32e+00, b: 1.00e+00\n",
      "Scale C: 2.35e-01\n",
      "\n",
      "Potential Parameter: 5.00\n",
      "Reapply Schur matrix: 10\n",
      "\n",
      "Iter   PP Objective      DD Objective    PInfeas   DInfeas     Nu     StepLength   Pnrm\n",
      "---------------------------------------------------------------------------------------\n",
      "0     1.00000000e+10   -1.52142044e+12   2.0e+00   1.5e+04   1.5e+12  0.00  0.00   0.00 \n",
      "10    3.45214200e+11   -1.71045848e+10   2.7e+00   1.7e+02   4.0e+08  1.00  1.00  11.56 \n",
      "20    1.00000036e+07    1.00000000e+07   1.0e+00   0.0e+00   7.2e-03  1.00  0.25   3.81 \n",
      "21    1.00000007e+07    1.00000000e+07   1.0e+00   0.0e+00   1.4e-03  1.00  1.00   0.37 \n",
      "DSDP Converged. \n",
      "DSDP Dual Unbounded, Primal Infeasible\n",
      "\n",
      "P Objective  :   3.09883027e-01 \n",
      "DSDP Solution:   1.00000000e+07 \n",
      "\n",
      "DSDP Solve Time:                     1.372e-02 seconds\n",
      "DSDP Preparation and Solve Time:     1.391e-02 seconds\n",
      "\n",
      "\n",
      "P Infeasible: 5.00e-01 \n",
      "D Infeasible: 0.00e+00 \n",
      "Minimal P Eigenvalue: 0.00e+00 \n",
      "Minimal D Eigenvalue: 0.00 \n",
      "Relative P - D Objective values: -1.00e+00 \n",
      "Relative X Dot S: 3.10e-08 \n",
      "\n",
      "Max Y: 1.00000000e+07,  Bounded by 1.0e+07\n",
      "Trace X: 1.00131520e+01,   Bounded by Penalty Parameter: 1.0e+08 \n",
      "\n",
      "PERFORMANCE SUMMARY\n",
      "                     Event                      Calls    Time(s)   Time(%)\n",
      "--------------------------------------------------------------------------\n",
      "                                   R Cone        1171   1.1897e-04   0.84\n",
      "                             Bound Y Cone        1172   5.8627e-04   4.15\n",
      "                                 SDP Cone        1175   1.0917e-02  77.26\n",
      "                           Cone Setup 1&2           2   1.1396e-04   0.81\n",
      "                            Cone Invert S         201   1.3900e-04   0.98\n",
      "                                 Cone RHS         180   2.0082e-03  14.21\n",
      "                  Cone Compute Newton Eq.          21   2.0275e-03  14.35\n",
      "                   Cone Max P Step Length          21   4.4680e-04   3.16\n",
      "               Cone Compute and Factor SP          24   1.6379e-04   1.16\n",
      "                   Cone Max D Step Length         204   4.2412e-03  30.01\n",
      "                Cone Compute and Factor S         240   1.5836e-03  11.21\n",
      "                           Cone Potential         238   1.1387e-03   8.06\n",
      "                                Cone View          22   9.0599e-06   0.06\n",
      "                           Cone Compute X           1   8.7023e-05   0.62\n",
      "                                  SDP Dot       10803   1.4775e-03  10.46\n",
      "                               SDP SSolve        3080   1.4615e-04   1.03\n",
      "                                SDP X+vv'        3080   4.8733e-04   3.45\n",
      "                        Factor Newton Eq.          21   5.0306e-04   3.56\n",
      "                         Solve Newton Eq.         272   3.9077e-04   2.77\n",
      "                              Primal Step          21   7.7152e-04   5.46\n",
      "                                Dual Step          21   7.1764e-04   5.08\n",
      "                           Corrector Step         180   9.1679e-03  64.88\n",
      "                                 CG Solve         223   7.7915e-04   5.51\n",
      "                               DSDP Solve           1   1.3623e-02  96.40\n",
      "--------------------------------------------------------------------------\n",
      "--- DSDP Finished ---\n",
      "\n"
     ]
    }
   ],
   "source": [
    "sol_star_bpft_add = solve_sdp(objf_star_bpft_add, lmis_star_bpft_add, variables_star_bpft_add)"
   ]
  },
  {
   "cell_type": "markdown",
   "metadata": {},
   "source": [
    "### Finding new solution"
   ]
  },
  {
   "cell_type": "code",
   "execution_count": 198,
   "metadata": {},
   "outputs": [],
   "source": [
    "lmis_fbpe_ols_add = [LMI(U_rho)] + DB_LMIs_marg + DB_add_LMIs_marg"
   ]
  },
  {
   "cell_type": "code",
   "execution_count": 199,
   "metadata": {},
   "outputs": [],
   "source": [
    "variables_fbpe_ols_add = [u] + list(beta_symbs) + list(delta_d)"
   ]
  },
  {
   "cell_type": "code",
   "execution_count": 200,
   "metadata": {},
   "outputs": [],
   "source": [
    "objf_fbpe_ols_add = u"
   ]
  },
  {
   "cell_type": "code",
   "execution_count": 201,
   "metadata": {},
   "outputs": [
    {
     "name": "stdout",
     "output_type": "stream",
     "text": [
      "sdp.dat-s -save dsdp5.out -gaptol 1e-07 \n",
      "\n",
      "Variables 99 \n",
      "Matrix Blocks: 72, Total Number of Constraints: 176 \n",
      "Nonzeros in Constraints: 2907\n",
      "\n",
      "Read Data File into Buffer:      5.550e-03 seconds\n",
      "DSDP Set Data:                   2.770e-04 seconds\n",
      "DSDP Process Data:               2.512e-02 seconds\n",
      "\n",
      "Data Norms: C: 7.85e+04, A: 1.70e+04, b: 1.00e+00\n",
      "Scale C: 2.16e-01\n",
      "\n",
      "Potential Parameter: 5.00\n",
      "Reapply Schur matrix: 4\n",
      "\n",
      "Iter   PP Objective      DD Objective    PInfeas   DInfeas     Nu     StepLength   Pnrm\n",
      "---------------------------------------------------------------------------------------\n",
      "0     1.00000000e+10   -2.20525078e+17   2.0e+00   2.2e+09   2.2e+17  0.00  0.00   0.00 \n",
      "10    6.42274529e+10   -1.26844261e+10   7.1e+01   1.3e+02   5.4e+07  1.00  1.00  25.19 \n",
      "20    1.66393991e+07   -7.71143772e+05   8.2e-03   4.8e-04   2.8e+04  1.00  1.00   0.91 \n",
      "30    7.89224941e+04   -8.39443551e+04   7.6e-05   2.6e-06   2.5e+02  1.00  1.00   0.90 \n",
      "40   -7.87767914e+04   -7.93188073e+04   2.6e-07   0.0e+00   8.6e-01  1.00  1.00   0.58 \n",
      "49   -7.92968411e+04   -7.92968452e+04   2.0e-12   0.0e+00   2.5e-06  1.00  0.09  35.10 \n",
      "DSDP Converged. \n",
      "\n",
      "P Objective  :  -7.92968434e+04 \n",
      "DSDP Solution:  -7.92968452e+04 \n",
      "\n",
      "DSDP Solve Time:                     2.141e-01 seconds\n",
      "DSDP Preparation and Solve Time:     2.392e-01 seconds\n",
      "\n",
      "\n",
      "P Infeasible: 6.60e-07 \n",
      "D Infeasible: 0.00e+00 \n",
      "Minimal P Eigenvalue: 0.00e+00 \n",
      "Minimal D Eigenvalue: 0.00 \n",
      "Relative P - D Objective values: 1.16e-08 \n",
      "Relative X Dot S: 1.40e-08 \n",
      "\n",
      "Max Y: 5.77350269e+06,  Bounded by 1.0e+07\n",
      "Trace X: 1.56254795e+05,   Bounded by Penalty Parameter: 1.0e+08 \n",
      "\n",
      "PERFORMANCE SUMMARY\n",
      "                     Event                      Calls    Time(s)   Time(%)\n",
      "--------------------------------------------------------------------------\n",
      "                                   R Cone        1503   3.4451e-04   0.14\n",
      "                             Bound Y Cone        1503   2.5673e-03   1.07\n",
      "                                 SDP Cone        1511   2.0890e-01  87.21\n",
      "                           Cone Setup 1&2           2   2.4807e-02  10.36\n",
      "                            Cone Invert S         232   4.7350e-02  19.77\n",
      "                                 Cone RHS         183   6.6803e-03   2.79\n",
      "                  Cone Compute Newton Eq.          49   7.6302e-02  31.85\n",
      "                   Cone Max P Step Length          49   6.4700e-03   2.70\n",
      "               Cone Compute and Factor SP          52   2.5373e-03   1.06\n",
      "                   Cone Max D Step Length         235   2.8568e-02  11.93\n",
      "                Cone Compute and Factor S         308   1.3522e-02   5.64\n",
      "                           Cone Potential         302   5.0220e-03   2.10\n",
      "                                Cone View          50   2.2173e-05   0.01\n",
      "                           Cone Compute X           1   1.4482e-03   0.60\n",
      "                            SDP VecMatVec       10227   2.5274e-02  10.55\n",
      "                                  SDP Dot       27501   7.9923e-03   3.34\n",
      "                               SDP SSolve       34566   2.0879e-02   8.72\n",
      "                                SDP X+vv'       24339   1.2524e-02   5.23\n",
      "                        Factor Newton Eq.          49   1.2095e-02   5.05\n",
      "                         Solve Newton Eq.         517   6.6221e-03   2.76\n",
      "                              Primal Step          49   9.9127e-03   4.14\n",
      "                                Dual Step          49   9.3367e-03   3.90\n",
      "                           Corrector Step         183   8.9437e-02  37.34\n",
      "                                 CG Solve         283   1.1377e-02   4.75\n",
      "                               DSDP Solve           1   2.1258e-01  88.75\n",
      "--------------------------------------------------------------------------\n",
      "--- DSDP Finished ---\n",
      "\n"
     ]
    }
   ],
   "source": [
    "sol_fbpe_ols_add = solve_sdp(objf_fbpe_ols_add, lmis_fbpe_ols_add, variables_fbpe_ols_add)"
   ]
  },
  {
   "cell_type": "code",
   "execution_count": 202,
   "metadata": {},
   "outputs": [],
   "source": [
    "u_starextra = sol_fbpe_ols_add[0,0]\n",
    "beta_starextra = numpy.matrix(sol_fbpe_ols_add[1:1+n_beta])\n",
    "delta_d_starextra = numpy.matrix(sol_fbpe_ols_add[1+n_beta:])"
   ]
  },
  {
   "cell_type": "code",
   "execution_count": 203,
   "metadata": {},
   "outputs": [
    {
     "data": {
      "text/plain": [
       "79296.845571512735"
      ]
     },
     "execution_count": 203,
     "metadata": {},
     "output_type": "execute_result"
    }
   ],
   "source": [
    "u_starextra"
   ]
  },
  {
   "cell_type": "markdown",
   "metadata": {},
   "source": [
    "### Solution Double Check"
   ]
  },
  {
   "cell_type": "code",
   "execution_count": 204,
   "metadata": {},
   "outputs": [
    {
     "name": "stdout",
     "output_type": "stream",
     "text": [
      "ok\n"
     ]
    }
   ],
   "source": [
    "dict_subs = dict(zip(beta_symbs, beta_starextra.flatten().tolist()[0]))\n",
    "dict_subs.update(dict(zip(delta_d, delta_d_starextra.flatten().tolist()[0])))\n",
    "\n",
    "test = 'ok'\n",
    "for DBi in (DB_blocks + DB_add_blocks):\n",
    "        m = numpy.matrix(mrepl(DBi, dict_subs)).astype(float)\n",
    "        for v in numpy.linalg.eigvals( m ):\n",
    "            if v <= 0.0: test = 'fail'\n",
    "print(test)"
   ]
  },
  {
   "cell_type": "code",
   "execution_count": 205,
   "metadata": {},
   "outputs": [],
   "source": [
    "numpy.savetxt(tmpfolder + 'solutions/' + indentification_traj + '_beta_starextra.dat', beta_starextra)"
   ]
  },
  {
   "cell_type": "markdown",
   "metadata": {},
   "source": [
    "### Inertia Matrix Definiteness Tests"
   ]
  },
  {
   "cell_type": "code",
   "execution_count": 221,
   "metadata": {},
   "outputs": [],
   "source": [
    "def test_mass_matrix_psd(beta_solution):\n",
    "    K = rbt.dyn.Pb.T + rbt.dyn.Kd * rbt.dyn.Pd.T\n",
    "    A = numpy.matrix(K).astype(float)\n",
    "    b = numpy.matrix(beta_solution).astype(float)\n",
    "    x = numpy.linalg.pinv(A) * b\n",
    "    d_test = x\n",
    "    \n",
    "    M_func_def = sympybotics.robotcodegen.robot_code_to_func( 'python', rbt.M_code, 'M', 'M_func', rbt.rbtdef)\n",
    "    exec(M_func_def, globals())\n",
    "    global sin, cos\n",
    "    from math import sin, cos\n",
    "    \n",
    "    ntests = 10000\n",
    "    \n",
    "    ok = 0\n",
    "    nok = 0\n",
    "    for i in range(ntests):\n",
    "        q_test = numpy.random.rand(rbt.dof)\n",
    "        M_out = M_func( numpy.array(d_test).flatten().tolist(), q_test)\n",
    "        M = numpy.matrix(M_out).reshape((rbt.dof,rbt.dof))\n",
    "        try:\n",
    "            c = numpy.linalg.cholesky(M)\n",
    "        except:\n",
    "            nok += 1\n",
    "            continue\n",
    "        ok += 1\n",
    "        \n",
    "    print 'ok     %8i  %3i%%'%(ok, 100.0*ok/ntests) \n",
    "    print 'not ok %8i  %3i%%'%(nok, 100.0*nok/ntests)\n",
    "    if nok > 0 :\n",
    "        print('\\nNot PSD -> Not feasible!')\n",
    "    else:\n",
    "        print('\\nSeems feasible.')"
   ]
  },
  {
   "cell_type": "code",
   "execution_count": 222,
   "metadata": {},
   "outputs": [
    {
     "name": "stdout",
     "output_type": "stream",
     "text": [
      "ok         4416   44%\n",
      "not ok     5584   55%\n",
      "\n",
      "Not PSD -> Not feasible!\n"
     ]
    }
   ],
   "source": [
    "beta_ols = numpy.matrix(numpy.loadtxt(tmpfolder + 'solutions/traj1_beta_ols.dat')).T\n",
    "test_mass_matrix_psd(beta_ols)"
   ]
  },
  {
   "cell_type": "code",
   "execution_count": 223,
   "metadata": {},
   "outputs": [
    {
     "name": "stdout",
     "output_type": "stream",
     "text": [
      "ok        10000  100%\n",
      "not ok        0    0%\n",
      "\n",
      "Seems feasible.\n"
     ]
    }
   ],
   "source": [
    "beta_starextra = numpy.matrix(numpy.loadtxt(tmpfolder + 'solutions/traj1_beta_starextra.dat')).T\n",
    "test_mass_matrix_psd(beta_starextra)"
   ]
  },
  {
   "cell_type": "markdown",
   "metadata": {},
   "source": [
    "5 - Regression Model Validation\n",
    "===================================================="
   ]
  },
  {
   "cell_type": "code",
   "execution_count": 224,
   "metadata": {},
   "outputs": [],
   "source": [
    "import numpy as np\n",
    "import sympybotics\n",
    "import pickle\n",
    "\n",
    "from collections import OrderedDict\n",
    "from support_funcs.utils import ListTable"
   ]
  },
  {
   "cell_type": "code",
   "execution_count": 225,
   "metadata": {},
   "outputs": [],
   "source": [
    "with open(tmpfolder +  'robotmodels/wam7_model.pkl', 'rb' ) as file:\n",
    "          rbt = pickle.load( file )"
   ]
  },
  {
   "cell_type": "code",
   "execution_count": 226,
   "metadata": {},
   "outputs": [],
   "source": [
    "def analyse(W, omega, R1, beta):\n",
    "    from numpy import matrix, mean\n",
    "    from numpy.linalg import cond, norm\n",
    "    \n",
    "    p = dict()\n",
    "    \n",
    "    n = W.shape[0]\n",
    "    \n",
    "    omega_norm = norm(omega)\n",
    "    omega_mean = mean(omega)\n",
    "    \n",
    "    p['err'] = norm(omega - W * beta)\n",
    "    p['merr'] = p['err'] / n\n",
    "    \n",
    "    p['se'] = p['err']**2\n",
    "    p['mse'] = p['se']/(n-W.shape[1])\n",
    "    p['rmse'] = p['mse']**0.5\n",
    "    \n",
    "    C = p['mse'] * (R1.T * R1).I\n",
    "    p['sd'] = np.sqrt(C.diagonal()).T\n",
    "    p['sd%'] = 100. * p['sd'] / np.abs(beta)\n",
    "    \n",
    "    p['relerr'] = p['err']/ omega_norm\n",
    "    p['relerr%'] = p['relerr']*100.\n",
    "    \n",
    "    p['1-r2'] = p['err']**2 / norm(omega - omega_mean)**2\n",
    "    p['r2'] = 1 - p['1-r2']\n",
    "\n",
    "    return p\n",
    "    "
   ]
  },
  {
   "cell_type": "code",
   "execution_count": 227,
   "metadata": {},
   "outputs": [],
   "source": [
    "trajs = OrderedDict([('id', 'traj1'),\n",
    "                     ('vA', 'traj2'),\n",
    "                     ('vB', 'traj3'),\n",
    "                     ('vC', 'traj4')])\n",
    "\n",
    "\n",
    "betas = OrderedDict([('beta_ols', 'B^'),\n",
    "                     ('beta_prime', 'B\\''),\n",
    "                     ('beta_star', 'B*'),\n",
    "                     ('beta_starextra', 'B*e')])"
   ]
  },
  {
   "cell_type": "code",
   "execution_count": 229,
   "metadata": {},
   "outputs": [],
   "source": [
    "solutions_beta = {betaname:np.matrix(np.loadtxt(tmpfolder + 'solutions/%s_%s.dat'%(trajs['id'], betaname))).T for betaname in betas}"
   ]
  },
  {
   "cell_type": "code",
   "execution_count": 232,
   "metadata": {},
   "outputs": [
    {
     "name": "stdout",
     "output_type": "stream",
     "text": [
      "id\n",
      "vA\n",
      "vB\n",
      "vC\n"
     ]
    }
   ],
   "source": [
    "analysis = dict()\n",
    "\n",
    "for traj in trajs:\n",
    "    from numpy.linalg import cond\n",
    "    \n",
    "    print(traj)\n",
    "    \n",
    "    analysis[traj] = dict()\n",
    "    \n",
    "    regr_mats = np.load(tmpfolder + 'procdata/' + trajs[traj] + '_regr.npz')\n",
    "    W = np.matrix(regr_mats['W'])\n",
    "    omega = np.matrix(regr_mats['omega'])\n",
    "    R1 = np.matrix(regr_mats['R1'])\n",
    "    \n",
    "    analysis[traj]['cond'] = cond(W)\n",
    "    \n",
    "    analysis[traj]['betas'] = dict()\n",
    "    \n",
    "    for betaname in betas:\n",
    "        beta = solutions_beta[betaname]\n",
    "        analysis[traj]['betas'][betaname] = analyse(W, omega, R1, beta)\n",
    "    \n",
    "    del W, omega, R1"
   ]
  },
  {
   "cell_type": "code",
   "execution_count": 233,
   "metadata": {},
   "outputs": [
    {
     "data": {
      "text/html": [
       "<table><tr><td></td><td>cond</td><td>B^</td><td>B'</td><td>B*</td><td>B*e</td></tr><tr><td>id</td><td>99</td><td>6.60</td><td>6.68</td><td>6.64</td><td>6.65</td></tr><tr><td>vA</td><td>94</td><td>7.16</td><td>7.14</td><td>7.01</td><td>6.98</td></tr><tr><td>vB</td><td>106</td><td>8.47</td><td>8.49</td><td>8.44</td><td>8.40</td></tr><tr><td>vC</td><td>101</td><td>6.81</td><td>6.79</td><td>6.76</td><td>6.74</td></tr></table>"
      ],
      "text/plain": [
       "[['', 'cond', 'B^', \"B'\", 'B*', 'B*e'],\n",
       " ['id', '99', '6.60', '6.68', '6.64', '6.65'],\n",
       " ['vA', '94', '7.16', '7.14', '7.01', '6.98'],\n",
       " ['vB', '106', '8.47', '8.49', '8.44', '8.40'],\n",
       " ['vC', '101', '6.81', '6.79', '6.76', '6.74']]"
      ]
     },
     "execution_count": 233,
     "metadata": {},
     "output_type": "execute_result"
    }
   ],
   "source": [
    "prop = lambda x: x['relerr%']\n",
    "form = '%.2f'\n",
    "\n",
    "table = ListTable()\n",
    "table.append([''] + ['cond'] + betas.values())\n",
    "for (traj, trajname) in zip(trajs, ['identification', 'validation A', 'validation B', 'validation C']):\n",
    "    row = [traj] + ['%.0f'%analysis[traj]['cond']] + [ form%prop(analysis[traj]['betas'][b]) for b in betas]\n",
    "    table.append(row)\n",
    "table"
   ]
  },
  {
   "cell_type": "code",
   "execution_count": 234,
   "metadata": {},
   "outputs": [],
   "source": [
    "import yaml, sympy\n",
    "with open(datafolder + 'robotparams/wam7_cad.yml', 'r') as f:\n",
    "    wam7_cad = yaml.load(f)\n",
    "delta_cad = sympy.Matrix([wam7_cad.get(str(d), d) for d in rbt.dyn.dynparms])\n",
    "beta_cad = (rbt.dyn.Pb.T + rbt.dyn.Kd * rbt.dyn.Pd.T) * delta_cad"
   ]
  },
  {
   "cell_type": "code",
   "execution_count": 271,
   "metadata": {},
   "outputs": [
    {
     "data": {
      "text/html": [
       "<table><tr><td></td><td>Bcad</td><td>B^</td><td>% std dev B^</td><td>B*e</td></tr><tr><td>Ia_1 +  ...</td><td>Ia_1 + 0.1328</td><td>0.3381</td><td>0.53</td><td>0.3049</td></tr><tr><td>fv_1</td><td>---</td><td>1.63</td><td>0.28</td><td>1.648</td></tr><tr><td>fc_1</td><td>---</td><td>1.601</td><td>0.26</td><td>1.605</td></tr><tr><td>fo_1</td><td>---</td><td>0.01037</td><td>18</td><td>0.007658</td></tr><tr><td>L_2xx - ...</td><td>1.181</td><td>1.017</td><td>0.29</td><td>1.04</td></tr><tr><td>L_2xy</td><td>1.347e-5</td><td>-0.0505</td><td>3.2</td><td>-0.05561</td></tr><tr><td>L_2xz</td><td>0.0001170</td><td>-0.02539</td><td>4.8</td><td>-0.02304</td></tr><tr><td>Ia_2 +  ...</td><td>Ia_2 + 1.189</td><td>1.451</td><td>0.23</td><td>1.446</td></tr><tr><td>L_2yz</td><td>-3.659e-5</td><td>-0.03322</td><td>4.3</td><td>-0.038</td></tr><tr><td>l_2x</td><td>-0.009183</td><td>0.08154</td><td>1.7</td><td>0.08391</td></tr><tr><td>l_2z -  ...</td><td>2.333</td><td>2.358</td><td>0.027</td><td>2.36</td></tr><tr><td>fv_2</td><td>---</td><td>2.372</td><td>0.21</td><td>2.364</td></tr><tr><td>fc_2</td><td>---</td><td>0.533</td><td>0.71</td><td>0.5332</td></tr><tr><td>fo_2</td><td>---</td><td>0.898</td><td>1.2</td><td>0.9296</td></tr><tr><td>L_3xx - ...</td><td>0.003856</td><td>-0.01168</td><td>20</td><td>0.0183</td></tr><tr><td>L_3xy - ...</td><td>-2.509e-5</td><td>0.03663</td><td>2.9</td><td>0.02517</td></tr><tr><td>L_3xz</td><td>-5.098e-6</td><td>0.002625</td><td>45</td><td>-0.00827</td></tr><tr><td>L_3yy + ...</td><td>-0.006954</td><td>-0.06614</td><td>2.2</td><td>0.001251</td></tr><tr><td>L_3yz</td><td>5.295e-6</td><td>-0.04278</td><td>2.5</td><td>-0.03598</td></tr><tr><td>l_3x +  ...</td><td>0.1476</td><td>0.1194</td><td>0.44</td><td>0.1255</td></tr><tr><td>l_3z +  ...</td><td>-0.0004910</td><td>-0.002107</td><td>18</td><td>-0.0009105</td></tr><tr><td>Ia_3</td><td>---</td><td>0.1139</td><td>1.3</td><td>0.06988</td></tr><tr><td>fv_3</td><td>---</td><td>0.8554</td><td>0.52</td><td>0.8111</td></tr><tr><td>fc_3</td><td>---</td><td>0.3454</td><td>1.1</td><td>0.3718</td></tr><tr><td>fo_3</td><td>---</td><td>-0.09566</td><td>2.1</td><td>-0.08749</td></tr><tr><td>L_4xx - ...</td><td>0.1149</td><td>0.165</td><td>0.9</td><td>0.1385</td></tr><tr><td>L_4xy + ...</td><td>-3.944e-5</td><td>0.01292</td><td>5.4</td><td>0.009043</td></tr><tr><td>L_4xz</td><td>-8.193e-5</td><td>-0.02431</td><td>2.4</td><td>-0.01386</td></tr><tr><td>L_4yy + ...</td><td>0.1057</td><td>0.1213</td><td>1.1</td><td>0.1239</td></tr><tr><td>L_4yz</td><td>9.417e-5</td><td>-0.01128</td><td>6.2</td><td>-0.005383</td></tr><tr><td>l_4x -  ...</td><td>-0.1235</td><td>-0.1057</td><td>0.35</td><td>-0.101</td></tr><tr><td>l_4z -  ...</td><td>0.5010</td><td>0.5209</td><td>0.088</td><td>0.5174</td></tr><tr><td>Ia_4</td><td>---</td><td>-0.005825</td><td>27</td><td>1.009e-06</td></tr><tr><td>fv_4</td><td>---</td><td>0.6153</td><td>0.8</td><td>0.6005</td></tr><tr><td>fc_4</td><td>---</td><td>0.6291</td><td>0.57</td><td>0.6417</td></tr><tr><td>fo_4</td><td>---</td><td>0.05353</td><td>5.4</td><td>0.03402</td></tr><tr><td>L_5xx - ...</td><td>0.0005648</td><td>-0.008932</td><td>12</td><td>-0.01554</td></tr><tr><td>L_5xy</td><td>-2.564e-7</td><td>0.005089</td><td>7.4</td><td>-0.002231</td></tr><tr><td>L_5xz</td><td>1.882e-9</td><td>0.0198</td><td>2.4</td><td>0.01646</td></tr><tr><td>L_5yy + ...</td><td>0.0006530</td><td>0.006071</td><td>11</td><td>0.007886</td></tr><tr><td>L_5yz</td><td>8.326e-7</td><td>-0.0092</td><td>4.5</td><td>-0.002773</td></tr><tr><td>l_5x</td><td>1.104e-5</td><td>0.006003</td><td>4.9</td><td>0.006159</td></tr><tr><td>l_5z +  ...</td><td>-0.006580</td><td>-0.01351</td><td>2</td><td>-0.01388</td></tr><tr><td>Ia_5</td><td>---</td><td>-0.0009694</td><td>81</td><td>1.004e-06</td></tr><tr><td>fv_5</td><td>---</td><td>0.1457</td><td>3.3</td><td>0.1387</td></tr><tr><td>fc_5</td><td>---</td><td>0.03597</td><td>7.7</td><td>0.03627</td></tr><tr><td>fo_5</td><td>---</td><td>0.004681</td><td>43</td><td>0.001217</td></tr><tr><td>L_6xx - ...</td><td>0.0006155</td><td>0.003965</td><td>20</td><td>0.009329</td></tr><tr><td>L_6xy</td><td>-1.483e-6</td><td>0.001507</td><td>22</td><td>-0.002418</td></tr><tr><td>L_6xz</td><td>2.005e-6</td><td>-0.01062</td><td>3.4</td><td>-0.003334</td></tr><tr><td>L_6yy + ...</td><td>0.0007576</td><td>0.01942</td><td>3</td><td>0.01731</td></tr><tr><td>L_6yz</td><td>0.0002216</td><td>0.00495</td><td>7.2</td><td>0.004267</td></tr><tr><td>l_6x</td><td>-5.125e-5</td><td>-0.007862</td><td>3.2</td><td>-0.006727</td></tr><tr><td>l_6z +  ...</td><td>0.01421</td><td>0.009031</td><td>2.4</td><td>0.009509</td></tr><tr><td>Ia_6</td><td>---</td><td>-0.008871</td><td>10</td><td>1.003e-06</td></tr><tr><td>fv_6</td><td>---</td><td>0.1437</td><td>3.2</td><td>0.1344</td></tr><tr><td>fc_6</td><td>---</td><td>0.06428</td><td>4.7</td><td>0.07144</td></tr><tr><td>fo_6</td><td>---</td><td>-0.007354</td><td>26</td><td>-0.007547</td></tr><tr><td>L_7xx - ...</td><td>-3.286e-7</td><td>-0.01584</td><td>3.2</td><td>-0.01357</td></tr><tr><td>L_7xy</td><td>1.909e-7</td><td>-0.002082</td><td>12</td><td>-0.0009831</td></tr><tr><td>L_7xz</td><td>-1.771e-8</td><td>0.0002248</td><td>61</td><td>6.76e-05</td></tr><tr><td>L_7yz</td><td>3.623e-8</td><td>0.0002694</td><td>52</td><td>0.0007734</td></tr><tr><td>L_7zz</td><td>7.408e-5</td><td>-0.0005387</td><td>29</td><td>0.0003627</td></tr><tr><td>l_7x</td><td>-5.474e-6</td><td>0.00782</td><td>2.4</td><td>0.007006</td></tr><tr><td>l_7y</td><td>1.120e-5</td><td>-0.0003508</td><td>52</td><td>-0.0003549</td></tr><tr><td>Ia_7</td><td>---</td><td>0.0009977</td><td>27</td><td>0.0001039</td></tr><tr><td>fv_7</td><td>---</td><td>0.05763</td><td>5.6</td><td>0.05625</td></tr><tr><td>fc_7</td><td>---</td><td>0.0118</td><td>27</td><td>0.01253</td></tr><tr><td>fo_7</td><td>---</td><td>-0.002192</td><td>84</td><td>-0.002699</td></tr></table>"
      ],
      "text/plain": [
       "[['', 'Bcad', 'B^', '% std dev B^', 'B*e'],\n",
       " ['Ia_1 +  ...', Ia_1 + 0.1328, '0.3381', '0.53', '0.3049'],\n",
       " ['fv_1', '---', '1.63', '0.28', '1.648'],\n",
       " ['fc_1', '---', '1.601', '0.26', '1.605'],\n",
       " ['fo_1', '---', '0.01037', '18', '0.007658'],\n",
       " ['L_2xx - ...', 1.181, '1.017', '0.29', '1.04'],\n",
       " ['L_2xy', 1.347e-5, '-0.0505', '3.2', '-0.05561'],\n",
       " ['L_2xz', 0.0001170, '-0.02539', '4.8', '-0.02304'],\n",
       " ['Ia_2 +  ...', Ia_2 + 1.189, '1.451', '0.23', '1.446'],\n",
       " ['L_2yz', -3.659e-5, '-0.03322', '4.3', '-0.038'],\n",
       " ['l_2x', -0.009183, '0.08154', '1.7', '0.08391'],\n",
       " ['l_2z -  ...', 2.333, '2.358', '0.027', '2.36'],\n",
       " ['fv_2', '---', '2.372', '0.21', '2.364'],\n",
       " ['fc_2', '---', '0.533', '0.71', '0.5332'],\n",
       " ['fo_2', '---', '0.898', '1.2', '0.9296'],\n",
       " ['L_3xx - ...', 0.003856, '-0.01168', '20', '0.0183'],\n",
       " ['L_3xy - ...', -2.509e-5, '0.03663', '2.9', '0.02517'],\n",
       " ['L_3xz', -5.098e-6, '0.002625', '45', '-0.00827'],\n",
       " ['L_3yy + ...', -0.006954, '-0.06614', '2.2', '0.001251'],\n",
       " ['L_3yz', 5.295e-6, '-0.04278', '2.5', '-0.03598'],\n",
       " ['l_3x +  ...', 0.1476, '0.1194', '0.44', '0.1255'],\n",
       " ['l_3z +  ...', -0.0004910, '-0.002107', '18', '-0.0009105'],\n",
       " ['Ia_3', '---', '0.1139', '1.3', '0.06988'],\n",
       " ['fv_3', '---', '0.8554', '0.52', '0.8111'],\n",
       " ['fc_3', '---', '0.3454', '1.1', '0.3718'],\n",
       " ['fo_3', '---', '-0.09566', '2.1', '-0.08749'],\n",
       " ['L_4xx - ...', 0.1149, '0.165', '0.9', '0.1385'],\n",
       " ['L_4xy + ...', -3.944e-5, '0.01292', '5.4', '0.009043'],\n",
       " ['L_4xz', -8.193e-5, '-0.02431', '2.4', '-0.01386'],\n",
       " ['L_4yy + ...', 0.1057, '0.1213', '1.1', '0.1239'],\n",
       " ['L_4yz', 9.417e-5, '-0.01128', '6.2', '-0.005383'],\n",
       " ['l_4x -  ...', -0.1235, '-0.1057', '0.35', '-0.101'],\n",
       " ['l_4z -  ...', 0.5010, '0.5209', '0.088', '0.5174'],\n",
       " ['Ia_4', '---', '-0.005825', '27', '1.009e-06'],\n",
       " ['fv_4', '---', '0.6153', '0.8', '0.6005'],\n",
       " ['fc_4', '---', '0.6291', '0.57', '0.6417'],\n",
       " ['fo_4', '---', '0.05353', '5.4', '0.03402'],\n",
       " ['L_5xx - ...', 0.0005648, '-0.008932', '12', '-0.01554'],\n",
       " ['L_5xy', -2.564e-7, '0.005089', '7.4', '-0.002231'],\n",
       " ['L_5xz', 1.882e-9, '0.0198', '2.4', '0.01646'],\n",
       " ['L_5yy + ...', 0.0006530, '0.006071', '11', '0.007886'],\n",
       " ['L_5yz', 8.326e-7, '-0.0092', '4.5', '-0.002773'],\n",
       " ['l_5x', 1.104e-5, '0.006003', '4.9', '0.006159'],\n",
       " ['l_5z +  ...', -0.006580, '-0.01351', '2', '-0.01388'],\n",
       " ['Ia_5', '---', '-0.0009694', '81', '1.004e-06'],\n",
       " ['fv_5', '---', '0.1457', '3.3', '0.1387'],\n",
       " ['fc_5', '---', '0.03597', '7.7', '0.03627'],\n",
       " ['fo_5', '---', '0.004681', '43', '0.001217'],\n",
       " ['L_6xx - ...', 0.0006155, '0.003965', '20', '0.009329'],\n",
       " ['L_6xy', -1.483e-6, '0.001507', '22', '-0.002418'],\n",
       " ['L_6xz', 2.005e-6, '-0.01062', '3.4', '-0.003334'],\n",
       " ['L_6yy + ...', 0.0007576, '0.01942', '3', '0.01731'],\n",
       " ['L_6yz', 0.0002216, '0.00495', '7.2', '0.004267'],\n",
       " ['l_6x', -5.125e-5, '-0.007862', '3.2', '-0.006727'],\n",
       " ['l_6z +  ...', 0.01421, '0.009031', '2.4', '0.009509'],\n",
       " ['Ia_6', '---', '-0.008871', '10', '1.003e-06'],\n",
       " ['fv_6', '---', '0.1437', '3.2', '0.1344'],\n",
       " ['fc_6', '---', '0.06428', '4.7', '0.07144'],\n",
       " ['fo_6', '---', '-0.007354', '26', '-0.007547'],\n",
       " ['L_7xx - ...', -3.286e-7, '-0.01584', '3.2', '-0.01357'],\n",
       " ['L_7xy', 1.909e-7, '-0.002082', '12', '-0.0009831'],\n",
       " ['L_7xz', -1.771e-8, '0.0002248', '61', '6.76e-05'],\n",
       " ['L_7yz', 3.623e-8, '0.0002694', '52', '0.0007734'],\n",
       " ['L_7zz', 7.408e-5, '-0.0005387', '29', '0.0003627'],\n",
       " ['l_7x', -5.474e-6, '0.00782', '2.4', '0.007006'],\n",
       " ['l_7y', 1.120e-5, '-0.0003508', '52', '-0.0003549'],\n",
       " ['Ia_7', '---', '0.0009977', '27', '0.0001039'],\n",
       " ['fv_7', '---', '0.05763', '5.6', '0.05625'],\n",
       " ['fc_7', '---', '0.0118', '27', '0.01253'],\n",
       " ['fo_7', '---', '-0.002192', '84', '-0.002699']]"
      ]
     },
     "execution_count": 271,
     "metadata": {},
     "output_type": "execute_result"
    }
   ],
   "source": [
    "form = '%.4g'\n",
    "\n",
    "import sympy\n",
    "\n",
    "table = ListTable()\n",
    "header = ['', 'Bcad', 'B^', '% std dev B^', 'B*e']\n",
    "table.append(header)\n",
    "for i, b in enumerate(rbt.dyn.baseparms):\n",
    "    if beta_cad[i].is_Number:\n",
    "        cad_v = sympy.N(beta_cad[i], 4)\n",
    "    elif beta_cad[i].is_Symbol:\n",
    "        cad_v = '---'\n",
    "    else:\n",
    "        cad_v = sympy.N(beta_cad[i], 4)\n",
    "    row = ['%.7s ...'%b if len(str(b)) > 7 else str(b), cad_v]\n",
    "    row += [form%solutions_beta['beta_ols'][i,0], '%.2g'%analysis['id']['betas']['beta_ols']['sd%'][i,0]]\n",
    "    row += [form%solutions_beta['beta_starextra'][i,0]]\n",
    "    table.append(row)\n",
    "table"
   ]
  },
  {
   "cell_type": "markdown",
   "metadata": {},
   "source": [
    "## Torque Plot"
   ]
  },
  {
   "cell_type": "code",
   "execution_count": 301,
   "metadata": {},
   "outputs": [],
   "source": [
    "traj = 'vA'\n",
    "betaname = 'beta_starextra'"
   ]
  },
  {
   "cell_type": "code",
   "execution_count": 302,
   "metadata": {},
   "outputs": [],
   "source": [
    "regr_mats = np.load(tmpfolder + 'procdata/' + trajs[traj] + '_regr.npz')\n",
    "W = np.matrix(regr_mats['W'])\n",
    "omega = np.matrix(regr_mats['omega'])\n",
    "\n",
    "regr_mats = np.load(tmpfolder + 'procdata/' + trajs[traj] + '_proc.npz')\n",
    "t = regr_mats['t']\n",
    "tau_proc = np.matrix(regr_mats['tau'])\n",
    "\n",
    "regr_mats = np.load(tmpfolder + 'procdata/' + trajs[traj] + '_raw.npz')\n",
    "tau_raw = np.matrix(regr_mats['tau'])"
   ]
  },
  {
   "cell_type": "code",
   "execution_count": 303,
   "metadata": {},
   "outputs": [],
   "source": [
    "beta_solution = np.matrix(np.loadtxt(tmpfolder + 'solutions/%s_%s.dat'%(trajs['id'], betaname))).T"
   ]
  },
  {
   "cell_type": "code",
   "execution_count": 304,
   "metadata": {},
   "outputs": [],
   "source": [
    "tau = tau_raw"
   ]
  },
  {
   "cell_type": "code",
   "execution_count": 305,
   "metadata": {},
   "outputs": [],
   "source": [
    "omega_pred = W * beta_solution\n",
    "tau_pred = omega_pred.reshape( omega_pred.shape[0]/tau.shape[1], tau.shape[1] )\n",
    "err_pred = tau - tau_pred"
   ]
  },
  {
   "cell_type": "code",
   "execution_count": 306,
   "metadata": {},
   "outputs": [],
   "source": [
    "joint = 7\n",
    "firsts = 20000\n",
    "s=tau_raw.shape[0]"
   ]
  },
  {
   "cell_type": "code",
   "execution_count": 310,
   "metadata": {},
   "outputs": [
    {
     "data": {
      "image/png": "[encoded data removed]",
      "text/plain": [
       "<matplotlib.figure.Figure at 0xc078b10>"
      ]
     },
     "metadata": {},
     "output_type": "display_data"
    }
   ],
   "source": [
    "from matplotlib import pyplot as plt\n",
    "plt.close()\n",
    "\n",
    "plt.figure(figsize=(12,8))\n",
    "\n",
    "axes = []\n",
    "for i in range(tau.shape[1]):\n",
    "    ax = plt.subplot(3, 3, i+1)\n",
    "    ax.plot(t[:firsts],tau_raw[:,i][:firsts], label=\"Measured torque\")\n",
    "    ax.plot(t[:firsts],tau_pred[:,i][:firsts], label=\"Estimated torque\")\n",
    "    ax.plot(t[:firsts],err_pred[:,i][:firsts], label=\"Error\")\n",
    "    ax.set_title( \"Joint %d\"%(i+1) )\n",
    "    plt.xlabel(\"Time (s)\")\n",
    "    plt.ylabel(\"Torque (Nm)\")\n",
    "    axes.append(ax)\n",
    "\n",
    "plt.tight_layout()\n",
    "\n",
    "plt.show()"
   ]
  },
  {
   "cell_type": "code",
   "execution_count": null,
   "metadata": {},
   "outputs": [],
   "source": []
  },
  {
   "cell_type": "markdown",
   "metadata": {},
   "source": [
    "---------------------------\n",
    "\n",
    "---------------------------\n",
    "\n",
    "---------------------------\n",
    "\n",
    "---------------------------\n",
    "\n",
    "---------------------------\n",
    "\n",
    "---------------------------\n",
    "\n",
    "---------------------------\n",
    "\n",
    "---------------------------\n",
    "\n",
    "---------------------------\n",
    "\n",
    "### (generate readme and notebook preview)"
   ]
  },
  {
   "cell_type": "code",
   "execution_count": 3,
   "metadata": {},
   "outputs": [],
   "source": [
    "def save_files(): \n",
    "    from IPython.display import display, Javascript\n",
    "    Javascript('IPython.notebook.save_notebook()')\n",
    "    \n",
    "    import json\n",
    "    with open('WAM7 Dynamic Parameter Identification.ipynb', 'r') as f:\n",
    "        d = json.load(f)\n",
    "    with open('README.md', 'w') as f:\n",
    "        f.write(''.join(d['worksheets'][0]['cells'][0]['source']).encode('UTF-8'))\n",
    "    \n",
    "    !ipython nbconvert \"WAM7 Dynamic Parameter Identification.ipynb\" --to html"
   ]
  },
  {
   "cell_type": "code",
   "execution_count": 3,
   "metadata": {},
   "outputs": [],
   "source": [
    "#save_files()"
   ]
  },
  {
   "cell_type": "code",
   "execution_count": 36,
   "metadata": {},
   "outputs": [],
   "source": [
    "#!git status"
   ]
  },
  {
   "cell_type": "code",
   "execution_count": 37,
   "metadata": {},
   "outputs": [],
   "source": [
    "#!git commit -a -m \"Add automathic README.md file generator\""
   ]
  },
  {
   "cell_type": "code",
   "execution_count": 38,
   "metadata": {},
   "outputs": [],
   "source": [
    "#!git push"
   ]
  },
  {
   "cell_type": "code",
   "execution_count": null,
   "metadata": {},
   "outputs": [],
   "source": []
  }
 ],
 "metadata": {
  "kernelspec": {
   "display_name": "Python 2",
   "language": "python",
   "name": "python2"
  },
  "language_info": {
   "codemirror_mode": {
    "name": "ipython",
    "version": 2
   },
   "file_extension": ".py",
   "mimetype": "text/x-python",
   "name": "python",
   "nbconvert_exporter": "python",
   "pygments_lexer": "ipython2",
   "version": "2.7.18"
  }
 },
 "nbformat": 4,
 "nbformat_minor": 1
}
